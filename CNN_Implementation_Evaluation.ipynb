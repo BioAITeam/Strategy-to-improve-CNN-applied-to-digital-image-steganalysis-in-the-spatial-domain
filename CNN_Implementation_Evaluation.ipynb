{
  "nbformat": 4,
  "nbformat_minor": 0,
  "metadata": {
    "kernelspec": {
      "name": "python3",
      "display_name": "Python 3"
    },
    "colab": {
      "name": "Entrenamiento_redes.ipynb",
      "provenance": [],
      "collapsed_sections": [
        "sU6BGACxvViT",
        "KEIfvfvKI5yb",
        "OntHeNwy2qLv",
        "Qq3HLUUa7dxq",
        "DraLyVUl7gGa",
        "ihW1dzfI7vi5",
        "9m2WTBb47z1e",
        "eV5dUumyrN89",
        "sdcbCUwPsUeL",
        "DHzLnW8Vq4Hu",
        "a-k6wzeAvVic",
        "8WiDezZevVih",
        "tjO9O-FuvVim",
        "RxywUeDTvai2",
        "j9vIZBKIwMVG",
        "_Cr9P6MyvVjr",
        "TAwdJPb7vVjs",
        "IKSq9qtDHOxM",
        "fAV3wqjaHOxR",
        "KzkcZhsQHOxU",
        "-g7j93bXHOxX",
        "6KY5Og52HOxb",
        "bFqTQP8IHOxd",
        "79T69oXyHOxf",
        "73thtAiFyn1h",
        "nr5UBsiZvVkt",
        "q5S8pplX0DZ2",
        "yelEG-390DZ3",
        "dsqWVx6R0DZ6",
        "UayzVWRk0DZ7",
        "Ue_0zW5W0DaH",
        "F47E5LgQ0DaQ",
        "SS9Eh-mK0DaZ",
        "RuoQ7NB50Dah",
        "UKD9qBrD0Daq",
        "gxs88ncZ0Da3",
        "g15iZLZn0DbC",
        "G1hugDZs0DbH",
        "1zylPUNJ0DbK",
        "JEXZ2j-_0DbK",
        "kcbuvJvf0DbY",
        "2eUQN8sj0Dbj",
        "0I7gjkMz0Dbx",
        "3iirR6U40Db6",
        "b2zPtEH90DcF",
        "4_aoi5uJ0DcR",
        "QR7d94Cd0dO-",
        "wMLysAtA0dO-",
        "_a_pbpww0dPA",
        "HsmKbAGQ0dPA",
        "ghRWZuUj0dPH",
        "NshtqWUw0dPO",
        "9PgP2b9v0dPb",
        "wKsomvsL0dPj",
        "JwEP9nMS0dPs",
        "FtC3rq_l0dP0",
        "EQI6whkS0dP8",
        "xE9Z2uLY0dP9",
        "hr94zU0y0dP9",
        "waq22BcU0dQF",
        "QlWCOBVE0dQM",
        "z_9o3PgT0dQa",
        "rPnVXcR90dQg",
        "L6uqTaQP0dQo",
        "wN-TzSHa0dQw"
      ],
      "toc_visible": true
    },
    "accelerator": "GPU"
  },
  "cells": [
    {
      "cell_type": "markdown",
      "metadata": {
        "id": "sen9uJN-vViF"
      },
      "source": [
        "# TESTING IMPROVED CNNs IN WOW AND S-UNIWARD"
      ]
    },
    {
      "cell_type": "code",
      "metadata": {
        "id": "BQcFmxU9rLSN",
        "outputId": "e52c9e00-3b39-4b71-a908-d7772729c9c0",
        "colab": {
          "base_uri": "https://localhost:8080/"
        }
      },
      "source": [
        "from google.colab import drive\n",
        "drive.mount('/content/drive')\n"
      ],
      "execution_count": null,
      "outputs": [
        {
          "output_type": "stream",
          "text": [
            "Drive already mounted at /content/drive; to attempt to forcibly remount, call drive.mount(\"/content/drive\", force_remount=True).\n"
          ],
          "name": "stdout"
        }
      ]
    },
    {
      "cell_type": "markdown",
      "metadata": {
        "id": "tJrELwCtmw97"
      },
      "source": [
        "\n",
        "\n",
        "```\n",
        "function ClickConnect(){\n",
        "console.log(\"Working\"); \n",
        "document.querySelector(\"colab-toolbar-button#connect\").click() \n",
        "}\n",
        "setInterval(ClickConnect,60000)\n",
        "```\n",
        "\n"
      ]
    },
    {
      "cell_type": "code",
      "metadata": {
        "id": "mFuSKbrbkfaQ",
        "outputId": "8fb194f6-d530-4613-e076-6f52e64e6abf",
        "colab": {
          "base_uri": "https://localhost:8080/"
        }
      },
      "source": [
        "!nvidia-smi"
      ],
      "execution_count": null,
      "outputs": [
        {
          "output_type": "stream",
          "text": [
            "Fri Oct 30 17:01:13 2020       \n",
            "+-----------------------------------------------------------------------------+\n",
            "| NVIDIA-SMI 455.32.00    Driver Version: 418.67       CUDA Version: 10.1     |\n",
            "|-------------------------------+----------------------+----------------------+\n",
            "| GPU  Name        Persistence-M| Bus-Id        Disp.A | Volatile Uncorr. ECC |\n",
            "| Fan  Temp  Perf  Pwr:Usage/Cap|         Memory-Usage | GPU-Util  Compute M. |\n",
            "|                               |                      |               MIG M. |\n",
            "|===============================+======================+======================|\n",
            "|   0  Tesla T4            Off  | 00000000:00:04.0 Off |                    0 |\n",
            "| N/A   39C    P8     9W /  70W |      0MiB / 15079MiB |      0%      Default |\n",
            "|                               |                      |                 ERR! |\n",
            "+-------------------------------+----------------------+----------------------+\n",
            "                                                                               \n",
            "+-----------------------------------------------------------------------------+\n",
            "| Processes:                                                                  |\n",
            "|  GPU   GI   CI        PID   Type   Process name                  GPU Memory |\n",
            "|        ID   ID                                                   Usage      |\n",
            "|=============================================================================|\n",
            "|  No running processes found                                                 |\n",
            "+-----------------------------------------------------------------------------+\n"
          ],
          "name": "stdout"
        }
      ]
    },
    {
      "cell_type": "code",
      "metadata": {
        "id": "ejAbUwZdte8P"
      },
      "source": [
        "%tensorflow_version 2.x\n",
        "import numpy\n",
        "import numpy as np\n",
        "import random\n",
        "import os\n",
        "import matplotlib as mpl\n",
        "import matplotlib.pyplot as plt\n",
        "import matplotlib.colors as colors\n",
        "from keras.layers import Activation\n",
        "import tensorflow as tf\n",
        "import cv2\n",
        "from tensorflow.keras.layers import Lambda, Layer, ReLU\n",
        "from tensorflow.keras.models import Sequential\n",
        "from tensorflow.keras.layers import Dense, Dropout, Activation, Flatten, LSTM, SpatialDropout2D, Concatenate\n",
        "tf.keras.layers.Concatenate()\n",
        "from tensorflow.keras.layers import Conv2D, MaxPooling2D, AveragePooling2D, GlobalAveragePooling2D, UpSampling2D, BatchNormalization\n",
        "from keras.layers.core import Reshape\n",
        "from keras import optimizers\n",
        "from tensorflow.keras import regularizers\n",
        "from keras import Input, Model\n",
        "from time import time\n",
        "import time as tm\n",
        "from keras.initializers import Constant, RandomNormal, glorot_normal\n",
        "from tensorflow.keras.models import load_model\n",
        "from tensorflow.keras.regularizers import l2\n",
        "from keras import backend as K\n",
        "from tensorflow.keras.utils import plot_model\n",
        "from keras.layers import  concatenate "
      ],
      "execution_count": null,
      "outputs": []
    },
    {
      "cell_type": "markdown",
      "metadata": {
        "id": "sU6BGACxvViT"
      },
      "source": [
        "## GENERATION OF THE MODEL"
      ]
    },
    {
      "cell_type": "code",
      "metadata": {
        "id": "SNQDq7OZvViU",
        "outputId": "f73915fe-1854-4b4e-d274-cad238067010",
        "colab": {
          "base_uri": "https://localhost:8080/"
        }
      },
      "source": [
        "################################################## 30 SRM FILTERS\n",
        "srm_weights = np.load('SRM_Kernels.npy')\n",
        "\n",
        "biasSRM=numpy.ones(30)\n",
        "print (srm_weights.shape)\n",
        "################################################## TLU ACTIVATION FUNCTION\n",
        "\n",
        "T3 = 3\n",
        "def TLU3(x):\n",
        "    tlu3 = K.tanh(x)*T3\n",
        "    return tlu3\n",
        "\n",
        "\n",
        "T2 = 2\n",
        "def TLU2(x):\n",
        "    tlu2 = K.tanh(x)*T2\n",
        "    return tlu2\n",
        "\n",
        "\n",
        "def Tanh3(x):\n",
        "    tlu3 = K.tanh(x)*T3\n",
        "    return tlu3\n",
        "###########################################################################\n",
        "\n",
        "def thtanh(x,t):\n",
        "    th=K.tanh(x)*t\n",
        "    return th\n",
        "\n",
        "\n",
        "\n",
        "from keras.layers import Layer\n",
        "class Thtanh(Layer):\n",
        "\n",
        "    def __init__(self, th=1.0, trainable=False, **kwargs):\n",
        "        super(Thtanh, self).__init__(**kwargs)\n",
        "        self.supports_masking = True\n",
        "        self.th = th\n",
        "        self.trainable = trainable\n",
        "\n",
        "    def build(self, input_shape):\n",
        "        self.th_factor = K.variable(self.th,\n",
        "                                      dtype=K.floatx(),\n",
        "                                      name='th_factor')\n",
        "        \n",
        "        if self.trainable:\n",
        "            self._trainable_weights.append(self.th_factor)\n",
        "\n",
        "        super(Thtanh, self).build(input_shape)\n",
        "\n",
        "    def call(self, inputs, mask=None):\n",
        "        return thtanh(inputs, self.th_factor)\n",
        "\n",
        "    def get_config(self):\n",
        "        config = {'th': self.get_weights()[0] if self.trainable else self.th,\n",
        "                  'trainable': self.trainable}\n",
        "        base_config = super(Thtanh, self).get_config()\n",
        "        return dict(list(base_config.items()) + list(config.items()))\n",
        "\n",
        "    def compute_output_shape(self, input_shape):\n",
        "        return input_shape\n",
        "\n",
        "############################################################################\n",
        "\n",
        "def tlu(x,t):\n",
        "    tlu = tf.maximum(tf.minimum(x, t), -t)\n",
        "    return tlu\n",
        "\n",
        "from keras.utils.generic_utils import get_custom_objects\n",
        "get_custom_objects().update({'tlu': Activation(tlu)})\n",
        "\n",
        "from keras.layers import Layer\n",
        "class TLU(Layer):\n",
        "\n",
        "    def __init__(self, th=1.0, trainable=False, **kwargs):\n",
        "        super(TLU, self).__init__(**kwargs)\n",
        "        self.supports_masking = True\n",
        "        self.th = th\n",
        "        self.trainable = trainable\n",
        "\n",
        "    def build(self, input_shape):\n",
        "        self.th_factor = K.variable(self.th,\n",
        "                                      dtype=K.floatx(),\n",
        "                                      name='th_factor')\n",
        "        \n",
        "        if self.trainable:\n",
        "            self._trainable_weights.append(self.th_factor)\n",
        "\n",
        "        super(TLU, self).build(input_shape)\n",
        "\n",
        "    def call(self, inputs, mask=None):\n",
        "        return tlu(inputs, self.th_factor)\n",
        "\n",
        "    def get_config(self):\n",
        "        config = {'th': self.get_weights()[0] if self.trainable else self.th,\n",
        "                  'trainable': self.trainable}\n",
        "        base_config = super(TLU, self).get_config()\n",
        "        return dict(list(base_config.items()) + list(config.items()))\n",
        "\n",
        "    def compute_output_shape(self, input_shape):\n",
        "        return input_shape\n"
      ],
      "execution_count": null,
      "outputs": [
        {
          "output_type": "stream",
          "text": [
            "(5, 5, 1, 30)\n"
          ],
          "name": "stdout"
        }
      ]
    },
    {
      "cell_type": "markdown",
      "metadata": {
        "id": "KEIfvfvKI5yb"
      },
      "source": [
        "## Models"
      ]
    },
    {
      "cell_type": "markdown",
      "metadata": {
        "id": "OntHeNwy2qLv"
      },
      "source": [
        "### Yedroudj-Net"
      ]
    },
    {
      "cell_type": "code",
      "metadata": {
        "id": "GM7jlEulmIrL"
      },
      "source": [
        "def get_yedroudj( img_size=256, compile=True):\n",
        "    \n",
        "    # tf.reset_default_graph()\n",
        "    tf.keras.backend.clear_session()\n",
        "    print (\"using\",2,\"classes\")\n",
        "    \n",
        "    # Preprocessing\n",
        "    inputs = Input(shape=(img_size,img_size,1), name=\"input_1\")\n",
        "    layers = Conv2D(30, (5,5), weights=[srm_weights,biasSRM], strides=(1,1),padding=\"same\", trainable=False, use_bias=True)(inputs)\n",
        "    layers = Thtanh(th=3.0, trainable=False)(layers)\n",
        "\n",
        "    \n",
        "    # Block 1\n",
        "    \n",
        "    #Layer 0\n",
        "    layers = Conv2D(30, (5,5), strides=(1,1),padding=\"same\", kernel_initializer='glorot_normal', kernel_regularizer=tf.keras.regularizers.l2(0.0001),bias_regularizer=tf.keras.regularizers.l2(0.0001))(layers) \n",
        "    layers = ReLU(negative_slope=0.1, threshold=0)(layers)\n",
        "    layers = Lambda(tf.keras.backend.abs)(layers)\n",
        "    layers = BatchNormalization(momentum=0.2, epsilon=0.001, center=True, scale=True, trainable=True, fused=None, renorm=False, renorm_clipping=None, renorm_momentum=0.4, adjustment=None)(layers)\n",
        "    layers = Concatenate()([layers, layers, layers])\n",
        "    \n",
        "    # Block 2\n",
        "    \n",
        "    #Layer 1\n",
        "    layers = tf.keras.layers.SpatialDropout2D(rate=0.1)(layers)\n",
        "    layers = Conv2D(30, (5,5), strides=1,padding=\"same\", kernel_initializer='glorot_normal',kernel_regularizer=tf.keras.regularizers.l2(0.0001),bias_regularizer=tf.keras.regularizers.l2(0.0001))(layers) \n",
        "    layers = ReLU(negative_slope=0.1, threshold=0)(layers)\n",
        "    layers = tf.keras.layers.Lambda(tf.keras.backend.abs)(layers)\n",
        "    layers = BatchNormalization(momentum=0.2, epsilon=0.001, center=True, scale=True, trainable=True, fused=None, renorm=False, renorm_clipping=None, renorm_momentum=0.4, adjustment=None)(layers)  \n",
        "    layers = AveragePooling2D((5,5), strides= 2, padding='same')(layers)\n",
        "    \n",
        "    # Block 3\n",
        "    \n",
        "    #Layer 2\n",
        "    layers = tf.keras.layers.SpatialDropout2D(rate=0.1)(layers)\n",
        "    layers = Conv2D(32, (3,3), strides=1,padding=\"same\", kernel_initializer='glorot_normal',kernel_regularizer=tf.keras.regularizers.l2(0.0001),bias_regularizer=tf.keras.regularizers.l2(0.0001))(layers) \n",
        "    layers = ReLU(negative_slope=0.1, threshold=0)(layers)\n",
        "    layers = tf.keras.layers.Lambda(tf.keras.backend.abs)(layers)\n",
        "    layers = BatchNormalization(momentum=0.2, epsilon=0.001, center=True, scale=False, trainable=True, fused=None, renorm=False, renorm_clipping=None, renorm_momentum=0.4, adjustment=None)(layers)\n",
        "    layers = AveragePooling2D((5,5), strides= 2,padding=\"same\")(layers)\n",
        "    \n",
        "    # Block 4\n",
        "    #Layer 3\n",
        "    layers = tf.keras.layers.SpatialDropout2D(rate=0.1)(layers)\n",
        "    layers = Conv2D(64, (3,3), strides=1,padding=\"same\", kernel_initializer='glorot_normal',kernel_regularizer=tf.keras.regularizers.l2(0.0001),bias_regularizer=tf.keras.regularizers.l2(0.0001))(layers) \n",
        "    layers = ReLU(negative_slope=0.1, threshold=0)(layers)\n",
        "    layers = tf.keras.layers.Lambda(tf.keras.backend.abs)(layers)\n",
        "    layers = BatchNormalization(momentum=0.2, epsilon=0.001, center=True, scale=False, trainable=True, fused=None, renorm=False, renorm_clipping=None, renorm_momentum=0.4, adjustment=None)(layers)\n",
        "    layers = AveragePooling2D((5,5), strides=2,padding=\"same\")(layers)\n",
        "    # Block 5\n",
        "    #Layer 4\n",
        "    layers = tf.keras.layers.SpatialDropout2D(rate=0.1)(layers)\n",
        "    layers = Conv2D(128, (3,3), strides=1,padding=\"same\", kernel_initializer='glorot_normal',kernel_regularizer=tf.keras.regularizers.l2(0.0001),bias_regularizer=tf.keras.regularizers.l2(0.0001))(layers)\n",
        "    layers = ReLU(negative_slope=0.1, threshold=0)(layers)\n",
        "    layers = tf.keras.layers.Lambda(tf.keras.backend.abs)(layers)\n",
        "    layers = BatchNormalization(momentum=0.2, epsilon=0.001, center=True, scale=False, trainable=True, fused=None, renorm=False, renorm_clipping=None, renorm_momentum=0.4, adjustment=None)(layers)\n",
        "    layers = Concatenate()([layers, layers, layers])\n",
        "    layers = GlobalAveragePooling2D(data_format=\"channels_last\")(layers)\n",
        "    \n",
        "    # Block 6\n",
        "    #Layer 5, FC, Softmax\n",
        "  \n",
        "    # FC\n",
        "    layers = Dense(128,kernel_initializer='glorot_normal',kernel_regularizer=tf.keras.regularizers.l2(0.0001),bias_regularizer=tf.keras.regularizers.l2(0.0001))(layers)\n",
        "    layers = ReLU(negative_slope=0.1, threshold=0)(layers)\n",
        "    layers = Dense(64,kernel_initializer='glorot_normal',kernel_regularizer=tf.keras.regularizers.l2(0.0001),bias_regularizer=tf.keras.regularizers.l2(0.0001))(layers)\n",
        "    layers = ReLU(negative_slope=0.1, threshold=0)(layers)\n",
        "    layers = Dense(32,kernel_initializer='glorot_normal',kernel_regularizer=tf.keras.regularizers.l2(0.0001),bias_regularizer=tf.keras.regularizers.l2(0.0001))(layers)\n",
        "    layers = ReLU(negative_slope=0.1, threshold=0)(layers)\n",
        "   \n",
        "    # Softmax\n",
        "    predictions = Dense(2, activation=\"softmax\", name=\"output_1\",kernel_regularizer=tf.keras.regularizers.l2(0.0001),bias_regularizer=tf.keras.regularizers.l2(0.0001))(layers)\n",
        "    model = Model(inputs = inputs, outputs=predictions)\n",
        "    # Compile\n",
        "    optimizer = tf.keras.optimizers.SGD(learning_rate=0.005, momentum=0.95)#lrate\n",
        "    \n",
        "    if compile:\n",
        "        model.compile(optimizer= optimizer,\n",
        "                      loss='binary_crossentropy',\n",
        "                      metrics=['accuracy'])\n",
        "        print (\"Yedroud-net model generated\")\n",
        "    return model"
      ],
      "execution_count": null,
      "outputs": []
    },
    {
      "cell_type": "markdown",
      "metadata": {
        "id": "Qq3HLUUa7dxq"
      },
      "source": [
        "### Ye-Net"
      ]
    },
    {
      "cell_type": "code",
      "metadata": {
        "id": "RMBWaKE07oed"
      },
      "source": [
        "def get_ye(img_size=256):\n",
        "    tf.keras.backend.clear_session()\n",
        "    \n",
        "    #Inputs\n",
        "    inputs = tf.keras.Input(shape=(img_size,img_size,1), name=\"input_1\")\n",
        "    print(inputs.shape)\n",
        "    \n",
        "    #Block 1\n",
        "    layers = tf.keras.layers.Conv2D(30, (5,5), weights=[srm_weights,biasSRM], strides=(1,1), trainable=False, activation=Tanh3, use_bias=True)(inputs)\n",
        "    #layers = tf.keras.layers.Lambda(tf.keras.backend.abs)(layers)\n",
        "    #layer1 = tf.keras.layers.BatchNormalization(momentum=0.2, epsilon=0.001, center=True, scale=False, trainable=True, fused=None, renorm=False, renorm_clipping=None, renorm_momentum=0.4, adjustment=None)(layers)\n",
        "    print(layers.shape)\n",
        "    \n",
        "    #Block 2\n",
        "    \n",
        "    #layers = tf.keras.layers.SpatialDropout2D(rate=0.1)(layers)\n",
        "    \n",
        "    layers = tf.keras.layers.Conv2D(30, (3,3), strides=(1,1), kernel_initializer='glorot_normal',kernel_regularizer=tf.keras.regularizers.l2(0.0001),bias_regularizer=tf.keras.regularizers.l2(0.0001))(layers) \n",
        "    layers = ReLU(negative_slope=0.1, threshold=0)(layers)\n",
        "    layers = tf.keras.layers.Lambda(tf.keras.backend.abs)(layers)\n",
        "    layers = tf.keras.layers.BatchNormalization(momentum=0.2, epsilon=0.001, center=True, scale=False, trainable=True, fused=None, renorm=False, renorm_clipping=None, renorm_momentum=0.4, adjustment=None)(layers)\n",
        "    layers = tf.keras.layers.Concatenate()([layers, layers, layers])\n",
        "    print(layers.shape)\n",
        "    \n",
        "    #Block 3\n",
        "    layers = tf.keras.layers.SpatialDropout2D(rate=0.1)(layers)\n",
        "    layers = tf.keras.layers.Conv2D(30, (3,3), strides=(1,1), kernel_initializer='glorot_normal',kernel_regularizer=tf.keras.regularizers.l2(0.0001),bias_regularizer=tf.keras.regularizers.l2(0.0001))(layers) \n",
        "    layers = ReLU(negative_slope=0.1, threshold=0)(layers)\n",
        "    layers = tf.keras.layers.Lambda(tf.keras.backend.abs)(layers)\n",
        "    layers = tf.keras.layers.BatchNormalization(momentum=0.2, epsilon=0.001, center=True, scale=False, trainable=True, fused=None, renorm=False, renorm_clipping=None, renorm_momentum=0.4, adjustment=None)(layers)\n",
        "    print(layers.shape)\n",
        "    \n",
        "    #Block 4\n",
        "    layers = tf.keras.layers.SpatialDropout2D(rate=0.1)(layers)\n",
        "    layers = tf.keras.layers.Conv2D(30, (3,3), strides=(1,1), kernel_initializer='glorot_normal',kernel_regularizer=tf.keras.regularizers.l2(0.0001),bias_regularizer=tf.keras.regularizers.l2(0.0001))(layers) \n",
        "    layers = ReLU(negative_slope=0.1, threshold=0)(layers)\n",
        "    layers = tf.keras.layers.Lambda(tf.keras.backend.abs)(layers)\n",
        "    layers = tf.keras.layers.BatchNormalization(momentum=0.2, epsilon=0.001, center=True, scale=False, trainable=True, fused=None, renorm=False, renorm_clipping=None, renorm_momentum=0.4, adjustment=None)(layers)\n",
        "    layers = tf.keras.layers.AveragePooling2D((2,2), strides= (2,2))(layers)\n",
        "    print(layers.shape)\n",
        "    \n",
        "    #Block 5\n",
        "    layers = tf.keras.layers.SpatialDropout2D(rate=0.1)(layers)\n",
        "    layers = tf.keras.layers.Conv2D(32, (5,5), strides=(1,1), kernel_initializer='glorot_normal',kernel_regularizer=tf.keras.regularizers.l2(0.0001),bias_regularizer=tf.keras.regularizers.l2(0.0001))(layers)\n",
        "    layers = ReLU(negative_slope=0.1, threshold=0)(layers)\n",
        "    layers = tf.keras.layers.Lambda(tf.keras.backend.abs)(layers)\n",
        "    layers = tf.keras.layers.BatchNormalization(momentum=0.2, epsilon=0.001, center=True, scale=False, trainable=True, fused=None, renorm=False, renorm_clipping=None, renorm_momentum=0.4, adjustment=None)(layers)\n",
        "    print(layers.shape)\n",
        "    \n",
        "    #Block 6\n",
        "    layers = tf.keras.layers.Concatenate()([layers, layers, layers])\n",
        "    layers = tf.keras.layers.GlobalAveragePooling2D(data_format=\"channels_last\")(layers)\n",
        "    layers = tf.keras.layers.Dense(128,kernel_initializer='glorot_normal',kernel_regularizer=tf.keras.regularizers.l2(0.0001),bias_regularizer=tf.keras.regularizers.l2(0.0001))(layers)\n",
        "    layers = ReLU(negative_slope=0.1, threshold=0)(layers)\n",
        "    #layers = tf.keras.layers.Dropout(0.2)(layers)\n",
        "    layers = tf.keras.layers.Dense(64,kernel_initializer='glorot_normal',kernel_regularizer=tf.keras.regularizers.l2(0.0001),bias_regularizer=tf.keras.regularizers.l2(0.0001))(layers)\n",
        "    layers = ReLU(negative_slope=0.1, threshold=0)(layers)\n",
        "    #layers = tf.keras.layers.Dropout(0.2)(layers)\n",
        "    layers = tf.keras.layers.Dense(32,kernel_initializer='glorot_normal',kernel_regularizer=tf.keras.regularizers.l2(0.0001),bias_regularizer=tf.keras.regularizers.l2(0.0001))(layers)\n",
        "    layers = ReLU(negative_slope=0.1, threshold=0)(layers)\n",
        "    predictions = tf.keras.layers.Dense(2,kernel_initializer='glorot_normal', activation=\"softmax\", name=\"output_1\",kernel_regularizer=tf.keras.regularizers.l2(0.0001),bias_regularizer=tf.keras.regularizers.l2(0.0001))(layers)\n",
        "    print(predictions.shape)\n",
        "    \n",
        "    #Model generation\n",
        "    model = tf.keras.Model(inputs = inputs, outputs=predictions)\n",
        "    #Optimizer\n",
        "    optimizer = tf.keras.optimizers.SGD(learning_rate=0.005, momentum=0.95)#lrate\n",
        "    #Compilator\n",
        "    model.compile(optimizer=optimizer, loss='binary_crossentropy', metrics=['accuracy'])\n",
        "\n",
        "    print (\"Ye-net model 2 generated\")\n",
        "    return model"
      ],
      "execution_count": null,
      "outputs": []
    },
    {
      "cell_type": "markdown",
      "metadata": {
        "id": "DraLyVUl7gGa"
      },
      "source": [
        "### Xu-Net"
      ]
    },
    {
      "cell_type": "code",
      "metadata": {
        "id": "l6ss6blN7nRN"
      },
      "source": [
        "def get_xu( img_size=256, compile=True):\n",
        "    \n",
        "    #tf.reset_default_graph()\n",
        "    tf.keras.backend.clear_session()\n",
        "    print (\"using\",2,\"classes\")\n",
        "    \n",
        "    #Preprocessing\n",
        "    inputs = tf.keras.Input(shape=(img_size,img_size,1), name=\"input_1\")\n",
        "    layers = tf.keras.layers.Conv2D(30, (5,5), weights=[srm_weights,biasSRM], strides=(1,1), trainable=False, activation=Tanh3, use_bias=True)(inputs)\n",
        "\n",
        "\n",
        "    \n",
        "    #Block 1\n",
        "    \n",
        "    #Layer 0\n",
        "    layers = Conv2D(8, (5,5), strides=(1,1),padding=\"same\", kernel_initializer='glorot_normal', kernel_regularizer=tf.keras.regularizers.l2(0.0001),bias_regularizer=tf.keras.regularizers.l2(0.0001))(layers) \n",
        "    layers = ReLU(negative_slope=0.1, threshold=0)(layers)\n",
        "    layers = Lambda(tf.keras.backend.abs)(layers)\n",
        "    layers = BatchNormalization(momentum=0.2, epsilon=0.001, center=True, scale=True, trainable=True, fused=None, renorm=False, renorm_clipping=None, renorm_momentum=0.4, adjustment=None)(layers)\n",
        "    layers = Concatenate()([layers, layers, layers])\n",
        "    \n",
        "    #Block 2\n",
        "    \n",
        "    #Layer 1\n",
        "    layers = tf.keras.layers.SpatialDropout2D(rate=0.1)(layers)\n",
        "    layers = Conv2D(16, (5,5), strides=1,padding=\"same\", kernel_initializer='glorot_normal',kernel_regularizer=tf.keras.regularizers.l2(0.0001),bias_regularizer=tf.keras.regularizers.l2(0.0001))(layers) \n",
        "    layers = ReLU(negative_slope=0.1, threshold=0)(layers)\n",
        "    layers = tf.keras.layers.Lambda(tf.keras.backend.abs)(layers)\n",
        "    layers = BatchNormalization(momentum=0.2, epsilon=0.001, center=True, scale=True, trainable=True, fused=None, renorm=False, renorm_clipping=None, renorm_momentum=0.4, adjustment=None)(layers)  \n",
        "    layers = AveragePooling2D((5,5), strides= 2, padding='same')(layers)\n",
        "    \n",
        "    #Block 3\n",
        "    \n",
        "    #Layer 2\n",
        "    layers = tf.keras.layers.SpatialDropout2D(rate=0.1)(layers)\n",
        "    layers = Conv2D(32, (1,1), strides=1,padding=\"same\", kernel_initializer='glorot_normal',kernel_regularizer=tf.keras.regularizers.l2(0.0001),bias_regularizer=tf.keras.regularizers.l2(0.0001))(layers) \n",
        "    layers = ReLU(negative_slope=0.1, threshold=0)(layers)\n",
        "    layers = tf.keras.layers.Lambda(tf.keras.backend.abs)(layers)\n",
        "    layers = BatchNormalization(momentum=0.2, epsilon=0.001, center=True, scale=False, trainable=True, fused=None, renorm=False, renorm_clipping=None, renorm_momentum=0.4, adjustment=None)(layers)\n",
        "    layers = AveragePooling2D((5,5), strides= 2,padding=\"same\")(layers)\n",
        "    \n",
        "    #Block 4\n",
        "    #Layer 3\n",
        "    layers = tf.keras.layers.SpatialDropout2D(rate=0.1)(layers)\n",
        "    layers = Conv2D(64, (1,1), strides=1,padding=\"same\", kernel_initializer='glorot_normal',kernel_regularizer=tf.keras.regularizers.l2(0.0001),bias_regularizer=tf.keras.regularizers.l2(0.0001))(layers) \n",
        "    layers = ReLU(negative_slope=0.1, threshold=0)(layers)\n",
        "    layers = tf.keras.layers.Lambda(tf.keras.backend.abs)(layers)\n",
        "    layers = BatchNormalization(momentum=0.2, epsilon=0.001, center=True, scale=False, trainable=True, fused=None, renorm=False, renorm_clipping=None, renorm_momentum=0.4, adjustment=None)(layers)\n",
        "    layers = AveragePooling2D((5,5), strides=2,padding=\"same\")(layers)\n",
        "    #Block 5\n",
        "    #Layer 4\n",
        "    layers = tf.keras.layers.SpatialDropout2D(rate=0.1)(layers)\n",
        "    layers = Conv2D(128, (1,1), strides=1,padding=\"same\", kernel_initializer='glorot_normal',kernel_regularizer=tf.keras.regularizers.l2(0.0001),bias_regularizer=tf.keras.regularizers.l2(0.0001))(layers)\n",
        "    layers = ReLU(negative_slope=0.1, threshold=0)(layers)\n",
        "    layers = tf.keras.layers.Lambda(tf.keras.backend.abs)(layers)\n",
        "    layers = BatchNormalization(momentum=0.2, epsilon=0.001, center=True, scale=False, trainable=True, fused=None, renorm=False, renorm_clipping=None, renorm_momentum=0.4, adjustment=None)(layers)\n",
        "    layers = Concatenate()([layers, layers, layers])\n",
        "    layers = GlobalAveragePooling2D(data_format=\"channels_last\")(layers)\n",
        "    \n",
        "    #Block 6\n",
        "    #Layer 5, FC, Softmax\n",
        "  \n",
        "    #FC\n",
        "    layers = Dense(128,kernel_initializer='glorot_normal',kernel_regularizer=tf.keras.regularizers.l2(0.0001),bias_regularizer=tf.keras.regularizers.l2(0.0001))(layers)\n",
        "    layers = ReLU(negative_slope=0.1, threshold=0)(layers)\n",
        "    layers = Dense(64,kernel_initializer='glorot_normal',kernel_regularizer=tf.keras.regularizers.l2(0.0001),bias_regularizer=tf.keras.regularizers.l2(0.0001))(layers)\n",
        "    layers = ReLU(negative_slope=0.1, threshold=0)(layers)\n",
        "    layers = Dense(32,kernel_initializer='glorot_normal',kernel_regularizer=tf.keras.regularizers.l2(0.0001),bias_regularizer=tf.keras.regularizers.l2(0.0001))(layers)\n",
        "    layers = ReLU(negative_slope=0.1, threshold=0)(layers)\n",
        "   \n",
        "    #Softmax\n",
        "    predictions = Dense(2, activation=\"softmax\", name=\"output_1\",kernel_regularizer=tf.keras.regularizers.l2(0.0001),bias_regularizer=tf.keras.regularizers.l2(0.0001))(layers)\n",
        "    model =tf.keras.Model(inputs = inputs, outputs=predictions)\n",
        "    #Compile\n",
        "    optimizer = tf.keras.optimizers.SGD(learning_rate=0.005, momentum=0.95)\n",
        "    \n",
        "    if compile:\n",
        "        model.compile(optimizer= optimizer,\n",
        "                      loss='binary_crossentropy',\n",
        "                      metrics=['accuracy'])\n",
        "        print (\"Xunet\")\n",
        "    return model"
      ],
      "execution_count": null,
      "outputs": []
    },
    {
      "cell_type": "markdown",
      "metadata": {
        "id": "ihW1dzfI7vi5"
      },
      "source": [
        "#### VGG16Stego"
      ]
    },
    {
      "cell_type": "code",
      "metadata": {
        "id": "HSYHVo1b7zg1"
      },
      "source": [
        "def get_vgg16_max(img_size=256):\n",
        "    tf.keras.backend.clear_session()\n",
        "    \n",
        "    #Inputs\n",
        "    inputs = tf.keras.Input(shape=(img_size,img_size,1), name=\"input_1\")\n",
        "    \n",
        "    #Block 1\n",
        "    \n",
        "    layers = tf.keras.layers.Conv2D(30, (5,5), weights=[srm_weights,biasSRM], strides=(1,1), trainable=False, activation=Tanh3, use_bias=True)(inputs )\n",
        "    layers = Conv2D(64, (3,3), strides=(1,1),padding=\"same\", kernel_initializer='glorot_normal', kernel_regularizer=tf.keras.regularizers.l2(0.0001),bias_regularizer=tf.keras.regularizers.l2(0.0001))(layers) \n",
        "    layers = ReLU(negative_slope=0.1, threshold=0)(layers)\n",
        "    layers = Lambda(tf.keras.backend.abs)(layers)\n",
        "    layers = BatchNormalization(momentum=0.2, epsilon=0.001, center=True, scale=True, trainable=True, fused=None, renorm=False, renorm_clipping=None, renorm_momentum=0.4, adjustment=None)(layers)\n",
        "    layers = Concatenate()([layers, layers, layers])\n",
        "    layers = tf.keras.layers.SpatialDropout2D(rate=0.1)(layers)\n",
        "    layers = Conv2D(64, (3,3), strides=(1,1),padding=\"same\", kernel_initializer='glorot_normal', kernel_regularizer=tf.keras.regularizers.l2(0.0001),bias_regularizer=tf.keras.regularizers.l2(0.0001))(layers) \n",
        "    layers = ReLU(negative_slope=0.1, threshold=0)(layers)\n",
        "    layers = Lambda(tf.keras.backend.abs)(layers)\n",
        "    layers = BatchNormalization(momentum=0.2, epsilon=0.001, center=True, scale=True, trainable=True, fused=None, renorm=False, renorm_clipping=None, renorm_momentum=0.4, adjustment=None)(layers)\n",
        "    layers = tf.keras.layers.MaxPooling2D((2,2), strides= (2,2))(layers)\n",
        "    #Block 2\n",
        "    layers = tf.keras.layers.SpatialDropout2D(rate=0.1, data_format=\"channels_last\")(layers)\n",
        "    layers = Conv2D(128, (3,3), strides=(1,1),padding=\"same\", kernel_initializer='glorot_normal', kernel_regularizer=tf.keras.regularizers.l2(0.0001),bias_regularizer=tf.keras.regularizers.l2(0.0001))(layers) \n",
        "    layers = ReLU(negative_slope=0.1, threshold=0)(layers)\n",
        "    layers = Lambda(tf.keras.backend.abs)(layers)\n",
        "    layers = BatchNormalization(momentum=0.2, epsilon=0.001, center=True, scale=True, trainable=True, fused=None, renorm=False, renorm_clipping=None, renorm_momentum=0.4, adjustment=None)(layers)\n",
        "    layers = tf.keras.layers.SpatialDropout2D(rate=0.1, data_format=\"channels_last\")(layers)\n",
        "    layers = Conv2D(128, (3,3), strides=(1,1),padding=\"same\", kernel_initializer='glorot_normal', kernel_regularizer=tf.keras.regularizers.l2(0.0001),bias_regularizer=tf.keras.regularizers.l2(0.0001))(layers) \n",
        "    layers = ReLU(negative_slope=0.1, threshold=0)(layers)\n",
        "    layers = Lambda(tf.keras.backend.abs)(layers)\n",
        "    layers = BatchNormalization(momentum=0.2, epsilon=0.001, center=True, scale=True, trainable=True, fused=None, renorm=False, renorm_clipping=None, renorm_momentum=0.4, adjustment=None)(layers)\n",
        "    layers = tf.keras.layers.MaxPooling2D((2,2), strides= (2,2))(layers)\n",
        "    #Block 3\n",
        "    layers = tf.keras.layers.SpatialDropout2D(rate=0.1, data_format=\"channels_last\")(layers)\n",
        "    layers = Conv2D(256, (3,3), strides=(1,1),padding=\"same\", kernel_initializer='glorot_normal', kernel_regularizer=tf.keras.regularizers.l2(0.0001),bias_regularizer=tf.keras.regularizers.l2(0.0001))(layers) \n",
        "    layers = ReLU(negative_slope=0.1, threshold=0)(layers)\n",
        "    layers = Lambda(tf.keras.backend.abs)(layers)\n",
        "    layers = BatchNormalization(momentum=0.2, epsilon=0.001, center=True, scale=True, trainable=True, fused=None, renorm=False, renorm_clipping=None, renorm_momentum=0.4, adjustment=None)(layers)\n",
        "    layers = tf.keras.layers.SpatialDropout2D(rate=0.1, data_format=\"channels_last\")(layers)\n",
        "    layers = Conv2D(256, (3,3), strides=(1,1),padding=\"same\", kernel_initializer='glorot_normal', kernel_regularizer=tf.keras.regularizers.l2(0.0001),bias_regularizer=tf.keras.regularizers.l2(0.0001))(layers) \n",
        "    layers = ReLU(negative_slope=0.1, threshold=0)(layers)\n",
        "    layers = Lambda(tf.keras.backend.abs)(layers)\n",
        "    layers = BatchNormalization(momentum=0.2, epsilon=0.001, center=True, scale=True, trainable=True, fused=None, renorm=False, renorm_clipping=None, renorm_momentum=0.4, adjustment=None)(layers)\n",
        "    layers = Conv2D(256, (3,3), strides=(1,1),padding=\"same\", kernel_initializer='glorot_normal', kernel_regularizer=tf.keras.regularizers.l2(0.0001),bias_regularizer=tf.keras.regularizers.l2(0.0001))(layers) \n",
        "    layers = ReLU(negative_slope=0.1, threshold=0)(layers)\n",
        "    layers = Lambda(tf.keras.backend.abs)(layers)\n",
        "    layers = BatchNormalization(momentum=0.2, epsilon=0.001, center=True, scale=True, trainable=True, fused=None, renorm=False, renorm_clipping=None, renorm_momentum=0.4, adjustment=None)(layers)\n",
        "    layers = tf.keras.layers.MaxPooling2D((2,2), strides= (2,2))(layers)\n",
        "    #Block 4\n",
        "    layers = tf.keras.layers.SpatialDropout2D(rate=0.1, data_format=\"channels_last\")(layers)\n",
        "    layers = Conv2D(512, (3,3), strides=(1,1),padding=\"same\", kernel_initializer='glorot_normal', kernel_regularizer=tf.keras.regularizers.l2(0.0001),bias_regularizer=tf.keras.regularizers.l2(0.0001))(layers) \n",
        "    layers = ReLU(negative_slope=0.1, threshold=0)(layers)\n",
        "    layers = Lambda(tf.keras.backend.abs)(layers)\n",
        "    layers = BatchNormalization(momentum=0.2, epsilon=0.001, center=True, scale=True, trainable=True, fused=None, renorm=False, renorm_clipping=None, renorm_momentum=0.4, adjustment=None)(layers)\n",
        "    layers = tf.keras.layers.SpatialDropout2D(rate=0.1, data_format=\"channels_last\")(layers)\n",
        "    layers = Conv2D(512, (3,3), strides=(1,1),padding=\"same\", kernel_initializer='glorot_normal', kernel_regularizer=tf.keras.regularizers.l2(0.0001),bias_regularizer=tf.keras.regularizers.l2(0.0001))(layers) \n",
        "    layers = ReLU(negative_slope=0.1, threshold=0)(layers)\n",
        "    layers = Lambda(tf.keras.backend.abs)(layers)\n",
        "    layers = BatchNormalization(momentum=0.2, epsilon=0.001, center=True, scale=True, trainable=True, fused=None, renorm=False, renorm_clipping=None, renorm_momentum=0.4, adjustment=None)(layers)\n",
        "    layers = Conv2D(512, (3,3), strides=(1,1),padding=\"same\", kernel_initializer='glorot_normal', kernel_regularizer=tf.keras.regularizers.l2(0.0001),bias_regularizer=tf.keras.regularizers.l2(0.0001))(layers) \n",
        "    layers = ReLU(negative_slope=0.1, threshold=0)(layers)\n",
        "    layers = Lambda(tf.keras.backend.abs)(layers)\n",
        "    layers = BatchNormalization(momentum=0.2, epsilon=0.001, center=True, scale=True, trainable=True, fused=None, renorm=False, renorm_clipping=None, renorm_momentum=0.4, adjustment=None)(layers)\n",
        "    layers = tf.keras.layers.MaxPooling2D((2,2), strides= (2,2))(layers)\n",
        "\n",
        "    #Block 5\n",
        "    layers = tf.keras.layers.SpatialDropout2D(rate=0.1, data_format=\"channels_last\")(layers)\n",
        "    layers = Conv2D(512, (3,3), strides=(1,1),padding=\"same\", kernel_initializer='glorot_normal', kernel_regularizer=tf.keras.regularizers.l2(0.0001),bias_regularizer=tf.keras.regularizers.l2(0.0001))(layers) \n",
        "    layers = ReLU(negative_slope=0.1, threshold=0)(layers)\n",
        "    layers = Lambda(tf.keras.backend.abs)(layers)\n",
        "    layers = BatchNormalization(momentum=0.2, epsilon=0.001, center=True, scale=True, trainable=True, fused=None, renorm=False, renorm_clipping=None, renorm_momentum=0.4, adjustment=None)(layers)\n",
        "    layers = tf.keras.layers.SpatialDropout2D(rate=0.1, data_format=\"channels_last\")(layers)\n",
        "    layers = Conv2D(512, (3,3), strides=(1,1),padding=\"same\", kernel_initializer='glorot_normal', kernel_regularizer=tf.keras.regularizers.l2(0.0001),bias_regularizer=tf.keras.regularizers.l2(0.0001))(layers) \n",
        "    layers = ReLU(negative_slope=0.1, threshold=0)(layers)\n",
        "    layers = Lambda(tf.keras.backend.abs)(layers)\n",
        "    layers = BatchNormalization(momentum=0.2, epsilon=0.001, center=True, scale=True, trainable=True, fused=None, renorm=False, renorm_clipping=None, renorm_momentum=0.4, adjustment=None)(layers)\n",
        "    layers = Conv2D(512, (3,3), strides=(1,1),padding=\"same\", kernel_initializer='glorot_normal', kernel_regularizer=tf.keras.regularizers.l2(0.0001),bias_regularizer=tf.keras.regularizers.l2(0.0001))(layers) \n",
        "    layers = ReLU(negative_slope=0.1, threshold=0)(layers)\n",
        "    layers = Lambda(tf.keras.backend.abs)(layers)\n",
        "    layers = BatchNormalization(momentum=0.2, epsilon=0.001, center=True, scale=True, trainable=True, fused=None, renorm=False, renorm_clipping=None, renorm_momentum=0.4, adjustment=None)(layers)\n",
        "    layers = tf.keras.layers.MaxPooling2D((2,2), strides= (2,2))(layers)\n",
        "    layers = Concatenate()([layers, layers, layers])\n",
        "    layers = tf.keras.layers.GlobalAveragePooling2D(data_format=\"channels_last\")(layers)\n",
        "    #Block 6\n",
        "    #FC\n",
        "    layers = Dense(128,kernel_initializer='glorot_normal',kernel_regularizer=tf.keras.regularizers.l2(0.0001),bias_regularizer=tf.keras.regularizers.l2(0.0001))(layers)\n",
        "    layers = ReLU(negative_slope=0.1, threshold=0)(layers)\n",
        "    layers = Dense(64,kernel_initializer='glorot_normal',kernel_regularizer=tf.keras.regularizers.l2(0.0001),bias_regularizer=tf.keras.regularizers.l2(0.0001))(layers)\n",
        "    layers = ReLU(negative_slope=0.1, threshold=0)(layers)\n",
        "    layers = Dense(32,kernel_initializer='glorot_normal',kernel_regularizer=tf.keras.regularizers.l2(0.0001),bias_regularizer=tf.keras.regularizers.l2(0.0001))(layers)\n",
        "    layers = ReLU(negative_slope=0.1, threshold=0)(layers)\n",
        "   \n",
        "    #Softmax\n",
        "    predictions = Dense(2, activation=\"softmax\", name=\"output_1\",kernel_regularizer=tf.keras.regularizers.l2(0.0001),bias_regularizer=tf.keras.regularizers.l2(0.0001))(layers)\n",
        "    model =tf.keras.Model(inputs = inputs, outputs=predictions)\n",
        "    #Compile\n",
        "    optimizer = tf.keras.optimizers.SGD(learning_rate=0.005, momentum=0.95)\n",
        "    \n",
        "    if compile:\n",
        "        model.compile(optimizer= optimizer,\n",
        "                      loss='binary_crossentropy',\n",
        "                      metrics=['accuracy'])\n",
        "        \n",
        "        print (\"VGG16 AveragePooling model generated\")\n",
        "\n",
        "    return model\n",
        "\n",
        "   "
      ],
      "execution_count": null,
      "outputs": []
    },
    {
      "cell_type": "code",
      "metadata": {
        "id": "VPtNyPNzFZZU"
      },
      "source": [
        "def get_vgg16_avg(img_size=256):\n",
        "    tf.keras.backend.clear_session()\n",
        "    \n",
        "    #Inputs\n",
        "    inputs = tf.keras.Input(shape=(img_size,img_size,1), name=\"input_1\")\n",
        "    \n",
        "    #Block 1\n",
        "    \n",
        "    layers = tf.keras.layers.Conv2D(30, (5,5), weights=[srm_weights,biasSRM], strides=(1,1), trainable=False, activation=Tanh3, use_bias=True)(inputs )\n",
        "    layers = Conv2D(64, (3,3), strides=(1,1),padding=\"same\", kernel_initializer='glorot_normal', kernel_regularizer=tf.keras.regularizers.l2(0.0001),bias_regularizer=tf.keras.regularizers.l2(0.0001))(layers) \n",
        "    layers = ReLU(negative_slope=0.1, threshold=0)(layers)\n",
        "    layers = Lambda(tf.keras.backend.abs)(layers)\n",
        "    layers = BatchNormalization(momentum=0.2, epsilon=0.001, center=True, scale=True, trainable=True, fused=None, renorm=False, renorm_clipping=None, renorm_momentum=0.4, adjustment=None)(layers)\n",
        "    layers = Concatenate()([layers, layers, layers])\n",
        "    layers = tf.keras.layers.SpatialDropout2D(rate=0.1)(layers)\n",
        "    layers = Conv2D(64, (3,3), strides=(1,1),padding=\"same\", kernel_initializer='glorot_normal', kernel_regularizer=tf.keras.regularizers.l2(0.0001),bias_regularizer=tf.keras.regularizers.l2(0.0001))(layers) \n",
        "    layers = ReLU(negative_slope=0.1, threshold=0)(layers)\n",
        "    layers = Lambda(tf.keras.backend.abs)(layers)\n",
        "    layers = BatchNormalization(momentum=0.2, epsilon=0.001, center=True, scale=True, trainable=True, fused=None, renorm=False, renorm_clipping=None, renorm_momentum=0.4, adjustment=None)(layers)\n",
        "    layers = tf.keras.layers.AveragePooling2D((2,2), strides= (2,2))(layers)\n",
        "    #Block 2\n",
        "    layers = tf.keras.layers.SpatialDropout2D(rate=0.1, data_format=\"channels_last\")(layers)\n",
        "    layers = Conv2D(128, (3,3), strides=(1,1),padding=\"same\", kernel_initializer='glorot_normal', kernel_regularizer=tf.keras.regularizers.l2(0.0001),bias_regularizer=tf.keras.regularizers.l2(0.0001))(layers) \n",
        "    layers = ReLU(negative_slope=0.1, threshold=0)(layers)\n",
        "    layers = Lambda(tf.keras.backend.abs)(layers)\n",
        "    layers = BatchNormalization(momentum=0.2, epsilon=0.001, center=True, scale=True, trainable=True, fused=None, renorm=False, renorm_clipping=None, renorm_momentum=0.4, adjustment=None)(layers)\n",
        "    layers = tf.keras.layers.SpatialDropout2D(rate=0.1, data_format=\"channels_last\")(layers)\n",
        "    layers = Conv2D(128, (3,3), strides=(1,1),padding=\"same\", kernel_initializer='glorot_normal', kernel_regularizer=tf.keras.regularizers.l2(0.0001),bias_regularizer=tf.keras.regularizers.l2(0.0001))(layers) \n",
        "    layers = ReLU(negative_slope=0.1, threshold=0)(layers)\n",
        "    layers = Lambda(tf.keras.backend.abs)(layers)\n",
        "    layers = BatchNormalization(momentum=0.2, epsilon=0.001, center=True, scale=True, trainable=True, fused=None, renorm=False, renorm_clipping=None, renorm_momentum=0.4, adjustment=None)(layers)\n",
        "    layers = tf.keras.layers.AveragePooling2D((2,2), strides= (2,2))(layers)\n",
        "    #Block 3\n",
        "    layers = tf.keras.layers.SpatialDropout2D(rate=0.1, data_format=\"channels_last\")(layers)\n",
        "    layers = Conv2D(256, (3,3), strides=(1,1),padding=\"same\", kernel_initializer='glorot_normal', kernel_regularizer=tf.keras.regularizers.l2(0.0001),bias_regularizer=tf.keras.regularizers.l2(0.0001))(layers) \n",
        "    layers = ReLU(negative_slope=0.1, threshold=0)(layers)\n",
        "    layers = Lambda(tf.keras.backend.abs)(layers)\n",
        "    layers = BatchNormalization(momentum=0.2, epsilon=0.001, center=True, scale=True, trainable=True, fused=None, renorm=False, renorm_clipping=None, renorm_momentum=0.4, adjustment=None)(layers)\n",
        "    layers = tf.keras.layers.SpatialDropout2D(rate=0.1, data_format=\"channels_last\")(layers)\n",
        "    layers = Conv2D(256, (3,3), strides=(1,1),padding=\"same\", kernel_initializer='glorot_normal', kernel_regularizer=tf.keras.regularizers.l2(0.0001),bias_regularizer=tf.keras.regularizers.l2(0.0001))(layers) \n",
        "    layers = ReLU(negative_slope=0.1, threshold=0)(layers)\n",
        "    layers = Lambda(tf.keras.backend.abs)(layers)\n",
        "    layers = BatchNormalization(momentum=0.2, epsilon=0.001, center=True, scale=True, trainable=True, fused=None, renorm=False, renorm_clipping=None, renorm_momentum=0.4, adjustment=None)(layers)\n",
        "    layers = Conv2D(256, (3,3), strides=(1,1),padding=\"same\", kernel_initializer='glorot_normal', kernel_regularizer=tf.keras.regularizers.l2(0.0001),bias_regularizer=tf.keras.regularizers.l2(0.0001))(layers) \n",
        "    layers = ReLU(negative_slope=0.1, threshold=0)(layers)\n",
        "    layers = Lambda(tf.keras.backend.abs)(layers)\n",
        "    layers = BatchNormalization(momentum=0.2, epsilon=0.001, center=True, scale=True, trainable=True, fused=None, renorm=False, renorm_clipping=None, renorm_momentum=0.4, adjustment=None)(layers)\n",
        "    layers = tf.keras.layers.AveragePooling2D((2,2), strides= (2,2))(layers)\n",
        "    #Block 4\n",
        "    layers = tf.keras.layers.SpatialDropout2D(rate=0.1, data_format=\"channels_last\")(layers)\n",
        "    layers = Conv2D(512, (3,3), strides=(1,1),padding=\"same\", kernel_initializer='glorot_normal', kernel_regularizer=tf.keras.regularizers.l2(0.0001),bias_regularizer=tf.keras.regularizers.l2(0.0001))(layers) \n",
        "    layers = ReLU(negative_slope=0.1, threshold=0)(layers)\n",
        "    layers = Lambda(tf.keras.backend.abs)(layers)\n",
        "    layers = BatchNormalization(momentum=0.2, epsilon=0.001, center=True, scale=True, trainable=True, fused=None, renorm=False, renorm_clipping=None, renorm_momentum=0.4, adjustment=None)(layers)\n",
        "    layers = tf.keras.layers.SpatialDropout2D(rate=0.1, data_format=\"channels_last\")(layers)\n",
        "    layers = Conv2D(512, (3,3), strides=(1,1),padding=\"same\", kernel_initializer='glorot_normal', kernel_regularizer=tf.keras.regularizers.l2(0.0001),bias_regularizer=tf.keras.regularizers.l2(0.0001))(layers) \n",
        "    layers = ReLU(negative_slope=0.1, threshold=0)(layers)\n",
        "    layers = Lambda(tf.keras.backend.abs)(layers)\n",
        "    layers = BatchNormalization(momentum=0.2, epsilon=0.001, center=True, scale=True, trainable=True, fused=None, renorm=False, renorm_clipping=None, renorm_momentum=0.4, adjustment=None)(layers)\n",
        "    layers = Conv2D(512, (3,3), strides=(1,1),padding=\"same\", kernel_initializer='glorot_normal', kernel_regularizer=tf.keras.regularizers.l2(0.0001),bias_regularizer=tf.keras.regularizers.l2(0.0001))(layers) \n",
        "    layers = ReLU(negative_slope=0.1, threshold=0)(layers)\n",
        "    layers = Lambda(tf.keras.backend.abs)(layers)\n",
        "    layers = BatchNormalization(momentum=0.2, epsilon=0.001, center=True, scale=True, trainable=True, fused=None, renorm=False, renorm_clipping=None, renorm_momentum=0.4, adjustment=None)(layers)\n",
        "    layers = tf.keras.layers.AveragePooling2D((2,2), strides= (2,2))(layers)\n",
        "\n",
        "    #Block 5\n",
        "    layers = tf.keras.layers.SpatialDropout2D(rate=0.1, data_format=\"channels_last\")(layers)\n",
        "    layers = Conv2D(512, (3,3), strides=(1,1),padding=\"same\", kernel_initializer='glorot_normal', kernel_regularizer=tf.keras.regularizers.l2(0.0001),bias_regularizer=tf.keras.regularizers.l2(0.0001))(layers) \n",
        "    layers = ReLU(negative_slope=0.1, threshold=0)(layers)\n",
        "    layers = Lambda(tf.keras.backend.abs)(layers)\n",
        "    layers = BatchNormalization(momentum=0.2, epsilon=0.001, center=True, scale=True, trainable=True, fused=None, renorm=False, renorm_clipping=None, renorm_momentum=0.4, adjustment=None)(layers)\n",
        "    layers = tf.keras.layers.SpatialDropout2D(rate=0.1, data_format=\"channels_last\")(layers)\n",
        "    layers = Conv2D(512, (3,3), strides=(1,1),padding=\"same\", kernel_initializer='glorot_normal', kernel_regularizer=tf.keras.regularizers.l2(0.0001),bias_regularizer=tf.keras.regularizers.l2(0.0001))(layers) \n",
        "    layers = ReLU(negative_slope=0.1, threshold=0)(layers)\n",
        "    layers = Lambda(tf.keras.backend.abs)(layers)\n",
        "    layers = BatchNormalization(momentum=0.2, epsilon=0.001, center=True, scale=True, trainable=True, fused=None, renorm=False, renorm_clipping=None, renorm_momentum=0.4, adjustment=None)(layers)\n",
        "    layers = Conv2D(512, (3,3), strides=(1,1),padding=\"same\", kernel_initializer='glorot_normal', kernel_regularizer=tf.keras.regularizers.l2(0.0001),bias_regularizer=tf.keras.regularizers.l2(0.0001))(layers) \n",
        "    layers = ReLU(negative_slope=0.1, threshold=0)(layers)\n",
        "    layers = Lambda(tf.keras.backend.abs)(layers)\n",
        "    layers = BatchNormalization(momentum=0.2, epsilon=0.001, center=True, scale=True, trainable=True, fused=None, renorm=False, renorm_clipping=None, renorm_momentum=0.4, adjustment=None)(layers)\n",
        "    layers = tf.keras.layers.AveragePooling2D((2,2), strides= (2,2))(layers)\n",
        "    layers = Concatenate()([layers, layers, layers])\n",
        "    layers = tf.keras.layers.GlobalAveragePooling2D(data_format=\"channels_last\")(layers)\n",
        "    #Block 6\n",
        "    #FC\n",
        "    layers = Dense(128,kernel_initializer='glorot_normal',kernel_regularizer=tf.keras.regularizers.l2(0.0001),bias_regularizer=tf.keras.regularizers.l2(0.0001))(layers)\n",
        "    layers = ReLU(negative_slope=0.1, threshold=0)(layers)\n",
        "    layers = Dense(64,kernel_initializer='glorot_normal',kernel_regularizer=tf.keras.regularizers.l2(0.0001),bias_regularizer=tf.keras.regularizers.l2(0.0001))(layers)\n",
        "    layers = ReLU(negative_slope=0.1, threshold=0)(layers)\n",
        "    layers = Dense(32,kernel_initializer='glorot_normal',kernel_regularizer=tf.keras.regularizers.l2(0.0001),bias_regularizer=tf.keras.regularizers.l2(0.0001))(layers)\n",
        "    layers = ReLU(negative_slope=0.1, threshold=0)(layers)\n",
        "   \n",
        "    #Softmax\n",
        "    predictions = Dense(2, activation=\"softmax\", name=\"output_1\",kernel_regularizer=tf.keras.regularizers.l2(0.0001),bias_regularizer=tf.keras.regularizers.l2(0.0001))(layers)\n",
        "    model =tf.keras.Model(inputs = inputs, outputs=predictions)\n",
        "    #Compile\n",
        "    optimizer = tf.keras.optimizers.SGD(learning_rate=0.005, momentum=0.95)\n",
        "    \n",
        "    if compile:\n",
        "        model.compile(optimizer= optimizer,\n",
        "                      loss='binary_crossentropy',\n",
        "                      metrics=['accuracy'])\n",
        "        \n",
        "        print (\"VGG16 AveragePooling model generated\")\n",
        "\n",
        "    return model"
      ],
      "execution_count": null,
      "outputs": []
    },
    {
      "cell_type": "markdown",
      "metadata": {
        "id": "9m2WTBb47z1e"
      },
      "source": [
        "#### VGG19Stego"
      ]
    },
    {
      "cell_type": "code",
      "metadata": {
        "id": "llnmcZcs722O"
      },
      "source": [
        "def get_vgg19_max(img_size=256):\n",
        "    \n",
        "    #Inputs\n",
        "    inputs = tf.keras.Input(shape=(img_size,img_size,1), name=\"input_1\")\n",
        "    \n",
        "    #Block 1\n",
        "    \n",
        "    layers = tf.keras.layers.Conv2D(30, (5,5), weights=[srm_weights,biasSRM], strides=(1,1), trainable=False, activation=Tanh3, use_bias=True)(inputs )\n",
        "    layers = Conv2D(64, (3,3), strides=(1,1),padding=\"same\", kernel_initializer='glorot_normal', kernel_regularizer=tf.keras.regularizers.l2(0.0001),bias_regularizer=tf.keras.regularizers.l2(0.0001))(layers) \n",
        "    layers = ReLU(negative_slope=0.1, threshold=0)(layers)\n",
        "    layers = Lambda(tf.keras.backend.abs)(layers)\n",
        "    layers = BatchNormalization(momentum=0.2, epsilon=0.001, center=True, scale=True, trainable=True, fused=None, renorm=False, renorm_clipping=None, renorm_momentum=0.4, adjustment=None)(layers)\n",
        "    layers = Concatenate()([layers, layers, layers])\n",
        "    layers = tf.keras.layers.SpatialDropout2D(rate=0.1)(layers)\n",
        "    layers = Conv2D(64, (3,3), strides=(1,1),padding=\"same\", kernel_initializer='glorot_normal', kernel_regularizer=tf.keras.regularizers.l2(0.0001),bias_regularizer=tf.keras.regularizers.l2(0.0001))(layers) \n",
        "    layers = ReLU(negative_slope=0.1, threshold=0)(layers)\n",
        "    layers = Lambda(tf.keras.backend.abs)(layers)\n",
        "    layers = BatchNormalization(momentum=0.2, epsilon=0.001, center=True, scale=True, trainable=True, fused=None, renorm=False, renorm_clipping=None, renorm_momentum=0.4, adjustment=None)(layers)\n",
        "    layers = tf.keras.layers.MaxPooling2D((2,2), strides= (2,2))(layers)\n",
        "    #Block 2\n",
        "    layers = tf.keras.layers.SpatialDropout2D(rate=0.1, data_format=\"channels_last\")(layers)\n",
        "    layers = Conv2D(128, (3,3), strides=(1,1),padding=\"same\", kernel_initializer='glorot_normal', kernel_regularizer=tf.keras.regularizers.l2(0.0001),bias_regularizer=tf.keras.regularizers.l2(0.0001))(layers) \n",
        "    layers = ReLU(negative_slope=0.1, threshold=0)(layers)\n",
        "    layers = Lambda(tf.keras.backend.abs)(layers)\n",
        "    layers = BatchNormalization(momentum=0.2, epsilon=0.001, center=True, scale=True, trainable=True, fused=None, renorm=False, renorm_clipping=None, renorm_momentum=0.4, adjustment=None)(layers)\n",
        "    layers = tf.keras.layers.SpatialDropout2D(rate=0.1, data_format=\"channels_last\")(layers)\n",
        "    layers = Conv2D(128, (3,3), strides=(1,1),padding=\"same\", kernel_initializer='glorot_normal', kernel_regularizer=tf.keras.regularizers.l2(0.0001),bias_regularizer=tf.keras.regularizers.l2(0.0001))(layers) \n",
        "    layers = ReLU(negative_slope=0.1, threshold=0)(layers)\n",
        "    layers = Lambda(tf.keras.backend.abs)(layers)\n",
        "    layers = BatchNormalization(momentum=0.2, epsilon=0.001, center=True, scale=True, trainable=True, fused=None, renorm=False, renorm_clipping=None, renorm_momentum=0.4, adjustment=None)(layers)\n",
        "    layers = tf.keras.layers.MaxPooling2D((2,2), strides= (2,2))(layers)\n",
        "    #Block 3\n",
        "    layers = tf.keras.layers.SpatialDropout2D(rate=0.1, data_format=\"channels_last\")(layers)\n",
        "    layers = Conv2D(256, (3,3), strides=(1,1),padding=\"same\", kernel_initializer='glorot_normal', kernel_regularizer=tf.keras.regularizers.l2(0.0001),bias_regularizer=tf.keras.regularizers.l2(0.0001))(layers) \n",
        "    layers = ReLU(negative_slope=0.1, threshold=0)(layers)\n",
        "    layers = Lambda(tf.keras.backend.abs)(layers)\n",
        "    layers = BatchNormalization(momentum=0.2, epsilon=0.001, center=True, scale=True, trainable=True, fused=None, renorm=False, renorm_clipping=None, renorm_momentum=0.4, adjustment=None)(layers)\n",
        "    layers = tf.keras.layers.SpatialDropout2D(rate=0.1, data_format=\"channels_last\")(layers)\n",
        "    layers = Conv2D(256, (3,3), strides=(1,1),padding=\"same\", kernel_initializer='glorot_normal', kernel_regularizer=tf.keras.regularizers.l2(0.0001),bias_regularizer=tf.keras.regularizers.l2(0.0001))(layers) \n",
        "    layers = ReLU(negative_slope=0.1, threshold=0)(layers)\n",
        "    layers = Lambda(tf.keras.backend.abs)(layers)\n",
        "    layers = BatchNormalization(momentum=0.2, epsilon=0.001, center=True, scale=True, trainable=True, fused=None, renorm=False, renorm_clipping=None, renorm_momentum=0.4, adjustment=None)(layers)\n",
        "    layers = Conv2D(256, (3,3), strides=(1,1),padding=\"same\", kernel_initializer='glorot_normal', kernel_regularizer=tf.keras.regularizers.l2(0.0001),bias_regularizer=tf.keras.regularizers.l2(0.0001))(layers) \n",
        "    layers = ReLU(negative_slope=0.1, threshold=0)(layers)\n",
        "    layers = Lambda(tf.keras.backend.abs)(layers)\n",
        "    layers = BatchNormalization(momentum=0.2, epsilon=0.001, center=True, scale=True, trainable=True, fused=None, renorm=False, renorm_clipping=None, renorm_momentum=0.4, adjustment=None)(layers)\n",
        "    layers = Conv2D(256, (3,3), strides=(1,1),padding=\"same\", kernel_initializer='glorot_normal', kernel_regularizer=tf.keras.regularizers.l2(0.0001),bias_regularizer=tf.keras.regularizers.l2(0.0001))(layers) \n",
        "    layers = ReLU(negative_slope=0.1, threshold=0)(layers)\n",
        "    layers = Lambda(tf.keras.backend.abs)(layers)\n",
        "    layers = BatchNormalization(momentum=0.2, epsilon=0.001, center=True, scale=True, trainable=True, fused=None, renorm=False, renorm_clipping=None, renorm_momentum=0.4, adjustment=None)(layers)\n",
        "    layers = tf.keras.layers.MaxPooling2D((2,2), strides= (2,2))(layers)\n",
        "    #Block 4\n",
        "    layers = tf.keras.layers.SpatialDropout2D(rate=0.1, data_format=\"channels_last\")(layers)\n",
        "    layers = Conv2D(512, (3,3), strides=(1,1),padding=\"same\", kernel_initializer='glorot_normal', kernel_regularizer=tf.keras.regularizers.l2(0.0001),bias_regularizer=tf.keras.regularizers.l2(0.0001))(layers) \n",
        "    layers = ReLU(negative_slope=0.1, threshold=0)(layers)\n",
        "    layers = Lambda(tf.keras.backend.abs)(layers)\n",
        "    layers = BatchNormalization(momentum=0.2, epsilon=0.001, center=True, scale=True, trainable=True, fused=None, renorm=False, renorm_clipping=None, renorm_momentum=0.4, adjustment=None)(layers)\n",
        "    layers = tf.keras.layers.SpatialDropout2D(rate=0.1, data_format=\"channels_last\")(layers)\n",
        "    layers = Conv2D(512, (3,3), strides=(1,1),padding=\"same\", kernel_initializer='glorot_normal', kernel_regularizer=tf.keras.regularizers.l2(0.0001),bias_regularizer=tf.keras.regularizers.l2(0.0001))(layers) \n",
        "    layers = ReLU(negative_slope=0.1, threshold=0)(layers)\n",
        "    layers = Lambda(tf.keras.backend.abs)(layers)\n",
        "    layers = BatchNormalization(momentum=0.2, epsilon=0.001, center=True, scale=True, trainable=True, fused=None, renorm=False, renorm_clipping=None, renorm_momentum=0.4, adjustment=None)(layers)\n",
        "    layers = Conv2D(512, (3,3), strides=(1,1),padding=\"same\", kernel_initializer='glorot_normal', kernel_regularizer=tf.keras.regularizers.l2(0.0001),bias_regularizer=tf.keras.regularizers.l2(0.0001))(layers) \n",
        "    layers = ReLU(negative_slope=0.1, threshold=0)(layers)\n",
        "    layers = Lambda(tf.keras.backend.abs)(layers)\n",
        "    layers = BatchNormalization(momentum=0.2, epsilon=0.001, center=True, scale=True, trainable=True, fused=None, renorm=False, renorm_clipping=None, renorm_momentum=0.4, adjustment=None)(layers)\n",
        "    layers = Conv2D(512, (3,3), strides=(1,1),padding=\"same\", kernel_initializer='glorot_normal', kernel_regularizer=tf.keras.regularizers.l2(0.0001),bias_regularizer=tf.keras.regularizers.l2(0.0001))(layers) \n",
        "    layers = ReLU(negative_slope=0.1, threshold=0)(layers)\n",
        "    layers = Lambda(tf.keras.backend.abs)(layers)\n",
        "    layers = BatchNormalization(momentum=0.2, epsilon=0.001, center=True, scale=True, trainable=True, fused=None, renorm=False, renorm_clipping=None, renorm_momentum=0.4, adjustment=None)(layers)\n",
        "    layers = tf.keras.layers.MaxPooling2D((2,2), strides= (2,2))(layers)\n",
        "\n",
        "    #Block 5\n",
        "    layers = tf.keras.layers.SpatialDropout2D(rate=0.1, data_format=\"channels_last\")(layers)\n",
        "    layers = Conv2D(512, (3,3), strides=(1,1),padding=\"same\", kernel_initializer='glorot_normal', kernel_regularizer=tf.keras.regularizers.l2(0.0001),bias_regularizer=tf.keras.regularizers.l2(0.0001))(layers) \n",
        "    layers = ReLU(negative_slope=0.1, threshold=0)(layers)\n",
        "    layers = Lambda(tf.keras.backend.abs)(layers)\n",
        "    layers = BatchNormalization(momentum=0.2, epsilon=0.001, center=True, scale=True, trainable=True, fused=None, renorm=False, renorm_clipping=None, renorm_momentum=0.4, adjustment=None)(layers)\n",
        "    layers = tf.keras.layers.SpatialDropout2D(rate=0.1, data_format=\"channels_last\")(layers)\n",
        "    layers = Conv2D(512, (3,3), strides=(1,1),padding=\"same\", kernel_initializer='glorot_normal', kernel_regularizer=tf.keras.regularizers.l2(0.0001),bias_regularizer=tf.keras.regularizers.l2(0.0001))(layers) \n",
        "    layers = ReLU(negative_slope=0.1, threshold=0)(layers)\n",
        "    layers = Lambda(tf.keras.backend.abs)(layers)\n",
        "    layers = BatchNormalization(momentum=0.2, epsilon=0.001, center=True, scale=True, trainable=True, fused=None, renorm=False, renorm_clipping=None, renorm_momentum=0.4, adjustment=None)(layers)\n",
        "    layers = Conv2D(512, (3,3), strides=(1,1),padding=\"same\", kernel_initializer='glorot_normal', kernel_regularizer=tf.keras.regularizers.l2(0.0001),bias_regularizer=tf.keras.regularizers.l2(0.0001))(layers) \n",
        "    layers = ReLU(negative_slope=0.1, threshold=0)(layers)\n",
        "    layers = Lambda(tf.keras.backend.abs)(layers)\n",
        "    layers = BatchNormalization(momentum=0.2, epsilon=0.001, center=True, scale=True, trainable=True, fused=None, renorm=False, renorm_clipping=None, renorm_momentum=0.4, adjustment=None)(layers)\n",
        "    layers = tf.keras.layers.AveragePooling2D((2,2), strides= (2,2))(layers)\n",
        "    layers = Concatenate()([layers, layers, layers])\n",
        "    layers = tf.keras.layers.GlobalMaxPooling2D(data_format=\"channels_last\")(layers)\n",
        "    #Block 6\n",
        "    #FC\n",
        "    layers = Dense(128,kernel_initializer='glorot_normal',kernel_regularizer=tf.keras.regularizers.l2(0.0001),bias_regularizer=tf.keras.regularizers.l2(0.0001))(layers)\n",
        "    layers = ReLU(negative_slope=0.1, threshold=0)(layers)\n",
        "    layers = Dense(64,kernel_initializer='glorot_normal',kernel_regularizer=tf.keras.regularizers.l2(0.0001),bias_regularizer=tf.keras.regularizers.l2(0.0001))(layers)\n",
        "    layers = ReLU(negative_slope=0.1, threshold=0)(layers)\n",
        "    layers = Dense(32,kernel_initializer='glorot_normal',kernel_regularizer=tf.keras.regularizers.l2(0.0001),bias_regularizer=tf.keras.regularizers.l2(0.0001))(layers)\n",
        "    layers = ReLU(negative_slope=0.1, threshold=0)(layers)\n",
        "   \n",
        "    #Softmax\n",
        "    predictions = Dense(2, activation=\"softmax\", name=\"output_1\",kernel_regularizer=tf.keras.regularizers.l2(0.0001),bias_regularizer=tf.keras.regularizers.l2(0.0001))(layers)\n",
        "    model =tf.keras.Model(inputs = inputs, outputs=predictions)\n",
        "    #Compile\n",
        "    optimizer = tf.keras.optimizers.SGD(learning_rate=0.005, momentum=0.95)\n",
        "    \n",
        "    model.compile(optimizer= optimizer,loss='binary_crossentropy',metrics=['accuracy'])\n",
        "        \n",
        "    print (\"VGG19 MaxPooling model generated\")\n",
        "\n",
        "    return model\n",
        "\n",
        "   "
      ],
      "execution_count": null,
      "outputs": []
    },
    {
      "cell_type": "code",
      "metadata": {
        "id": "kyqPTTro0I9p"
      },
      "source": [
        "def get_vgg19_avg(img_size=256):\n",
        "    \n",
        "    #Inputs\n",
        "    inputs = tf.keras.Input(shape=(img_size,img_size,1), name=\"input_1\")\n",
        "    \n",
        "    #Block 1\n",
        "    \n",
        "    layers = tf.keras.layers.Conv2D(30, (5,5), weights=[srm_weights,biasSRM], strides=(1,1), trainable=False, activation=Tanh3, use_bias=True)(inputs )\n",
        "    layers = Conv2D(64, (3,3), strides=(1,1),padding=\"same\", kernel_initializer='glorot_normal', kernel_regularizer=tf.keras.regularizers.l2(0.0001),bias_regularizer=tf.keras.regularizers.l2(0.0001))(layers) \n",
        "    layers = ReLU(negative_slope=0.1, threshold=0)(layers)\n",
        "    layers = Lambda(tf.keras.backend.abs)(layers)\n",
        "    layers = BatchNormalization(momentum=0.2, epsilon=0.001, center=True, scale=True, trainable=True, fused=None, renorm=False, renorm_clipping=None, renorm_momentum=0.4, adjustment=None)(layers)\n",
        "    layers = Concatenate()([layers, layers, layers])\n",
        "    layers = tf.keras.layers.SpatialDropout2D(rate=0.1)(layers)\n",
        "    layers = Conv2D(64, (3,3), strides=(1,1),padding=\"same\", kernel_initializer='glorot_normal', kernel_regularizer=tf.keras.regularizers.l2(0.0001),bias_regularizer=tf.keras.regularizers.l2(0.0001))(layers) \n",
        "    layers = ReLU(negative_slope=0.1, threshold=0)(layers)\n",
        "    layers = Lambda(tf.keras.backend.abs)(layers)\n",
        "    layers = BatchNormalization(momentum=0.2, epsilon=0.001, center=True, scale=True, trainable=True, fused=None, renorm=False, renorm_clipping=None, renorm_momentum=0.4, adjustment=None)(layers)\n",
        "    layers = tf.keras.layers.AveragePooling2D((2,2), strides= (2,2))(layers)\n",
        "    #Block 2\n",
        "    layers = tf.keras.layers.SpatialDropout2D(rate=0.1, data_format=\"channels_last\")(layers)\n",
        "    layers = Conv2D(128, (3,3), strides=(1,1),padding=\"same\", kernel_initializer='glorot_normal', kernel_regularizer=tf.keras.regularizers.l2(0.0001),bias_regularizer=tf.keras.regularizers.l2(0.0001))(layers) \n",
        "    layers = ReLU(negative_slope=0.1, threshold=0)(layers)\n",
        "    layers = Lambda(tf.keras.backend.abs)(layers)\n",
        "    layers = BatchNormalization(momentum=0.2, epsilon=0.001, center=True, scale=True, trainable=True, fused=None, renorm=False, renorm_clipping=None, renorm_momentum=0.4, adjustment=None)(layers)\n",
        "    layers = tf.keras.layers.SpatialDropout2D(rate=0.1, data_format=\"channels_last\")(layers)\n",
        "    layers = Conv2D(128, (3,3), strides=(1,1),padding=\"same\", kernel_initializer='glorot_normal', kernel_regularizer=tf.keras.regularizers.l2(0.0001),bias_regularizer=tf.keras.regularizers.l2(0.0001))(layers) \n",
        "    layers = ReLU(negative_slope=0.1, threshold=0)(layers)\n",
        "    layers = Lambda(tf.keras.backend.abs)(layers)\n",
        "    layers = BatchNormalization(momentum=0.2, epsilon=0.001, center=True, scale=True, trainable=True, fused=None, renorm=False, renorm_clipping=None, renorm_momentum=0.4, adjustment=None)(layers)\n",
        "    layers = tf.keras.layers.AveragePooling2D((2,2), strides= (2,2))(layers)\n",
        "    #Block 3\n",
        "    layers = tf.keras.layers.SpatialDropout2D(rate=0.1, data_format=\"channels_last\")(layers)\n",
        "    layers = Conv2D(256, (3,3), strides=(1,1),padding=\"same\", kernel_initializer='glorot_normal', kernel_regularizer=tf.keras.regularizers.l2(0.0001),bias_regularizer=tf.keras.regularizers.l2(0.0001))(layers) \n",
        "    layers = ReLU(negative_slope=0.1, threshold=0)(layers)\n",
        "    layers = Lambda(tf.keras.backend.abs)(layers)\n",
        "    layers = BatchNormalization(momentum=0.2, epsilon=0.001, center=True, scale=True, trainable=True, fused=None, renorm=False, renorm_clipping=None, renorm_momentum=0.4, adjustment=None)(layers)\n",
        "    layers = tf.keras.layers.SpatialDropout2D(rate=0.1, data_format=\"channels_last\")(layers)\n",
        "    layers = Conv2D(256, (3,3), strides=(1,1),padding=\"same\", kernel_initializer='glorot_normal', kernel_regularizer=tf.keras.regularizers.l2(0.0001),bias_regularizer=tf.keras.regularizers.l2(0.0001))(layers) \n",
        "    layers = ReLU(negative_slope=0.1, threshold=0)(layers)\n",
        "    layers = Lambda(tf.keras.backend.abs)(layers)\n",
        "    layers = BatchNormalization(momentum=0.2, epsilon=0.001, center=True, scale=True, trainable=True, fused=None, renorm=False, renorm_clipping=None, renorm_momentum=0.4, adjustment=None)(layers)\n",
        "    layers = Conv2D(256, (3,3), strides=(1,1),padding=\"same\", kernel_initializer='glorot_normal', kernel_regularizer=tf.keras.regularizers.l2(0.0001),bias_regularizer=tf.keras.regularizers.l2(0.0001))(layers) \n",
        "    layers = ReLU(negative_slope=0.1, threshold=0)(layers)\n",
        "    layers = Lambda(tf.keras.backend.abs)(layers)\n",
        "    layers = BatchNormalization(momentum=0.2, epsilon=0.001, center=True, scale=True, trainable=True, fused=None, renorm=False, renorm_clipping=None, renorm_momentum=0.4, adjustment=None)(layers)\n",
        "    layers = Conv2D(256, (3,3), strides=(1,1),padding=\"same\", kernel_initializer='glorot_normal', kernel_regularizer=tf.keras.regularizers.l2(0.0001),bias_regularizer=tf.keras.regularizers.l2(0.0001))(layers) \n",
        "    layers = ReLU(negative_slope=0.1, threshold=0)(layers)\n",
        "    layers = Lambda(tf.keras.backend.abs)(layers)\n",
        "    layers = BatchNormalization(momentum=0.2, epsilon=0.001, center=True, scale=True, trainable=True, fused=None, renorm=False, renorm_clipping=None, renorm_momentum=0.4, adjustment=None)(layers)\n",
        "    layers = tf.keras.layers.AveragePooling2D((2,2), strides= (2,2))(layers)\n",
        "    #Block 4\n",
        "    layers = tf.keras.layers.SpatialDropout2D(rate=0.1, data_format=\"channels_last\")(layers)\n",
        "    layers = Conv2D(512, (3,3), strides=(1,1),padding=\"same\", kernel_initializer='glorot_normal', kernel_regularizer=tf.keras.regularizers.l2(0.0001),bias_regularizer=tf.keras.regularizers.l2(0.0001))(layers) \n",
        "    layers = ReLU(negative_slope=0.1, threshold=0)(layers)\n",
        "    layers = Lambda(tf.keras.backend.abs)(layers)\n",
        "    layers = BatchNormalization(momentum=0.2, epsilon=0.001, center=True, scale=True, trainable=True, fused=None, renorm=False, renorm_clipping=None, renorm_momentum=0.4, adjustment=None)(layers)\n",
        "    layers = tf.keras.layers.SpatialDropout2D(rate=0.1, data_format=\"channels_last\")(layers)\n",
        "    layers = Conv2D(512, (3,3), strides=(1,1),padding=\"same\", kernel_initializer='glorot_normal', kernel_regularizer=tf.keras.regularizers.l2(0.0001),bias_regularizer=tf.keras.regularizers.l2(0.0001))(layers) \n",
        "    layers = ReLU(negative_slope=0.1, threshold=0)(layers)\n",
        "    layers = Lambda(tf.keras.backend.abs)(layers)\n",
        "    layers = BatchNormalization(momentum=0.2, epsilon=0.001, center=True, scale=True, trainable=True, fused=None, renorm=False, renorm_clipping=None, renorm_momentum=0.4, adjustment=None)(layers)\n",
        "    layers = Conv2D(512, (3,3), strides=(1,1),padding=\"same\", kernel_initializer='glorot_normal', kernel_regularizer=tf.keras.regularizers.l2(0.0001),bias_regularizer=tf.keras.regularizers.l2(0.0001))(layers) \n",
        "    layers = ReLU(negative_slope=0.1, threshold=0)(layers)\n",
        "    layers = Lambda(tf.keras.backend.abs)(layers)\n",
        "    layers = BatchNormalization(momentum=0.2, epsilon=0.001, center=True, scale=True, trainable=True, fused=None, renorm=False, renorm_clipping=None, renorm_momentum=0.4, adjustment=None)(layers)\n",
        "    layers = Conv2D(512, (3,3), strides=(1,1),padding=\"same\", kernel_initializer='glorot_normal', kernel_regularizer=tf.keras.regularizers.l2(0.0001),bias_regularizer=tf.keras.regularizers.l2(0.0001))(layers) \n",
        "    layers = ReLU(negative_slope=0.1, threshold=0)(layers)\n",
        "    layers = Lambda(tf.keras.backend.abs)(layers)\n",
        "    layers = BatchNormalization(momentum=0.2, epsilon=0.001, center=True, scale=True, trainable=True, fused=None, renorm=False, renorm_clipping=None, renorm_momentum=0.4, adjustment=None)(layers)\n",
        "    layers = tf.keras.layers.AveragePooling2D((2,2), strides= (2,2))(layers)\n",
        "\n",
        "    #Block 5\n",
        "    layers = tf.keras.layers.SpatialDropout2D(rate=0.1, data_format=\"channels_last\")(layers)\n",
        "    layers = Conv2D(512, (3,3), strides=(1,1),padding=\"same\", kernel_initializer='glorot_normal', kernel_regularizer=tf.keras.regularizers.l2(0.0001),bias_regularizer=tf.keras.regularizers.l2(0.0001))(layers) \n",
        "    layers = ReLU(negative_slope=0.1, threshold=0)(layers)\n",
        "    layers = Lambda(tf.keras.backend.abs)(layers)\n",
        "    layers = BatchNormalization(momentum=0.2, epsilon=0.001, center=True, scale=True, trainable=True, fused=None, renorm=False, renorm_clipping=None, renorm_momentum=0.4, adjustment=None)(layers)\n",
        "    layers = tf.keras.layers.SpatialDropout2D(rate=0.1, data_format=\"channels_last\")(layers)\n",
        "    layers = Conv2D(512, (3,3), strides=(1,1),padding=\"same\", kernel_initializer='glorot_normal', kernel_regularizer=tf.keras.regularizers.l2(0.0001),bias_regularizer=tf.keras.regularizers.l2(0.0001))(layers) \n",
        "    layers = ReLU(negative_slope=0.1, threshold=0)(layers)\n",
        "    layers = Lambda(tf.keras.backend.abs)(layers)\n",
        "    layers = BatchNormalization(momentum=0.2, epsilon=0.001, center=True, scale=True, trainable=True, fused=None, renorm=False, renorm_clipping=None, renorm_momentum=0.4, adjustment=None)(layers)\n",
        "    layers = Conv2D(512, (3,3), strides=(1,1),padding=\"same\", kernel_initializer='glorot_normal', kernel_regularizer=tf.keras.regularizers.l2(0.0001),bias_regularizer=tf.keras.regularizers.l2(0.0001))(layers) \n",
        "    layers = ReLU(negative_slope=0.1, threshold=0)(layers)\n",
        "    layers = Lambda(tf.keras.backend.abs)(layers)\n",
        "    layers = BatchNormalization(momentum=0.2, epsilon=0.001, center=True, scale=True, trainable=True, fused=None, renorm=False, renorm_clipping=None, renorm_momentum=0.4, adjustment=None)(layers)\n",
        "    layers = tf.keras.layers.AveragePooling2D((2,2), strides= (2,2))(layers)\n",
        "    layers = Concatenate()([layers, layers, layers])\n",
        "    layers = tf.keras.layers.GlobalAveragePooling2D(data_format=\"channels_last\")(layers)\n",
        "    #Block 6\n",
        "    #FC\n",
        "    layers = Dense(128,kernel_initializer='glorot_normal',kernel_regularizer=tf.keras.regularizers.l2(0.0001),bias_regularizer=tf.keras.regularizers.l2(0.0001))(layers)\n",
        "    layers = ReLU(negative_slope=0.1, threshold=0)(layers)\n",
        "    layers = Dense(64,kernel_initializer='glorot_normal',kernel_regularizer=tf.keras.regularizers.l2(0.0001),bias_regularizer=tf.keras.regularizers.l2(0.0001))(layers)\n",
        "    layers = ReLU(negative_slope=0.1, threshold=0)(layers)\n",
        "    layers = Dense(32,kernel_initializer='glorot_normal',kernel_regularizer=tf.keras.regularizers.l2(0.0001),bias_regularizer=tf.keras.regularizers.l2(0.0001))(layers)\n",
        "    layers = ReLU(negative_slope=0.1, threshold=0)(layers)\n",
        "   \n",
        "    #Softmax\n",
        "    predictions = Dense(2, activation=\"softmax\", name=\"output_1\",kernel_regularizer=tf.keras.regularizers.l2(0.0001),bias_regularizer=tf.keras.regularizers.l2(0.0001))(layers)\n",
        "    model =tf.keras.Model(inputs = inputs, outputs=predictions)\n",
        "    #Compile\n",
        "    optimizer = tf.keras.optimizers.SGD(learning_rate=0.005, momentum=0.95)\n",
        "    \n",
        "  \n",
        "    model.compile(optimizer= optimizer,loss='binary_crossentropy',metrics=['accuracy'])\n",
        "        \n",
        "    print (\"VGG19 AveragePooling model generated\")\n",
        "\n",
        "    return model"
      ],
      "execution_count": null,
      "outputs": []
    },
    {
      "cell_type": "markdown",
      "metadata": {
        "id": "eV5dUumyrN89"
      },
      "source": [
        "## Train"
      ]
    },
    {
      "cell_type": "markdown",
      "metadata": {
        "id": "sdcbCUwPsUeL"
      },
      "source": [
        "### Train function"
      ]
    },
    {
      "cell_type": "code",
      "metadata": {
        "id": "JX45Kun8stcW"
      },
      "source": [
        "def train(model, X_train, y_train, X_valid, y_valid, X_test, y_test, batch_size, epochs, initial_epoch = 0, model_name=\"\"):\n",
        "    start_time = tm.time()\n",
        "    log_dir=\"/content/drive/My Drive/Colab Notebooks/Steganalysis/logs/\"+model_name+\"_\"+\"{}\".format(time())\n",
        "    tensorboard = tf.keras.callbacks.TensorBoard(log_dir)\n",
        "    filepath = log_dir+\"/saved-model-{epoch:02d}-{val_accuracy:.2f}.hdf5\"\n",
        "    checkpoint = tf.keras.callbacks.ModelCheckpoint(filepath, monitor='val_accuracy', save_best_only=False, mode='max')\n",
        "    model.reset_states()\n",
        "    history=model.fit(X_train, y_train, epochs=epochs, \n",
        "                        callbacks=[tensorboard,checkpoint], \n",
        "                        batch_size=batch_size,validation_data=(X_valid, y_valid),initial_epoch=initial_epoch)\n",
        "    \n",
        "    metrics = model.evaluate(X_test, y_test, verbose=0)\n",
        "    results_dir=\"/content/drive/My Drive/Colab Notebooks/Steganalysis/Results/\"+model_name+\"/\"\n",
        "    if not os.path.exists(results_dir):\n",
        "      os.makedirs(results_dir)\n",
        "      \n",
        "    with plt.style.context('seaborn-white'):\n",
        "        plt.figure(figsize=(10, 10))\n",
        "        #plt.subplot(1,2,1)\n",
        "        #Plot training & validation accuracy values\n",
        "        plt.plot(history.history['accuracy'])\n",
        "        plt.plot(history.history['val_accuracy'])\n",
        "        plt.title('Accuracy Vs Epochs')\n",
        "        plt.ylabel('Accuracy')\n",
        "        plt.xlabel('Epoch')\n",
        "        plt.legend(['Train', 'Validation'], loc='upper left')\n",
        "        plt.grid('on')\n",
        "        plt.savefig(results_dir+'Accuracy_Yedroud_Net_'+model_name+'.eps', format='eps')\n",
        "        plt.savefig(results_dir+'Accuracy_Yedroud_Net_'+model_name+'.svg', format='svg')\n",
        "        plt.savefig(results_dir+'Accuracy_Yedroud_Net_'+model_name+'.pdf', format='pdf')\n",
        "        plt.show()\n",
        "        \n",
        "        plt.figure(figsize=(10, 10))\n",
        "        #plt.subplot(1,2,2)\n",
        "        #Plot training & validation loss values\n",
        "        plt.plot(history.history['loss'])\n",
        "        plt.plot(history.history['val_loss'])\n",
        "        plt.title('Loss Vs Epochs')\n",
        "        plt.ylabel('Loss')\n",
        "        plt.xlabel('Epoch')\n",
        "        plt.legend(['Train', 'Validation'], loc='upper left')\n",
        "        plt.grid('on')\n",
        "        plt.savefig(results_dir+'Loss_Yedroud_Net_'+model_name+'.eps', format='eps')\n",
        "        plt.savefig(results_dir+'Loss_Yedroud_Net_'+model_name+'.svg', format='svg')\n",
        "        plt.savefig(results_dir+'Loss_Yedroud_Net_'+model_name+'.pdf', format='pdf')\n",
        "        plt.show()\n",
        "\n",
        "        '''\n",
        "        plt.figure(figsize=(10, 10))\n",
        "        #plt.subplot(1,2,2)\n",
        "        #Plot training & validation loss values\n",
        "        plt.plot(history.history['lr'])\n",
        "        plt.ylabel('Lr')\n",
        "        plt.xlabel('Epoch')\n",
        "        plt.grid('on')\n",
        "        plt.show()\n",
        "        '''\n",
        "    TIME = tm.time() - start_time\n",
        "    print(\"Time \"+model_name+\" = %s [seconds]\" % TIME)\n",
        "    return {k:v for k,v in zip (model.metrics_names, metrics)}"
      ],
      "execution_count": null,
      "outputs": []
    },
    {
      "cell_type": "code",
      "metadata": {
        "id": "JfJaCVw-zBNg"
      },
      "source": [
        "def Final_Results_Test(model,PATH_trained_models):\n",
        "  B_accuracy = 0 #B --> Best\n",
        "  for filename in os.listdir(PATH_trained_models):\n",
        "    if filename != ('train') and filename != ('validation'):\n",
        "      print(filename)\n",
        "      model.load_weights(PATH_trained_models+'/'+filename)\n",
        "      loss,accuracy = model.evaluate(X_test, y_test,verbose=0)\n",
        "      print(f'Loss={loss:.4f} y Accuracy={accuracy:0.4f}'+'\\n') \n",
        "      if accuracy > B_accuracy:\n",
        "        B_accuracy = accuracy\n",
        "        B_loss = loss\n",
        "        B_name = filename\n",
        "  print(\"\\n\\nBest\")\n",
        "  print(B_name)\n",
        "  print(f'Loss={B_loss:.4f} y Accuracy={B_accuracy:0.4f}'+'\\n')"
      ],
      "execution_count": null,
      "outputs": []
    },
    {
      "cell_type": "markdown",
      "metadata": {
        "id": "DHzLnW8Vq4Hu"
      },
      "source": [
        "#### Plot training curves"
      ]
    },
    {
      "cell_type": "code",
      "metadata": {
        "id": "QOeXOlqlq4Hv"
      },
      "source": [
        "from tqdm import tqdm\n",
        "def plot_train_valid(model,PATH_trained_models,model_name):\n",
        "  acc_train=[]\n",
        "  acc_valid=[]\n",
        "  loss_train=[]\n",
        "  loss_valid=[]\n",
        "  for filename in tqdm(os.listdir(PATH_trained_models)):\n",
        "    if filename != ('train') and filename != ('validation'):\n",
        "      print(filename)\n",
        "      model.load_weights(PATH_trained_models+'/'+filename)\n",
        "      loss,accuracy = model.evaluate(X_train, y_train,verbose=0)\n",
        "      acc_train.append(accuracy)\n",
        "      loss_train.append(loss)\n",
        "      loss,accuracy = model.evaluate(X_valid, y_valid,verbose=0)\n",
        "      acc_valid.append(accuracy)\n",
        "      loss_valid.append(loss)\n",
        "\n",
        "  results_dir=\"/content/drive/My Drive/Colab Notebooks/Steganalysis/Results/\"+model_name+\"/\"\n",
        "  if not os.path.exists(results_dir):\n",
        "    os.makedirs(results_dir)\n",
        "        \n",
        "  with plt.style.context('seaborn-white'):\n",
        "    plt.figure(figsize=(10, 10))\n",
        "    #plt.subplot(1,2,1)\n",
        "    #Plot training & validation accuracy values\n",
        "    plt.plot(acc_train)\n",
        "    plt.plot(acc_valid)\n",
        "    plt.title('Accuracy Vs Epochs')\n",
        "    plt.ylabel('Accuracy')\n",
        "    plt.xlabel('Epoch')\n",
        "    plt.legend(['Train', 'Validation'], loc='upper left')\n",
        "    plt.grid('on')\n",
        "    plt.savefig(results_dir+'Accuracy_Yedroud_Net_'+model_name+'.eps', format='eps')\n",
        "    plt.savefig(results_dir+'Accuracy_Yedroud_Net_'+model_name+'.svg', format='svg')\n",
        "    plt.savefig(results_dir+'Accuracy_Yedroud_Net_'+model_name+'.pdf', format='pdf')\n",
        "    plt.show()\n",
        "\n",
        "    plt.figure(figsize=(10, 10))\n",
        "    #plt.subplot(1,2,2)\n",
        "    #Plot training & validation loss values\n",
        "    plt.plot(loss_train)\n",
        "    plt.plot(loss_valid)\n",
        "    plt.title('Loss Vs Epochs')\n",
        "    plt.ylabel('Loss')\n",
        "    plt.xlabel('Epoch')\n",
        "    plt.legend(['Train', 'Validation'], loc='upper left')\n",
        "    plt.grid('on')\n",
        "    plt.savefig(results_dir+'Loss_Yedroud_Net_'+model_name+'.eps', format='eps')\n",
        "    plt.savefig(results_dir+'Loss_Yedroud_Net_'+model_name+'.svg', format='svg')\n",
        "    plt.savefig(results_dir+'Loss_Yedroud_Net_'+model_name+'.pdf', format='pdf')\n",
        "    plt.show()\n",
        "\n",
        "    '''\n",
        "    plt.figure(figsize=(10, 10))\n",
        "    #plt.subplot(1,2,2)\n",
        "    #Plot training & validation loss values\n",
        "    plt.plot(history.history['lr'])\n",
        "    plt.ylabel('Lr')\n",
        "    plt.xlabel('Epoch')\n",
        "    plt.grid('on')\n",
        "    plt.show()\n",
        "    '''\n",
        "  results={'acc_train':acc_train,'acc_valid':acc_valid,'loss_train':loss_train,'loss_valid':loss_valid}\n",
        "  return results"
      ],
      "execution_count": null,
      "outputs": []
    },
    {
      "cell_type": "code",
      "metadata": {
        "id": "24lsH-OQq4Hz"
      },
      "source": [
        "from tqdm import tqdm\n",
        "def plot_train_valid_test(X_train, y_train,X_valid, y_valid,X_test, y_test,model,PATH_trained_models,model_name):\n",
        "  acc_train=[]\n",
        "  acc_valid=[]\n",
        "  loss_train=[]\n",
        "  loss_valid=[]\n",
        "  loss_test=[]\n",
        "  acc_test=[]\n",
        "  for filename in tqdm(os.listdir(PATH_trained_models)):\n",
        "    if filename != ('train') and filename != ('validation'):\n",
        "      print(filename)\n",
        "      model.load_weights(PATH_trained_models+'/'+filename)\n",
        "      loss,accuracy = model.evaluate(X_train, y_train,verbose=0)\n",
        "     \n",
        "      acc_train.append(accuracy)\n",
        "      loss_train.append(loss)\n",
        "\n",
        "      loss,accuracy = model.evaluate(X_valid, y_valid,verbose=0)\n",
        "      acc_valid.append(accuracy)\n",
        "      loss_valid.append(loss)\n",
        "\n",
        "      loss,accuracy = model.evaluate(X_test, y_test,verbose=0)\n",
        "      acc_test.append(accuracy)\n",
        "      loss_test.append(loss)\n",
        "\n",
        "  results_dir=\"/content/drive/My Drive/Colab Notebooks/Steganalysis/Results/\"+model_name+\"/\"\n",
        "  if not os.path.exists(results_dir):\n",
        "    os.makedirs(results_dir)\n",
        "        \n",
        "  with plt.style.context('seaborn-white'):\n",
        "    plt.figure(figsize=(10, 10))\n",
        "    #plt.subplot(1,2,1)\n",
        "    #Plot training & validation accuracy values\n",
        "    plt.plot(acc_train)\n",
        "    plt.plot(acc_valid)\n",
        "    plt.plot(acc_test)\n",
        "    plt.title('Accuracy Vs Epochs')\n",
        "    plt.ylabel('Accuracy')\n",
        "    plt.xlabel('Epoch')\n",
        "    plt.legend(['Train', 'Validation','Test'], loc='upper left')\n",
        "    plt.grid('on')\n",
        "    plt.savefig(results_dir+'Accuracy_Yedroud_Net_'+model_name+'.eps', format='eps')\n",
        "    plt.savefig(results_dir+'Accuracy_Yedroud_Net_'+model_name+'.svg', format='svg')\n",
        "    plt.savefig(results_dir+'Accuracy_Yedroud_Net_'+model_name+'.pdf', format='pdf')\n",
        "    plt.show()\n",
        "\n",
        "    plt.figure(figsize=(10, 10))\n",
        "    #plt.subplot(1,2,2)\n",
        "    #Plot training & validation loss values\n",
        "    plt.plot(loss_train)\n",
        "    plt.plot(loss_valid)\n",
        "    plt.plot(loss_test)\n",
        "    plt.title('Loss Vs Epochs')\n",
        "    plt.ylabel('Loss')\n",
        "    plt.xlabel('Epoch')\n",
        "    plt.legend(['Train', 'Validation','Test'], loc='upper left')\n",
        "    plt.grid('on')\n",
        "    plt.savefig(results_dir+'Loss_Yedroud_Net_'+model_name+'.eps', format='eps')\n",
        "    plt.savefig(results_dir+'Loss_Yedroud_Net_'+model_name+'.svg', format='svg')\n",
        "    plt.savefig(results_dir+'Loss_Yedroud_Net_'+model_name+'.pdf', format='pdf')\n",
        "    plt.show()\n",
        "\n",
        "    \n",
        "\n",
        "    '''\n",
        "    plt.figure(figsize=(10, 10))\n",
        "    #plt.subplot(1,2,2)\n",
        "    #Plot training & validation loss values\n",
        "    plt.plot(history.history['lr'])\n",
        "    plt.ylabel('Lr')\n",
        "    plt.xlabel('Epoch')\n",
        "    plt.grid('on')\n",
        "    plt.show()\n",
        "    '''\n",
        "  results={'acc_train':acc_train,'acc_valid':acc_valid,'loss_train':loss_train,'loss_valid':loss_valid}\n",
        "  return results"
      ],
      "execution_count": null,
      "outputs": []
    },
    {
      "cell_type": "markdown",
      "metadata": {
        "id": "a-k6wzeAvVic"
      },
      "source": [
        "## Plot ROC curves"
      ]
    },
    {
      "cell_type": "code",
      "metadata": {
        "id": "ljWO8C5W8D9w"
      },
      "source": [
        "from sklearn.metrics import (\n",
        "    average_precision_score,\n",
        "    precision_recall_curve,\n",
        "    roc_auc_score,\n",
        "    roc_curve,\n",
        ")\n",
        "\n",
        "def get_curve(gt, pred, target_names,model_name):\n",
        "    labels=[]\n",
        "    for i in range(len(target_names)):\n",
        "        \n",
        "      curve_function = roc_curve\n",
        "      auc_roc = roc_auc_score(gt[:, i], pred[:, i])\n",
        "      label = model_name+target_names[i] + \" AUC: %.3f \" % auc_roc\n",
        "      labels.append(label)\n",
        "      xlabel = \"False positive rate\"\n",
        "      ylabel = \"True positive rate\"\n",
        "      a, b, _ = curve_function(gt[:, i], pred[:, i])\n",
        "      plt.figure(1, figsize=(7, 7))\n",
        "      plt.plot([0, 1], [0, 1], 'k--')\n",
        "      plt.plot(a, b, label=label)\n",
        "      plt.xlabel(xlabel)\n",
        "      plt.ylabel(ylabel)\n",
        "\n",
        "      plt.legend(loc='upper center', bbox_to_anchor=(1.3, 1),\n",
        "                  fancybox=True, ncol=1)\n",
        "      \n",
        "    return [a,b],labels\n",
        "labels = [\"Cover\",\"Stego\"]"
      ],
      "execution_count": null,
      "outputs": []
    },
    {
      "cell_type": "markdown",
      "metadata": {
        "id": "8WiDezZevVih"
      },
      "source": [
        "# PAYLOAD = 0.4bpp"
      ]
    },
    {
      "cell_type": "code",
      "metadata": {
        "id": "igESXbLQvVij"
      },
      "source": [
        "PATH04 = 'drive/My Drive/Databases/Payload_04bpp'"
      ],
      "execution_count": null,
      "outputs": []
    },
    {
      "cell_type": "markdown",
      "metadata": {
        "id": "tjO9O-FuvVim"
      },
      "source": [
        "## WOW"
      ]
    },
    {
      "cell_type": "markdown",
      "metadata": {
        "id": "vT-WEa2VvVin"
      },
      "source": [
        "#### BOSSbase 1.01"
      ]
    },
    {
      "cell_type": "code",
      "metadata": {
        "id": "7hF-vLAmvVis",
        "outputId": "b3010ce8-a573-48e0-8c5a-6e7df0dfec53",
        "colab": {
          "base_uri": "https://localhost:8080/"
        }
      },
      "source": [
        "#Dataset\n",
        "EPOCHS=100\n",
        "PATH04_WOW1 = \"/WOW_04bpp_BOSS/\"\n",
        "\n",
        "#Train\n",
        "X_train = np.load(PATH04+PATH04_WOW1+'X_train.npy')\n",
        "y_train = np.load(PATH04+PATH04_WOW1+'y_train.npy')\n",
        "#Valid\n",
        "X_valid = np.load(PATH04+PATH04_WOW1+'X_valid.npy')\n",
        "y_valid = np.load(PATH04+PATH04_WOW1+'y_valid.npy')\n",
        "#Test\n",
        "X_test = np.load(PATH04+PATH04_WOW1+'X_test.npy')\n",
        "y_test = np.load(PATH04+PATH04_WOW1+'y_test.npy')\n",
        "\n",
        "print(X_train.shape)\n",
        "print(y_train.shape)\n",
        "print(X_valid.shape)\n",
        "print(y_valid.shape)\n",
        "print(X_test.shape)\n",
        "print(y_test.shape)\n",
        "base_name=\"04WOW1\""
      ],
      "execution_count": null,
      "outputs": [
        {
          "output_type": "stream",
          "text": [
            "(8000, 256, 256, 1)\n",
            "(8000, 2)\n",
            "(2000, 256, 256, 1)\n",
            "(2000, 2)\n",
            "(10000, 256, 256, 1)\n",
            "(10000, 2)\n"
          ],
          "name": "stdout"
        }
      ]
    },
    {
      "cell_type": "markdown",
      "metadata": {
        "id": "fIof-937BB5x"
      },
      "source": [
        "### Redes"
      ]
    },
    {
      "cell_type": "markdown",
      "metadata": {
        "id": "QSptDyPwTGV9"
      },
      "source": [
        "Yedroudj-Net"
      ]
    },
    {
      "cell_type": "code",
      "metadata": {
        "id": "Di15XG-Fs1Oa"
      },
      "source": [
        "m_name=\"Yedroudj_Net\""
      ],
      "execution_count": null,
      "outputs": []
    },
    {
      "cell_type": "code",
      "metadata": {
        "id": "exGyGZePrmD6"
      },
      "source": [
        "model= get_yedroudj() \n",
        "name=\"Model_\"+m_name+\"_\"+base_name\n",
        "_, history  = train(model, X_train, y_train, X_valid, y_valid, X_test, y_test, batch_size=64, epochs=100, model_name=name)"
      ],
      "execution_count": null,
      "outputs": []
    },
    {
      "cell_type": "code",
      "metadata": {
        "id": "soIakaMFsl-R"
      },
      "source": [
        "model= get_yedroudj() \n",
        "PATH_trained_models = \" \"\n",
        "Final_Results_Test(model,PATH_trained_models)"
      ],
      "execution_count": null,
      "outputs": []
    },
    {
      "cell_type": "code",
      "metadata": {
        "id": "PAmaTxOutLQu"
      },
      "source": [
        "model= get_yedroudj()  \n",
        "PATH_trained_models = \"\"\n",
        "name=\"Model_\"+m_name+\"_\"+base_name\n",
        "res=plot_train_valid(model,PATH_trained_models,name)"
      ],
      "execution_count": null,
      "outputs": []
    },
    {
      "cell_type": "code",
      "metadata": {
        "id": "sFP1M3eHAmtv"
      },
      "source": [
        "model= get_yedroudj() \n",
        "model.load_weights(\"\") #path best model\n",
        "predictions= model.predict(X_test,verbose=0)\n",
        "labels = [\"Cover\",\"Stego\"]\n",
        "model_name=\"Yedroudj-Net WOW - \"\n",
        "curve1,labels1=get_curve(y_test, predictions, labels,model_name)"
      ],
      "execution_count": null,
      "outputs": []
    },
    {
      "cell_type": "markdown",
      "metadata": {
        "id": "xT1MMMSlANNa"
      },
      "source": [
        "Ye-Net"
      ]
    },
    {
      "cell_type": "code",
      "metadata": {
        "id": "ZfFXqfGmtt-5"
      },
      "source": [
        "m_name=\"Ye_Net\""
      ],
      "execution_count": null,
      "outputs": []
    },
    {
      "cell_type": "code",
      "metadata": {
        "id": "7HFwRZgWtt-9"
      },
      "source": [
        "model= get_ye() \n",
        "name=\"Model_\"+m_name+\"_\"+base_name\n",
        "_, history  = train(model, X_train, y_train, X_valid, y_valid, X_test, y_test, batch_size=64, epochs=100, model_name=name)"
      ],
      "execution_count": null,
      "outputs": []
    },
    {
      "cell_type": "code",
      "metadata": {
        "id": "KCLF5S_-tt-_"
      },
      "source": [
        "model= get_ye() \n",
        "PATH_trained_models = \" \"\n",
        "Final_Results_Test(model,PATH_trained_models)"
      ],
      "execution_count": null,
      "outputs": []
    },
    {
      "cell_type": "code",
      "metadata": {
        "id": "vW0CUPRrtt_C"
      },
      "source": [
        "model= get_ye()  \n",
        "PATH_trained_models = \"\"\n",
        "name=\"Model_\"+m_name+\"_\"+base_name\n",
        "res=plot_train_valid(model,PATH_trained_models,name)"
      ],
      "execution_count": null,
      "outputs": []
    },
    {
      "cell_type": "code",
      "metadata": {
        "id": "2qyq8X8GAnH_"
      },
      "source": [
        "model= get_ye() \n",
        "model.load_weights(\"\")\n",
        "predictions= model.predict(X_test,verbose=0)\n",
        "labels = [\"Cover\",\"Stego\"]\n",
        "model_name=\"Ye-Net WOW - \"\n",
        "curve2,labels2=get_curve(y_test, predictions, labels,model_name)"
      ],
      "execution_count": null,
      "outputs": []
    },
    {
      "cell_type": "markdown",
      "metadata": {
        "id": "egpceXduANab"
      },
      "source": [
        "Xu-Net"
      ]
    },
    {
      "cell_type": "code",
      "metadata": {
        "id": "EYdscXQDuBOH"
      },
      "source": [
        "m_name=\"Xu_Net\""
      ],
      "execution_count": null,
      "outputs": []
    },
    {
      "cell_type": "code",
      "metadata": {
        "id": "lhlGngIEuBOJ"
      },
      "source": [
        "model= get_xu() \n",
        "name=\"Model_\"+m_name+\"_\"+base_name\n",
        "_, history  = train(model, X_train, y_train, X_valid, y_valid, X_test, y_test, batch_size=64, epochs=100, model_name=name)"
      ],
      "execution_count": null,
      "outputs": []
    },
    {
      "cell_type": "code",
      "metadata": {
        "id": "C21goUIVuBOL"
      },
      "source": [
        "model= get_xu() \n",
        "PATH_trained_models = \" \"\n",
        "Final_Results_Test(model,PATH_trained_models)"
      ],
      "execution_count": null,
      "outputs": []
    },
    {
      "cell_type": "code",
      "metadata": {
        "id": "tMSjB2WmuBON"
      },
      "source": [
        "model= get_xu()  \n",
        "PATH_trained_models = \"\"\n",
        "name=\"Model_\"+m_name+\"_\"+base_name\n",
        "res=plot_train_valid(model,PATH_trained_models,name)"
      ],
      "execution_count": null,
      "outputs": []
    },
    {
      "cell_type": "code",
      "metadata": {
        "id": "iGwzMXQbAsou"
      },
      "source": [
        "model= get_xu() \n",
        "model.load_weights(\" \")\n",
        "predictions= model.predict(X_test,verbose=0)\n",
        "labels = [\"Cover\",\"Stego\"]\n",
        "model_name=\"Xu-Net WOW - \"\n",
        "curve3,labels3=get_curve(y_test, predictions, labels,model_name)"
      ],
      "execution_count": null,
      "outputs": []
    },
    {
      "cell_type": "markdown",
      "metadata": {
        "id": "K40ExtTNANje"
      },
      "source": [
        "VGG16Stego Max"
      ]
    },
    {
      "cell_type": "code",
      "metadata": {
        "id": "7NYru3syuQFM"
      },
      "source": [
        "m_name=\"vgg16_max\""
      ],
      "execution_count": null,
      "outputs": []
    },
    {
      "cell_type": "code",
      "metadata": {
        "id": "fF53veVsuQFO"
      },
      "source": [
        "model=  get_vgg16_max()\n",
        "name=\"Model_\"+m_name+\"_\"+base_name\n",
        "_, history  = train(model, X_train, y_train, X_valid, y_valid, X_test, y_test, batch_size=64, epochs=100, model_name=name)"
      ],
      "execution_count": null,
      "outputs": []
    },
    {
      "cell_type": "code",
      "metadata": {
        "id": "DksjWoOIuQFR"
      },
      "source": [
        "model=  get_vgg16_max() \n",
        "PATH_trained_models = \" \"\n",
        "Final_Results_Test(model,PATH_trained_models)"
      ],
      "execution_count": null,
      "outputs": []
    },
    {
      "cell_type": "code",
      "metadata": {
        "id": "1vg8cAD1uQFT"
      },
      "source": [
        "model=  get_vgg16_max()  \n",
        "PATH_trained_models = \"\"\n",
        "name=\"Model_\"+m_name+\"_\"+base_name\n",
        "res=plot_train_valid(model,PATH_trained_models,name)"
      ],
      "execution_count": null,
      "outputs": []
    },
    {
      "cell_type": "code",
      "metadata": {
        "id": "dm_ofZ8nA6Af"
      },
      "source": [
        "model= get_vgg16_max() \n",
        "model.load_weights(\"\")\n",
        "predictions= model.predict(X_test,verbose=0)\n",
        "\n",
        "labels = [\"Cover\",\"Stego\"]\n",
        "model_name=\"vgg16_max WOW - \"\n",
        "curve4,labels4=get_curve(y_test, predictions, labels,model_name)"
      ],
      "execution_count": null,
      "outputs": []
    },
    {
      "cell_type": "markdown",
      "metadata": {
        "id": "B-G4jejyAVrA"
      },
      "source": [
        "VGG16Stego Average"
      ]
    },
    {
      "cell_type": "code",
      "metadata": {
        "id": "7ymMA-rtul34"
      },
      "source": [
        "m_name=\"vgg16_avg\""
      ],
      "execution_count": null,
      "outputs": []
    },
    {
      "cell_type": "code",
      "metadata": {
        "id": "ivn-6CD0ul37"
      },
      "source": [
        "model=  get_vgg16_avg()\n",
        "name=\"Model_\"+m_name+\"_\"+base_name\n",
        "_, history  = train(model, X_train, y_train, X_valid, y_valid, X_test, y_test, batch_size=64, epochs=100, model_name=name)"
      ],
      "execution_count": null,
      "outputs": []
    },
    {
      "cell_type": "code",
      "metadata": {
        "id": "d0Qyzm35ul3-"
      },
      "source": [
        "model=  get_vgg16_avg() \n",
        "PATH_trained_models = \" \"\n",
        "Final_Results_Test(model,PATH_trained_models)"
      ],
      "execution_count": null,
      "outputs": []
    },
    {
      "cell_type": "code",
      "metadata": {
        "id": "hY8B00Vyul4A"
      },
      "source": [
        "model=  get_vgg16_avg()  \n",
        "PATH_trained_models = \"\"\n",
        "name=\"Model_\"+m_name+\"_\"+base_name\n",
        "res=plot_train_valid(model,PATH_trained_models,name)"
      ],
      "execution_count": null,
      "outputs": []
    },
    {
      "cell_type": "code",
      "metadata": {
        "id": "WM0BdFZLAYtW"
      },
      "source": [
        "model= get_vgg16_avg() \n",
        "model.load_weights(\"\")\n",
        "predictions= model.predict(X_test,verbose=0)\n",
        "labels = [\"Cover\",\"Stego\"]\n",
        "model_name=\"vgg16_avg WOW - \"\n",
        "curve5,labels5=get_curve(y_test, predictions, labels,model_name)"
      ],
      "execution_count": null,
      "outputs": []
    },
    {
      "cell_type": "markdown",
      "metadata": {
        "id": "QNQpe7v5AZVy"
      },
      "source": [
        "VGG19Stego Max"
      ]
    },
    {
      "cell_type": "code",
      "metadata": {
        "id": "oI_e3XlpuvNn"
      },
      "source": [
        "m_name=\"vgg19_max\""
      ],
      "execution_count": null,
      "outputs": []
    },
    {
      "cell_type": "code",
      "metadata": {
        "id": "rcwinIEauvNp"
      },
      "source": [
        "model=  get_vgg19_max()\n",
        "name=\"Model_\"+m_name+\"_\"+base_name\n",
        "_, history  = train(model, X_train, y_train, X_valid, y_valid, X_test, y_test, batch_size=64, epochs=100, model_name=name)"
      ],
      "execution_count": null,
      "outputs": []
    },
    {
      "cell_type": "code",
      "metadata": {
        "id": "t3bmzVFnuvNs"
      },
      "source": [
        "model=  get_vgg19_max() \n",
        "PATH_trained_models = \" \"\n",
        "Final_Results_Test(model,PATH_trained_models)"
      ],
      "execution_count": null,
      "outputs": []
    },
    {
      "cell_type": "code",
      "metadata": {
        "id": "JxMYTUE_uvNu"
      },
      "source": [
        "model=  get_vgg19_max()  \n",
        "PATH_trained_models = \"\"\n",
        "name=\"Model_\"+m_name+\"_\"+base_name\n",
        "res=plot_train_valid(model,PATH_trained_models,name)"
      ],
      "execution_count": null,
      "outputs": []
    },
    {
      "cell_type": "code",
      "metadata": {
        "id": "s7ZmuGAmAbLP"
      },
      "source": [
        "model= get_vgg19_max() \n",
        "model.load_weights(\")\n",
        "predictions= model.predict(X_test,verbose=0)\n",
        "labels = [\"Cover\",\"Stego\"]\n",
        "model_name=\"vgg19_max WOW - \"\n",
        "curve6,labels6=get_curve(y_test, predictions, labels,model_name)"
      ],
      "execution_count": null,
      "outputs": []
    },
    {
      "cell_type": "markdown",
      "metadata": {
        "id": "eDD_EkfyAb1q"
      },
      "source": [
        "VGG19Stego Average"
      ]
    },
    {
      "cell_type": "code",
      "metadata": {
        "id": "asWakkd7u71M"
      },
      "source": [
        "m_name=\"vgg19_avg\""
      ],
      "execution_count": null,
      "outputs": []
    },
    {
      "cell_type": "code",
      "metadata": {
        "id": "useV6_Awu71O"
      },
      "source": [
        "model=  get_vgg19_avg()\n",
        "name=\"Model_\"+m_name+\"_\"+base_name\n",
        "_, history  = train(model, X_train, y_train, X_valid, y_valid, X_test, y_test, batch_size=64, epochs=100, model_name=name)"
      ],
      "execution_count": null,
      "outputs": []
    },
    {
      "cell_type": "code",
      "metadata": {
        "id": "rg7BFSTVu71Q"
      },
      "source": [
        "model=  get_vgg19_avg() \n",
        "PATH_trained_models = \" \"\n",
        "Final_Results_Test(model,PATH_trained_models)"
      ],
      "execution_count": null,
      "outputs": []
    },
    {
      "cell_type": "code",
      "metadata": {
        "id": "cSVdaBqNu71S"
      },
      "source": [
        "model=  get_vgg19_avg()  \n",
        "PATH_trained_models = \"\"\n",
        "name=\"Model_\"+m_name+\"_\"+base_name\n",
        "res=plot_train_valid(model,PATH_trained_models,name)"
      ],
      "execution_count": null,
      "outputs": []
    },
    {
      "cell_type": "code",
      "metadata": {
        "id": "-FEFCzTIA6wH"
      },
      "source": [
        "model= get_vgg19_avg() \n",
        "model.load_weights(\"\")\n",
        "predictions= model.predict(X_test,verbose=0)\n",
        "labels = [\"Cover\",\"Stego\"]\n",
        "model_name=\"vgg19_avg WOW - \"\n",
        "curve7,labels7=get_curve(y_test, predictions, labels,model_name)"
      ],
      "execution_count": null,
      "outputs": []
    },
    {
      "cell_type": "markdown",
      "metadata": {
        "id": "RxywUeDTvai2"
      },
      "source": [
        "#### ROC CURVES"
      ]
    },
    {
      "cell_type": "code",
      "metadata": {
        "id": "7OsU03v89-Zt",
        "outputId": "92c5a933-dce7-46e3-8a6c-78f4aa4712d3",
        "colab": {
          "base_uri": "https://localhost:8080/",
          "height": 311
        }
      },
      "source": [
        "curves=[curve1,curve2,curve3,curve4,curve5,curve6,curve7]\n",
        "labels=[labels1,labels2,labels3,labels4,labels5,labels6,labels7]\n",
        "\n",
        "for i in  range(len(curves)):\n",
        "      plt.title(\"\")\n",
        "      xlabel = \"False positive rate\"\n",
        "      ylabel = \"True positive rate\"\n",
        "      curve=curves[i]\n",
        "      label=labels[i]\n",
        "      for j in range(2):\n",
        "        l=label[j]\n",
        "        a, b = curve\n",
        "        plt.figure(1, figsize=(180,180))\n",
        "        plt.plot([0, 1], [0, 1], 'k--')\n",
        "        plt.plot(a, b, label=l)\n",
        "        plt.xlabel(xlabel)\n",
        "        plt.ylabel(ylabel)\n",
        "\n",
        "        plt.legend(loc='upper center', bbox_to_anchor=(1.5, 1),\n",
        "                    fancybox=True, ncol=1)\n",
        "results_dir=\"/content/drive/My Drive/ROCS/\"\n",
        "if not os.path.exists(results_dir):\n",
        "  os.makedirs(results_dir)\n",
        "plt.savefig(results_dir+'ROC_'+\"WOW0.4\"+'.eps', format='eps')\n",
        "plt.savefig(results_dir+'ROC_'+\"WOW0.4\"+'.svg', format='svg')\n",
        "plt.savefig(results_dir+'ROC_'+\"WOW0.4\"+'.pdf', format='pdf')"
      ],
      "execution_count": null,
      "outputs": [
        {
          "output_type": "stream",
          "text": [
            "The PostScript backend does not support transparency; partially transparent artists will be rendered opaque.\n",
            "The PostScript backend does not support transparency; partially transparent artists will be rendered opaque.\n"
          ],
          "name": "stderr"
        },
        {
          "output_type": "display_data",
          "data": {
            "image/png": "[encoded data removed]",
            "text/plain": [
              "<Figure size 432x288 with 1 Axes>"
            ]
          },
          "metadata": {
            "tags": [],
            "needs_background": "light"
          }
        }
      ]
    },
    {
      "cell_type": "code",
      "metadata": {
        "id": "EBeL2bKMvso1"
      },
      "source": [
        ""
      ],
      "execution_count": null,
      "outputs": []
    },
    {
      "cell_type": "markdown",
      "metadata": {
        "id": "wBjAbhx1vVlP"
      },
      "source": [
        "#### BOSSbase 1.01 + BOWS2"
      ]
    },
    {
      "cell_type": "code",
      "metadata": {
        "id": "wK21fIE-vVlT"
      },
      "source": [
        "#Dataset\n",
        "\n",
        "PATH04_WOW2 = \"/WOW_04bpp_BOSS-BOWS2/\"\n",
        "\n",
        "#Train\n",
        "X_train = np.load(PATH04+PATH04_WOW2+'X_train.npy')\n",
        "y_train = np.load(PATH04+PATH04_WOW2+'y_train.npy')\n",
        "#Valid\n",
        "X_valid = np.load(PATH04+PATH04_WOW2+'X_valid.npy')\n",
        "y_valid = np.load(PATH04+PATH04_WOW2+'y_valid.npy')\n",
        "#Test\n",
        "X_test = np.load(PATH04+PATH04_WOW2+'X_test.npy')\n",
        "y_test = np.load(PATH04+PATH04_WOW2+'y_test.npy')\n",
        "\n",
        "print(X_train.shape)\n",
        "print(y_train.shape)\n",
        "print(X_valid.shape)\n",
        "print(y_valid.shape)\n",
        "print(X_test.shape)\n",
        "print(y_test.shape)\n",
        "base_name=\"04WOW2\""
      ],
      "execution_count": null,
      "outputs": []
    },
    {
      "cell_type": "markdown",
      "metadata": {
        "id": "gCFB6WziwMVH"
      },
      "source": [
        "Yedroudj-Net"
      ]
    },
    {
      "cell_type": "code",
      "metadata": {
        "id": "QZK1stGEwMVJ"
      },
      "source": [
        "m_name=\"Yedroudj_Net\""
      ],
      "execution_count": null,
      "outputs": []
    },
    {
      "cell_type": "code",
      "metadata": {
        "id": "w5-KcClLwMVM"
      },
      "source": [
        "model= get_yedroudj() \n",
        "name=\"Model_\"+m_name+\"_\"+base_name\n",
        "_, history  = train(model, X_train, y_train, X_valid, y_valid, X_test, y_test, batch_size=64, epochs=100, model_name=name)"
      ],
      "execution_count": null,
      "outputs": []
    },
    {
      "cell_type": "code",
      "metadata": {
        "id": "MEX7nloHwMVO"
      },
      "source": [
        "model= get_yedroudj() \n",
        "PATH_trained_models = \" \"\n",
        "Final_Results_Test(model,PATH_trained_models)"
      ],
      "execution_count": null,
      "outputs": []
    },
    {
      "cell_type": "code",
      "metadata": {
        "id": "7JyTO0IywMVR"
      },
      "source": [
        "model= get_yedroudj()  \n",
        "PATH_trained_models = \"\"\n",
        "name=\"Model_\"+m_name+\"_\"+base_name\n",
        "res=plot_train_valid(model,PATH_trained_models,name)"
      ],
      "execution_count": null,
      "outputs": []
    },
    {
      "cell_type": "code",
      "metadata": {
        "id": "-be9Q6RWwMVT"
      },
      "source": [
        "model= get_yedroudj() \n",
        "model.load_weights(\"\") #path best model\n",
        "predictions= model.predict(X_test,verbose=0)\n",
        "labels = [\"Cover\",\"Stego\"]\n",
        "model_name=\"Yedroudj-Net WOW - \"\n",
        "curve1,labels1=get_curve(y_test, predictions, labels,model_name)"
      ],
      "execution_count": null,
      "outputs": []
    },
    {
      "cell_type": "markdown",
      "metadata": {
        "id": "_UTyfkawwMVV"
      },
      "source": [
        "Ye-Net"
      ]
    },
    {
      "cell_type": "code",
      "metadata": {
        "id": "M360vpwswMVW"
      },
      "source": [
        "m_name=\"Ye_Net\""
      ],
      "execution_count": null,
      "outputs": []
    },
    {
      "cell_type": "code",
      "metadata": {
        "id": "7BAb8RUjwMVX"
      },
      "source": [
        "model= get_ye() \n",
        "name=\"Model_\"+m_name+\"_\"+base_name\n",
        "_, history  = train(model, X_train, y_train, X_valid, y_valid, X_test, y_test, batch_size=64, epochs=100, model_name=name)"
      ],
      "execution_count": null,
      "outputs": []
    },
    {
      "cell_type": "code",
      "metadata": {
        "id": "Jk6brhc8wMVb"
      },
      "source": [
        "model= get_ye() \n",
        "PATH_trained_models = \" \"\n",
        "Final_Results_Test(model,PATH_trained_models)"
      ],
      "execution_count": null,
      "outputs": []
    },
    {
      "cell_type": "code",
      "metadata": {
        "id": "dm8p_4RhwMVd"
      },
      "source": [
        "model= get_ye()  \n",
        "PATH_trained_models = \"\"\n",
        "name=\"Model_\"+m_name+\"_\"+base_name\n",
        "res=plot_train_valid(model,PATH_trained_models,name)"
      ],
      "execution_count": null,
      "outputs": []
    },
    {
      "cell_type": "code",
      "metadata": {
        "id": "tkKllTOxwMVe"
      },
      "source": [
        "model= get_ye() \n",
        "model.load_weights(\"\")\n",
        "predictions= model.predict(X_test,verbose=0)\n",
        "labels = [\"Cover\",\"Stego\"]\n",
        "model_name=\"Ye-Net WOW - \"\n",
        "curve2,labels2=get_curve(y_test, predictions, labels,model_name)"
      ],
      "execution_count": null,
      "outputs": []
    },
    {
      "cell_type": "markdown",
      "metadata": {
        "id": "pY8_X87CwMVg"
      },
      "source": [
        "Xu-Net"
      ]
    },
    {
      "cell_type": "code",
      "metadata": {
        "id": "ma13EspwwMVh"
      },
      "source": [
        "m_name=\"Xu_Net\""
      ],
      "execution_count": null,
      "outputs": []
    },
    {
      "cell_type": "code",
      "metadata": {
        "id": "yp_3Ziu6wMVj"
      },
      "source": [
        "model= get_xu() \n",
        "name=\"Model_\"+m_name+\"_\"+base_name\n",
        "_, history  = train(model, X_train, y_train, X_valid, y_valid, X_test, y_test, batch_size=64, epochs=100, model_name=name)"
      ],
      "execution_count": null,
      "outputs": []
    },
    {
      "cell_type": "code",
      "metadata": {
        "id": "mdINFPk1wMVl"
      },
      "source": [
        "model= get_xu() \n",
        "PATH_trained_models = \" \"\n",
        "Final_Results_Test(model,PATH_trained_models)"
      ],
      "execution_count": null,
      "outputs": []
    },
    {
      "cell_type": "code",
      "metadata": {
        "id": "knDZ00hQwMVo"
      },
      "source": [
        "model= get_xu()  \n",
        "PATH_trained_models = \"\"\n",
        "name=\"Model_\"+m_name+\"_\"+base_name\n",
        "res=plot_train_valid(model,PATH_trained_models,name)"
      ],
      "execution_count": null,
      "outputs": []
    },
    {
      "cell_type": "code",
      "metadata": {
        "id": "mQ0VExZNwMVr"
      },
      "source": [
        "model= get_xu() \n",
        "model.load_weights(\" \")\n",
        "predictions= model.predict(X_test,verbose=0)\n",
        "labels = [\"Cover\",\"Stego\"]\n",
        "model_name=\"Xu-Net WOW - \"\n",
        "curve3,labels3=get_curve(y_test, predictions, labels,model_name)"
      ],
      "execution_count": null,
      "outputs": []
    },
    {
      "cell_type": "markdown",
      "metadata": {
        "id": "72yVVPanwMVt"
      },
      "source": [
        "VGG16Stego Max"
      ]
    },
    {
      "cell_type": "code",
      "metadata": {
        "id": "cqV59dSPwMVu"
      },
      "source": [
        "m_name=\"vgg16_max\""
      ],
      "execution_count": null,
      "outputs": []
    },
    {
      "cell_type": "code",
      "metadata": {
        "id": "srHzk1xYwMVv"
      },
      "source": [
        "model=  get_vgg16_max()\n",
        "name=\"Model_\"+m_name+\"_\"+base_name\n",
        "_, history  = train(model, X_train, y_train, X_valid, y_valid, X_test, y_test, batch_size=64, epochs=100, model_name=name)"
      ],
      "execution_count": null,
      "outputs": []
    },
    {
      "cell_type": "code",
      "metadata": {
        "id": "OhkvzXqXwMVy"
      },
      "source": [
        "model=  get_vgg16_max() \n",
        "PATH_trained_models = \" \"\n",
        "Final_Results_Test(model,PATH_trained_models)"
      ],
      "execution_count": null,
      "outputs": []
    },
    {
      "cell_type": "code",
      "metadata": {
        "id": "l_FbDI_GwMV0"
      },
      "source": [
        "model=  get_vgg16_max()  \n",
        "PATH_trained_models = \"\"\n",
        "name=\"Model_\"+m_name+\"_\"+base_name\n",
        "res=plot_train_valid(model,PATH_trained_models,name)"
      ],
      "execution_count": null,
      "outputs": []
    },
    {
      "cell_type": "code",
      "metadata": {
        "id": "QhAJkdgfwMV3"
      },
      "source": [
        "model= get_vgg16_max() \n",
        "model.load_weights(\"\")\n",
        "predictions= model.predict(X_test,verbose=0)\n",
        "\n",
        "labels = [\"Cover\",\"Stego\"]\n",
        "model_name=\"vgg16_max WOW - \"\n",
        "curve4,labels4=get_curve(y_test, predictions, labels,model_name)"
      ],
      "execution_count": null,
      "outputs": []
    },
    {
      "cell_type": "markdown",
      "metadata": {
        "id": "zCzRrZJ2wMV6"
      },
      "source": [
        "VGG16Stego Average"
      ]
    },
    {
      "cell_type": "code",
      "metadata": {
        "id": "cj6Co777wMV7"
      },
      "source": [
        "m_name=\"vgg16_avg\""
      ],
      "execution_count": null,
      "outputs": []
    },
    {
      "cell_type": "code",
      "metadata": {
        "id": "_Cy1nY-0wMV_"
      },
      "source": [
        "model=  get_vgg16_avg()\n",
        "name=\"Model_\"+m_name+\"_\"+base_name\n",
        "_, history  = train(model, X_train, y_train, X_valid, y_valid, X_test, y_test, batch_size=64, epochs=100, model_name=name)"
      ],
      "execution_count": null,
      "outputs": []
    },
    {
      "cell_type": "code",
      "metadata": {
        "id": "OWolLXibwMWB"
      },
      "source": [
        "model=  get_vgg16_avg() \n",
        "PATH_trained_models = \" \"\n",
        "Final_Results_Test(model,PATH_trained_models)"
      ],
      "execution_count": null,
      "outputs": []
    },
    {
      "cell_type": "code",
      "metadata": {
        "id": "_cTeRP4mwMWE"
      },
      "source": [
        "model=  get_vgg16_avg()  \n",
        "PATH_trained_models = \"\"\n",
        "name=\"Model_\"+m_name+\"_\"+base_name\n",
        "res=plot_train_valid(model,PATH_trained_models,name)"
      ],
      "execution_count": null,
      "outputs": []
    },
    {
      "cell_type": "code",
      "metadata": {
        "id": "MkYjOydAwMWF"
      },
      "source": [
        "model= get_vgg16_avg() \n",
        "model.load_weights(\"\")\n",
        "predictions= model.predict(X_test,verbose=0)\n",
        "labels = [\"Cover\",\"Stego\"]\n",
        "model_name=\"vgg16_avg WOW - \"\n",
        "curve5,labels5=get_curve(y_test, predictions, labels,model_name)"
      ],
      "execution_count": null,
      "outputs": []
    },
    {
      "cell_type": "markdown",
      "metadata": {
        "id": "t-LsbLifwMWH"
      },
      "source": [
        "VGG19Stego Max"
      ]
    },
    {
      "cell_type": "code",
      "metadata": {
        "id": "opyZgtK2wMWI"
      },
      "source": [
        "m_name=\"vgg19_max\""
      ],
      "execution_count": null,
      "outputs": []
    },
    {
      "cell_type": "code",
      "metadata": {
        "id": "Eo9MKnmOwMWM"
      },
      "source": [
        "model=  get_vgg19_max()\n",
        "name=\"Model_\"+m_name+\"_\"+base_name\n",
        "_, history  = train(model, X_train, y_train, X_valid, y_valid, X_test, y_test, batch_size=64, epochs=100, model_name=name)"
      ],
      "execution_count": null,
      "outputs": []
    },
    {
      "cell_type": "code",
      "metadata": {
        "id": "II_adeHTwMWN"
      },
      "source": [
        "model=  get_vgg19_max() \n",
        "PATH_trained_models = \" \"\n",
        "Final_Results_Test(model,PATH_trained_models)"
      ],
      "execution_count": null,
      "outputs": []
    },
    {
      "cell_type": "code",
      "metadata": {
        "id": "dCYFNUhZwMWP"
      },
      "source": [
        "model=  get_vgg19_max()  \n",
        "PATH_trained_models = \"\"\n",
        "name=\"Model_\"+m_name+\"_\"+base_name\n",
        "res=plot_train_valid(model,PATH_trained_models,name)"
      ],
      "execution_count": null,
      "outputs": []
    },
    {
      "cell_type": "code",
      "metadata": {
        "id": "NHDkEForwMWR"
      },
      "source": [
        "model= get_vgg19_max() \n",
        "model.load_weights(\")\n",
        "predictions= model.predict(X_test,verbose=0)\n",
        "labels = [\"Cover\",\"Stego\"]\n",
        "model_name=\"vgg19_max WOW - \"\n",
        "curve6,labels6=get_curve(y_test, predictions, labels,model_name)"
      ],
      "execution_count": null,
      "outputs": []
    },
    {
      "cell_type": "markdown",
      "metadata": {
        "id": "UuOS9CGNwMWU"
      },
      "source": [
        "VGG19Stego Average"
      ]
    },
    {
      "cell_type": "code",
      "metadata": {
        "id": "Nk7iIbf-wMWV"
      },
      "source": [
        "m_name=\"vgg19_avg\""
      ],
      "execution_count": null,
      "outputs": []
    },
    {
      "cell_type": "code",
      "metadata": {
        "id": "Te_KTkSvwMWW"
      },
      "source": [
        "model=  get_vgg19_avg()\n",
        "name=\"Model_\"+m_name+\"_\"+base_name\n",
        "_, history  = train(model, X_train, y_train, X_valid, y_valid, X_test, y_test, batch_size=64, epochs=100, model_name=name)"
      ],
      "execution_count": null,
      "outputs": []
    },
    {
      "cell_type": "code",
      "metadata": {
        "id": "J5EFGmI6wMWY"
      },
      "source": [
        "model=  get_vgg19_avg() \n",
        "PATH_trained_models = \" \"\n",
        "Final_Results_Test(model,PATH_trained_models)"
      ],
      "execution_count": null,
      "outputs": []
    },
    {
      "cell_type": "code",
      "metadata": {
        "id": "uwT5Nxc-wMWe"
      },
      "source": [
        "model=  get_vgg19_avg()  \n",
        "PATH_trained_models = \"\"\n",
        "name=\"Model_\"+m_name+\"_\"+base_name\n",
        "res=plot_train_valid(model,PATH_trained_models,name)"
      ],
      "execution_count": null,
      "outputs": []
    },
    {
      "cell_type": "code",
      "metadata": {
        "id": "5mOwCnliwMWh"
      },
      "source": [
        "model= get_vgg19_avg() \n",
        "model.load_weights(\"\")\n",
        "predictions= model.predict(X_test,verbose=0)\n",
        "labels = [\"Cover\",\"Stego\"]\n",
        "model_name=\"vgg19_avg WOW - \"\n",
        "curve7,labels7=get_curve(y_test, predictions, labels,model_name)"
      ],
      "execution_count": null,
      "outputs": []
    },
    {
      "cell_type": "markdown",
      "metadata": {
        "id": "_Cr9P6MyvVjr"
      },
      "source": [
        "## S-UNIWARD"
      ]
    },
    {
      "cell_type": "markdown",
      "metadata": {
        "id": "TAwdJPb7vVjs"
      },
      "source": [
        "#### BOSSbase 1.01"
      ]
    },
    {
      "cell_type": "code",
      "metadata": {
        "id": "aftWVOTzvVjw",
        "outputId": "c83ed126-2bdd-4020-9722-0d4867d849ea",
        "colab": {
          "base_uri": "https://localhost:8080/"
        }
      },
      "source": [
        "#Dataset\n",
        "\n",
        "PATH04_S_UNIWARD1 = \"/SUNIWARD_04bpp_BOSS/\"\n",
        "\n",
        "#Train\n",
        "X_train = np.load(PATH04+PATH04_S_UNIWARD1+'X_train.npy')\n",
        "y_train = np.load(PATH04+PATH04_S_UNIWARD1+'y_train.npy')\n",
        "#Valid\n",
        "X_valid = np.load(PATH04+PATH04_S_UNIWARD1+'X_valid.npy')\n",
        "y_valid = np.load(PATH04+PATH04_S_UNIWARD1+'y_valid.npy')\n",
        "#Test\n",
        "X_test = np.load(PATH04+PATH04_S_UNIWARD1+'X_test.npy')\n",
        "y_test = np.load(PATH04+PATH04_S_UNIWARD1+'y_test.npy')\n",
        "\n",
        "print(X_train.shape)\n",
        "print(y_train.shape)\n",
        "print(X_valid.shape)\n",
        "print(y_valid.shape)\n",
        "print(X_test.shape)\n",
        "print(y_test.shape)\n",
        "base_name=\"04SUNIWARD1\""
      ],
      "execution_count": null,
      "outputs": [
        {
          "output_type": "stream",
          "text": [
            "(8000, 256, 256, 1)\n",
            "(8000, 2)\n",
            "(2000, 256, 256, 1)\n",
            "(2000, 2)\n",
            "(10000, 256, 256, 1)\n",
            "(10000, 2)\n"
          ],
          "name": "stdout"
        }
      ]
    },
    {
      "cell_type": "markdown",
      "metadata": {
        "id": "IKSq9qtDHOxM"
      },
      "source": [
        "Yedroudj-Net"
      ]
    },
    {
      "cell_type": "code",
      "metadata": {
        "id": "7ea6kYPRxAk0"
      },
      "source": [
        "m_name=\"Yedroudj_Net\""
      ],
      "execution_count": null,
      "outputs": []
    },
    {
      "cell_type": "code",
      "metadata": {
        "id": "whdCZIC0xAk2"
      },
      "source": [
        "model= get_yedroudj() \n",
        "name=\"Model_\"+m_name+\"_\"+base_name\n",
        "_, history  = train(model, X_train, y_train, X_valid, y_valid, X_test, y_test, batch_size=64, epochs=100, model_name=name)"
      ],
      "execution_count": null,
      "outputs": []
    },
    {
      "cell_type": "code",
      "metadata": {
        "id": "FFrM_xqXxAk4"
      },
      "source": [
        "model= get_yedroudj() \n",
        "PATH_trained_models = \" \"\n",
        "Final_Results_Test(model,PATH_trained_models)"
      ],
      "execution_count": null,
      "outputs": []
    },
    {
      "cell_type": "code",
      "metadata": {
        "id": "jGgPV_edxAk5"
      },
      "source": [
        "model= get_yedroudj()  \n",
        "PATH_trained_models = \"\"\n",
        "name=\"Model_\"+m_name+\"_\"+base_name\n",
        "res=plot_train_valid(model,PATH_trained_models,name)"
      ],
      "execution_count": null,
      "outputs": []
    },
    {
      "cell_type": "code",
      "metadata": {
        "id": "GYxFCGm5HOxN"
      },
      "source": [
        "model= get_yedroudj() \n",
        "model.load_weights(\"\")\n",
        "predictions= model.predict(X_test,verbose=0)\n",
        "labels = [\"Cover\",\"Stego\"]\n",
        "model_name=\"Yedroudj-Net SUNI - \"\n",
        "curve1_1,labels1_1=get_curve(y_test, predictions, labels,model_name)"
      ],
      "execution_count": null,
      "outputs": []
    },
    {
      "cell_type": "markdown",
      "metadata": {
        "id": "fAV3wqjaHOxR"
      },
      "source": [
        "Ye-Net"
      ]
    },
    {
      "cell_type": "code",
      "metadata": {
        "id": "neGvub58xPt0"
      },
      "source": [
        "m_name=\"Ye_Net\""
      ],
      "execution_count": null,
      "outputs": []
    },
    {
      "cell_type": "code",
      "metadata": {
        "id": "YBeyi0hfxPt2"
      },
      "source": [
        "model= get_ye() \n",
        "name=\"Model_\"+m_name+\"_\"+base_name\n",
        "_, history  = train(model, X_train, y_train, X_valid, y_valid, X_test, y_test, batch_size=64, epochs=100, model_name=name)"
      ],
      "execution_count": null,
      "outputs": []
    },
    {
      "cell_type": "code",
      "metadata": {
        "id": "8_ex37oNxPt3"
      },
      "source": [
        "model= get_ye() \n",
        "PATH_trained_models = \" \"\n",
        "Final_Results_Test(model,PATH_trained_models)"
      ],
      "execution_count": null,
      "outputs": []
    },
    {
      "cell_type": "code",
      "metadata": {
        "id": "dn17pwBixPt6"
      },
      "source": [
        "model= get_ye()  \n",
        "PATH_trained_models = \"\"\n",
        "name=\"Model_\"+m_name+\"_\"+base_name\n",
        "res=plot_train_valid(model,PATH_trained_models,name)"
      ],
      "execution_count": null,
      "outputs": []
    },
    {
      "cell_type": "code",
      "metadata": {
        "id": "H47nBy11HOxS"
      },
      "source": [
        "model= get_ye() \n",
        "model.load_weights(\"\")\n",
        "predictions= model.predict(X_test,verbose=0)\n",
        "labels = [\"Cover\",\"Stego\"]\n",
        "model_name=\"Ye-Net SUNI - \"\n",
        "curve2_1,labels2_1=get_curve(y_test, predictions, labels,model_name)"
      ],
      "execution_count": null,
      "outputs": []
    },
    {
      "cell_type": "markdown",
      "metadata": {
        "id": "KzkcZhsQHOxU"
      },
      "source": [
        "Xu-Net"
      ]
    },
    {
      "cell_type": "code",
      "metadata": {
        "id": "KGiQK0ySxjgx"
      },
      "source": [
        "m_name=\"Xu_Net\""
      ],
      "execution_count": null,
      "outputs": []
    },
    {
      "cell_type": "code",
      "metadata": {
        "id": "9dlC5UJWxjg0"
      },
      "source": [
        "model= get_xu() \n",
        "name=\"Model_\"+m_name+\"_\"+base_name\n",
        "_, history  = train(model, X_train, y_train, X_valid, y_valid, X_test, y_test, batch_size=64, epochs=100, model_name=name)"
      ],
      "execution_count": null,
      "outputs": []
    },
    {
      "cell_type": "code",
      "metadata": {
        "id": "VjL6yG7Rxjg2"
      },
      "source": [
        "model= get_xu() \n",
        "PATH_trained_models = \" \"\n",
        "Final_Results_Test(model,PATH_trained_models)"
      ],
      "execution_count": null,
      "outputs": []
    },
    {
      "cell_type": "code",
      "metadata": {
        "id": "wSVt3b3rxjg3"
      },
      "source": [
        "model= get_xu()  \n",
        "PATH_trained_models = \"\"\n",
        "name=\"Model_\"+m_name+\"_\"+base_name\n",
        "res=plot_train_valid(model,PATH_trained_models,name)"
      ],
      "execution_count": null,
      "outputs": []
    },
    {
      "cell_type": "code",
      "metadata": {
        "id": "nt8spdxeHOxV"
      },
      "source": [
        "model= get_xu() \n",
        "model.load_weights(\"\")\n",
        "predictions= model.predict(X_test,verbose=0)\n",
        "labels = [\"Cover\",\"Stego\"]\n",
        "model_name=\"Xu-Net SUNI - \"\n",
        "curve3_1,labels3_1=get_curve(y_test, predictions, labels,model_name)"
      ],
      "execution_count": null,
      "outputs": []
    },
    {
      "cell_type": "markdown",
      "metadata": {
        "id": "-g7j93bXHOxX"
      },
      "source": [
        "VGG16Stego Max"
      ]
    },
    {
      "cell_type": "code",
      "metadata": {
        "id": "iqB9p9huxpzl"
      },
      "source": [
        "m_name=\"vgg16_max\""
      ],
      "execution_count": null,
      "outputs": []
    },
    {
      "cell_type": "code",
      "metadata": {
        "id": "ZyhxuLVgxpzn"
      },
      "source": [
        "model=  get_vgg16_max()\n",
        "name=\"Model_\"+m_name+\"_\"+base_name\n",
        "_, history  = train(model, X_train, y_train, X_valid, y_valid, X_test, y_test, batch_size=64, epochs=100, model_name=name)"
      ],
      "execution_count": null,
      "outputs": []
    },
    {
      "cell_type": "code",
      "metadata": {
        "id": "RicVU3yXxpzp"
      },
      "source": [
        "model=  get_vgg16_max() \n",
        "PATH_trained_models = \" \"\n",
        "Final_Results_Test(model,PATH_trained_models)"
      ],
      "execution_count": null,
      "outputs": []
    },
    {
      "cell_type": "code",
      "metadata": {
        "id": "7XkwiEqixpzr"
      },
      "source": [
        "model=  get_vgg16_max()  \n",
        "PATH_trained_models = \"\"\n",
        "name=\"Model_\"+m_name+\"_\"+base_name\n",
        "res=plot_train_valid(model,PATH_trained_models,name)"
      ],
      "execution_count": null,
      "outputs": []
    },
    {
      "cell_type": "code",
      "metadata": {
        "id": "ZosYJMWKHOxX"
      },
      "source": [
        "model= get_vgg16_max() \n",
        "model.load_weights(\"\")\n",
        "predictions= model.predict(X_test,verbose=0)\n",
        "\n",
        "labels = [\"Cover\",\"Stego\"]\n",
        "model_name=\"vgg16_max SUNI - \"\n",
        "curve4_1,labels4_1=get_curve(y_test, predictions, labels,model_name)"
      ],
      "execution_count": null,
      "outputs": []
    },
    {
      "cell_type": "markdown",
      "metadata": {
        "id": "6KY5Og52HOxb"
      },
      "source": [
        "VGG16 Average"
      ]
    },
    {
      "cell_type": "code",
      "metadata": {
        "id": "MrRIdJb2x013"
      },
      "source": [
        "m_name=\"vgg16_avg\""
      ],
      "execution_count": null,
      "outputs": []
    },
    {
      "cell_type": "code",
      "metadata": {
        "id": "wRHO9tLkx015"
      },
      "source": [
        "model=  get_vgg16_avg()\n",
        "name=\"Model_\"+m_name+\"_\"+base_name\n",
        "_, history  = train(model, X_train, y_train, X_valid, y_valid, X_test, y_test, batch_size=64, epochs=100, model_name=name)"
      ],
      "execution_count": null,
      "outputs": []
    },
    {
      "cell_type": "code",
      "metadata": {
        "id": "BkLutOSAx017"
      },
      "source": [
        "model=  get_vgg16_avg() \n",
        "PATH_trained_models = \" \"\n",
        "Final_Results_Test(model,PATH_trained_models)"
      ],
      "execution_count": null,
      "outputs": []
    },
    {
      "cell_type": "code",
      "metadata": {
        "id": "DcGtXpyzx018"
      },
      "source": [
        "model=  get_vgg16_avg()  \n",
        "PATH_trained_models = \"\"\n",
        "name=\"Model_\"+m_name+\"_\"+base_name\n",
        "res=plot_train_valid(model,PATH_trained_models,name)"
      ],
      "execution_count": null,
      "outputs": []
    },
    {
      "cell_type": "code",
      "metadata": {
        "id": "MDlzhmt-HOxb"
      },
      "source": [
        "model= get_vgg16_avg() \n",
        "model.load_weights(\"\")\n",
        "predictions= model.predict(X_test,verbose=0)\n",
        "labels = [\"Cover\",\"Stego\"]\n",
        "model_name=\"vgg16_avg SUNI - \"\n",
        "curve5_1,labels5_1=get_curve(y_test, predictions, labels,model_name)"
      ],
      "execution_count": null,
      "outputs": []
    },
    {
      "cell_type": "markdown",
      "metadata": {
        "id": "bFqTQP8IHOxd"
      },
      "source": [
        "VGG19Stego Max"
      ]
    },
    {
      "cell_type": "code",
      "metadata": {
        "id": "DHOKkMD8yDs8"
      },
      "source": [
        "m_name=\"vgg19_max\""
      ],
      "execution_count": null,
      "outputs": []
    },
    {
      "cell_type": "code",
      "metadata": {
        "id": "J1kaJ_F2yDtD"
      },
      "source": [
        "model=  get_vgg19_max()\n",
        "name=\"Model_\"+m_name+\"_\"+base_name\n",
        "_, history  = train(model, X_train, y_train, X_valid, y_valid, X_test, y_test, batch_size=64, epochs=100, model_name=name)"
      ],
      "execution_count": null,
      "outputs": []
    },
    {
      "cell_type": "code",
      "metadata": {
        "id": "McZaiabryDtF"
      },
      "source": [
        "model=  get_vgg19_max() \n",
        "PATH_trained_models = \" \"\n",
        "Final_Results_Test(model,PATH_trained_models)"
      ],
      "execution_count": null,
      "outputs": []
    },
    {
      "cell_type": "code",
      "metadata": {
        "id": "kn6I5wp5yDtL"
      },
      "source": [
        "model=  get_vgg19_max()  \n",
        "PATH_trained_models = \"\"\n",
        "name=\"Model_\"+m_name+\"_\"+base_name\n",
        "res=plot_train_valid(model,PATH_trained_models,name)"
      ],
      "execution_count": null,
      "outputs": []
    },
    {
      "cell_type": "code",
      "metadata": {
        "id": "8tENjqdAHOxe"
      },
      "source": [
        "model= get_vgg19_max() \n",
        "model.load_weights(\"\")\n",
        "predictions= model.predict(X_test,verbose=0)\n",
        "labels = [\"Cover\",\"Stego\"]\n",
        "model_name=\"vgg19_max SUNI - \"\n",
        "curve6_1,labels6_1=get_curve(y_test, predictions, labels,model_name)"
      ],
      "execution_count": null,
      "outputs": []
    },
    {
      "cell_type": "markdown",
      "metadata": {
        "id": "79T69oXyHOxf"
      },
      "source": [
        "VGG19Stego Average"
      ]
    },
    {
      "cell_type": "code",
      "metadata": {
        "id": "oeRljNzQyFOG"
      },
      "source": [
        "m_name=\"vgg19_avg\""
      ],
      "execution_count": null,
      "outputs": []
    },
    {
      "cell_type": "code",
      "metadata": {
        "id": "cswpcFd1yFOI"
      },
      "source": [
        "model=  get_vgg19_avg()\n",
        "name=\"Model_\"+m_name+\"_\"+base_name\n",
        "_, history  = train(model, X_train, y_train, X_valid, y_valid, X_test, y_test, batch_size=64, epochs=100, model_name=name)"
      ],
      "execution_count": null,
      "outputs": []
    },
    {
      "cell_type": "code",
      "metadata": {
        "id": "WB0xY1NPyFOK"
      },
      "source": [
        "model=  get_vgg19_avg() \n",
        "PATH_trained_models = \" \"\n",
        "Final_Results_Test(model,PATH_trained_models)"
      ],
      "execution_count": null,
      "outputs": []
    },
    {
      "cell_type": "code",
      "metadata": {
        "id": "2uOgpEk3yFOL"
      },
      "source": [
        "model=  get_vgg19_avg()  \n",
        "PATH_trained_models = \"\"\n",
        "name=\"Model_\"+m_name+\"_\"+base_name\n",
        "res=plot_train_valid(model,PATH_trained_models,name)"
      ],
      "execution_count": null,
      "outputs": []
    },
    {
      "cell_type": "code",
      "metadata": {
        "id": "uDprtqdLHOxg"
      },
      "source": [
        "model= get_vgg19_avg() \n",
        "model.load_weights(\"\")\n",
        "predictions= model.predict(X_test,verbose=0)\n",
        "labels = [\"Cover\",\"Stego\"]\n",
        "model_name=\"vgg19_avg SUNI - \"\n",
        "curve7_1,labels7_1=get_curve(y_test, predictions, labels,model_name)"
      ],
      "execution_count": null,
      "outputs": []
    },
    {
      "cell_type": "code",
      "metadata": {
        "id": "KB8xGyjlQKxS"
      },
      "source": [
        "curves=[curve1_1,curve2_1,curve3_1,curve4_1,curve5_1,curve6_1,curve7_1]\n",
        "labels=[labels1_1,labels2_1,labels3_1,labels4_1,labels5_1,labels6_1,labels7_1]\n",
        "\n",
        "for i in  range(len(curves)):\n",
        "      plt.title(\"\")\n",
        "      xlabel = \"False positive rate\"\n",
        "      ylabel = \"True positive rate\"\n",
        "      curve=curves[i]\n",
        "      label=labels[i]\n",
        "      for j in range(2):\n",
        "        l=label[j]\n",
        "        a, b = curve\n",
        "        plt.figure(1, figsize=(180,180))\n",
        "        plt.plot([0, 1], [0, 1], 'k--')\n",
        "        plt.plot(a, b, label=l)\n",
        "        plt.xlabel(xlabel)\n",
        "        plt.ylabel(ylabel)\n",
        "\n",
        "        plt.legend(loc='upper center', bbox_to_anchor=(1.5, 1),\n",
        "                    fancybox=True, ncol=1)\n",
        "results_dir=\"/content/drive/My Drive/ROCS/\"\n",
        "if not os.path.exists(results_dir):\n",
        "  os.makedirs(results_dir)\n",
        "plt.savefig(results_dir+'ROC_'+\"SUNI0.4\"+'.eps', format='eps')\n",
        "plt.savefig(results_dir+'ROC_'+\"SUNI0.4\"+'.svg', format='svg')\n",
        "plt.savefig(results_dir+'ROC_'+\"SUNI0.4\"+'.pdf', format='pdf')"
      ],
      "execution_count": null,
      "outputs": []
    },
    {
      "cell_type": "markdown",
      "metadata": {
        "id": "73thtAiFyn1h"
      },
      "source": [
        "#### BOSSbase 1.01 + BOWS2"
      ]
    },
    {
      "cell_type": "code",
      "metadata": {
        "id": "YM372M06yn1h"
      },
      "source": [
        "#Dataset\n",
        "\n",
        "PATH04_S_UNIWARD2 = \"/SUNIWARD_04bpp_BOSS-BOWS2/\"\n",
        "\n",
        "#Train\n",
        "X_train = np.load(PATH04+PATH04_S_UNIWARD2+'X_train.npy')\n",
        "y_train = np.load(PATH04+PATH04_S_UNIWARD2+'y_train.npy')\n",
        "#Valid\n",
        "X_valid = np.load(PATH04+PATH04_S_UNIWARD2+'X_valid.npy')\n",
        "y_valid = np.load(PATH04+PATH04_S_UNIWARD2+'y_valid.npy')\n",
        "#Test\n",
        "X_test = np.load(PATH04+PATH04_S_UNIWARD2+'X_test.npy')\n",
        "y_test = np.load(PATH04+PATH04_S_UNIWARD2+'y_test.npy')\n",
        "\n",
        "print(X_train.shape)\n",
        "print(y_train.shape)\n",
        "print(X_valid.shape)\n",
        "print(y_valid.shape)\n",
        "print(X_test.shape)\n",
        "print(y_test.shape)\n",
        "base_name=\"04SUNIWARD2\""
      ],
      "execution_count": null,
      "outputs": []
    },
    {
      "cell_type": "markdown",
      "metadata": {
        "id": "x8zH-4YNyxMW"
      },
      "source": [
        "Yedroudj-Net"
      ]
    },
    {
      "cell_type": "code",
      "metadata": {
        "id": "3uwugmMGyxMX"
      },
      "source": [
        "m_name=\"Yedroudj_Net\""
      ],
      "execution_count": null,
      "outputs": []
    },
    {
      "cell_type": "code",
      "metadata": {
        "id": "-zdtoZjGyxMZ"
      },
      "source": [
        "model= get_yedroudj() \n",
        "name=\"Model_\"+m_name+\"_\"+base_name\n",
        "_, history  = train(model, X_train, y_train, X_valid, y_valid, X_test, y_test, batch_size=64, epochs=100, model_name=name)"
      ],
      "execution_count": null,
      "outputs": []
    },
    {
      "cell_type": "code",
      "metadata": {
        "id": "hlxdAuH4yxMb"
      },
      "source": [
        "model= get_yedroudj() \n",
        "PATH_trained_models = \" \"\n",
        "Final_Results_Test(model,PATH_trained_models)"
      ],
      "execution_count": null,
      "outputs": []
    },
    {
      "cell_type": "code",
      "metadata": {
        "id": "M0hUANsryxMd"
      },
      "source": [
        "model= get_yedroudj()  \n",
        "PATH_trained_models = \"\"\n",
        "name=\"Model_\"+m_name+\"_\"+base_name\n",
        "res=plot_train_valid(model,PATH_trained_models,name)"
      ],
      "execution_count": null,
      "outputs": []
    },
    {
      "cell_type": "code",
      "metadata": {
        "id": "TFnb-PuhyxMg"
      },
      "source": [
        "model= get_yedroudj() \n",
        "model.load_weights(\"\")\n",
        "predictions= model.predict(X_test,verbose=0)\n",
        "labels = [\"Cover\",\"Stego\"]\n",
        "model_name=\"Yedroudj-Net SUNI - \"\n",
        "curve1_1,labels1_1=get_curve(y_test, predictions, labels,model_name)"
      ],
      "execution_count": null,
      "outputs": []
    },
    {
      "cell_type": "markdown",
      "metadata": {
        "id": "tmFq1ODQyxMi"
      },
      "source": [
        "Ye-Net"
      ]
    },
    {
      "cell_type": "code",
      "metadata": {
        "id": "6F8vlqKPyxMk"
      },
      "source": [
        "m_name=\"Ye_Net\""
      ],
      "execution_count": null,
      "outputs": []
    },
    {
      "cell_type": "code",
      "metadata": {
        "id": "Mw2r_UcGyxMm"
      },
      "source": [
        "model= get_ye() \n",
        "name=\"Model_\"+m_name+\"_\"+base_name\n",
        "_, history  = train(model, X_train, y_train, X_valid, y_valid, X_test, y_test, batch_size=64, epochs=100, model_name=name)"
      ],
      "execution_count": null,
      "outputs": []
    },
    {
      "cell_type": "code",
      "metadata": {
        "id": "8X2alw5ByxMn"
      },
      "source": [
        "model= get_ye() \n",
        "PATH_trained_models = \" \"\n",
        "Final_Results_Test(model,PATH_trained_models)"
      ],
      "execution_count": null,
      "outputs": []
    },
    {
      "cell_type": "code",
      "metadata": {
        "id": "GWsiuhMyyxMp"
      },
      "source": [
        "model= get_ye()  \n",
        "PATH_trained_models = \"\"\n",
        "name=\"Model_\"+m_name+\"_\"+base_name\n",
        "res=plot_train_valid(model,PATH_trained_models,name)"
      ],
      "execution_count": null,
      "outputs": []
    },
    {
      "cell_type": "code",
      "metadata": {
        "id": "YGZsx84ryxMr"
      },
      "source": [
        "model= get_ye() \n",
        "model.load_weights(\"\")\n",
        "predictions= model.predict(X_test,verbose=0)\n",
        "labels = [\"Cover\",\"Stego\"]\n",
        "model_name=\"Ye-Net SUNI - \"\n",
        "curve2_1,labels2_1=get_curve(y_test, predictions, labels,model_name)"
      ],
      "execution_count": null,
      "outputs": []
    },
    {
      "cell_type": "markdown",
      "metadata": {
        "id": "PFEBzczlyxMt"
      },
      "source": [
        "Xu-Net"
      ]
    },
    {
      "cell_type": "code",
      "metadata": {
        "id": "JUmXUr-fyxMt"
      },
      "source": [
        "m_name=\"Xu_Net\""
      ],
      "execution_count": null,
      "outputs": []
    },
    {
      "cell_type": "code",
      "metadata": {
        "id": "BhMi8GoyyxMv"
      },
      "source": [
        "model= get_xu() \n",
        "name=\"Model_\"+m_name+\"_\"+base_name\n",
        "_, history  = train(model, X_train, y_train, X_valid, y_valid, X_test, y_test, batch_size=64, epochs=100, model_name=name)"
      ],
      "execution_count": null,
      "outputs": []
    },
    {
      "cell_type": "code",
      "metadata": {
        "id": "3XOjbWcZyxMz"
      },
      "source": [
        "model= get_xu() \n",
        "PATH_trained_models = \" \"\n",
        "Final_Results_Test(model,PATH_trained_models)"
      ],
      "execution_count": null,
      "outputs": []
    },
    {
      "cell_type": "code",
      "metadata": {
        "id": "22Gfw9q6yxM1"
      },
      "source": [
        "model= get_xu()  \n",
        "PATH_trained_models = \"\"\n",
        "name=\"Model_\"+m_name+\"_\"+base_name\n",
        "res=plot_train_valid(model,PATH_trained_models,name)"
      ],
      "execution_count": null,
      "outputs": []
    },
    {
      "cell_type": "code",
      "metadata": {
        "id": "tEe8j4BOyxM3"
      },
      "source": [
        "model= get_xu() \n",
        "model.load_weights(\"\")\n",
        "predictions= model.predict(X_test,verbose=0)\n",
        "labels = [\"Cover\",\"Stego\"]\n",
        "model_name=\"Xu-Net SUNI - \"\n",
        "curve3_1,labels3_1=get_curve(y_test, predictions, labels,model_name)"
      ],
      "execution_count": null,
      "outputs": []
    },
    {
      "cell_type": "markdown",
      "metadata": {
        "id": "Ggm5HGPHyxM5"
      },
      "source": [
        "VGG16Stego Max"
      ]
    },
    {
      "cell_type": "code",
      "metadata": {
        "id": "ssWCZJ8-yxM5"
      },
      "source": [
        "m_name=\"vgg16_max\""
      ],
      "execution_count": null,
      "outputs": []
    },
    {
      "cell_type": "code",
      "metadata": {
        "id": "xbKrXvMQyxM7"
      },
      "source": [
        "model=  get_vgg16_max()\n",
        "name=\"Model_\"+m_name+\"_\"+base_name\n",
        "_, history  = train(model, X_train, y_train, X_valid, y_valid, X_test, y_test, batch_size=64, epochs=100, model_name=name)"
      ],
      "execution_count": null,
      "outputs": []
    },
    {
      "cell_type": "code",
      "metadata": {
        "id": "6fmbWzIOyxM-"
      },
      "source": [
        "model=  get_vgg16_max() \n",
        "PATH_trained_models = \" \"\n",
        "Final_Results_Test(model,PATH_trained_models)"
      ],
      "execution_count": null,
      "outputs": []
    },
    {
      "cell_type": "code",
      "metadata": {
        "id": "eHKtdy1zyxNA"
      },
      "source": [
        "model=  get_vgg16_max()  \n",
        "PATH_trained_models = \"\"\n",
        "name=\"Model_\"+m_name+\"_\"+base_name\n",
        "res=plot_train_valid(model,PATH_trained_models,name)"
      ],
      "execution_count": null,
      "outputs": []
    },
    {
      "cell_type": "code",
      "metadata": {
        "id": "m9fpQ25qyxNM"
      },
      "source": [
        "model= get_vgg16_max() \n",
        "model.load_weights(\"\")\n",
        "predictions= model.predict(X_test,verbose=0)\n",
        "\n",
        "labels = [\"Cover\",\"Stego\"]\n",
        "model_name=\"vgg16_max SUNI - \"\n",
        "curve4_1,labels4_1=get_curve(y_test, predictions, labels,model_name)"
      ],
      "execution_count": null,
      "outputs": []
    },
    {
      "cell_type": "markdown",
      "metadata": {
        "id": "GcNu2GOvyxNO"
      },
      "source": [
        "VGG16Stego Average"
      ]
    },
    {
      "cell_type": "code",
      "metadata": {
        "id": "MXSwSWtHyxNP"
      },
      "source": [
        "m_name=\"vgg16_avg\""
      ],
      "execution_count": null,
      "outputs": []
    },
    {
      "cell_type": "code",
      "metadata": {
        "id": "sE7LfLIlyxNQ"
      },
      "source": [
        "model=  get_vgg16_avg()\n",
        "name=\"Model_\"+m_name+\"_\"+base_name\n",
        "_, history  = train(model, X_train, y_train, X_valid, y_valid, X_test, y_test, batch_size=64, epochs=100, model_name=name)"
      ],
      "execution_count": null,
      "outputs": []
    },
    {
      "cell_type": "code",
      "metadata": {
        "id": "JPPlqlOIyxNR"
      },
      "source": [
        "model=  get_vgg16_avg() \n",
        "PATH_trained_models = \" \"\n",
        "Final_Results_Test(model,PATH_trained_models)"
      ],
      "execution_count": null,
      "outputs": []
    },
    {
      "cell_type": "code",
      "metadata": {
        "id": "oNy00hTiyxNW"
      },
      "source": [
        "model=  get_vgg16_avg()  \n",
        "PATH_trained_models = \"\"\n",
        "name=\"Model_\"+m_name+\"_\"+base_name\n",
        "res=plot_train_valid(model,PATH_trained_models,name)"
      ],
      "execution_count": null,
      "outputs": []
    },
    {
      "cell_type": "code",
      "metadata": {
        "id": "XWDf_AOQyxNY"
      },
      "source": [
        "model= get_vgg16_avg() \n",
        "model.load_weights(\"\")\n",
        "predictions= model.predict(X_test,verbose=0)\n",
        "labels = [\"Cover\",\"Stego\"]\n",
        "model_name=\"vgg16_avg SUNI - \"\n",
        "curve5_1,labels5_1=get_curve(y_test, predictions, labels,model_name)"
      ],
      "execution_count": null,
      "outputs": []
    },
    {
      "cell_type": "markdown",
      "metadata": {
        "id": "d1FwWYY8yxNa"
      },
      "source": [
        "VGG19Stego Max"
      ]
    },
    {
      "cell_type": "code",
      "metadata": {
        "id": "CelkqqoqyxNa"
      },
      "source": [
        "m_name=\"vgg19_max\""
      ],
      "execution_count": null,
      "outputs": []
    },
    {
      "cell_type": "code",
      "metadata": {
        "id": "sUFp5WwdyxNd"
      },
      "source": [
        "model=  get_vgg19_max()\n",
        "name=\"Model_\"+m_name+\"_\"+base_name\n",
        "_, history  = train(model, X_train, y_train, X_valid, y_valid, X_test, y_test, batch_size=64, epochs=100, model_name=name)"
      ],
      "execution_count": null,
      "outputs": []
    },
    {
      "cell_type": "code",
      "metadata": {
        "id": "LSTQQQX1yxNf"
      },
      "source": [
        "model=  get_vgg19_max() \n",
        "PATH_trained_models = \" \"\n",
        "Final_Results_Test(model,PATH_trained_models)"
      ],
      "execution_count": null,
      "outputs": []
    },
    {
      "cell_type": "code",
      "metadata": {
        "id": "mh53JXu6yxNg"
      },
      "source": [
        "model=  get_vgg19_max()  \n",
        "PATH_trained_models = \"\"\n",
        "name=\"Model_\"+m_name+\"_\"+base_name\n",
        "res=plot_train_valid(model,PATH_trained_models,name)"
      ],
      "execution_count": null,
      "outputs": []
    },
    {
      "cell_type": "code",
      "metadata": {
        "id": "Dv5zR4DkyxNh"
      },
      "source": [
        "model= get_vgg19_max() \n",
        "model.load_weights(\"\")\n",
        "predictions= model.predict(X_test,verbose=0)\n",
        "labels = [\"Cover\",\"Stego\"]\n",
        "model_name=\"vgg19_max SUNI - \"\n",
        "curve6_1,labels6_1=get_curve(y_test, predictions, labels,model_name)"
      ],
      "execution_count": null,
      "outputs": []
    },
    {
      "cell_type": "markdown",
      "metadata": {
        "id": "5nqbpXWPyxNj"
      },
      "source": [
        "VGG19Stego Average"
      ]
    },
    {
      "cell_type": "code",
      "metadata": {
        "id": "6MBAvy3FyxNj"
      },
      "source": [
        "m_name=\"vgg19_avg\""
      ],
      "execution_count": null,
      "outputs": []
    },
    {
      "cell_type": "code",
      "metadata": {
        "id": "64b6pdpLyxNl"
      },
      "source": [
        "model=  get_vgg19_avg()\n",
        "name=\"Model_\"+m_name+\"_\"+base_name\n",
        "_, history  = train(model, X_train, y_train, X_valid, y_valid, X_test, y_test, batch_size=64, epochs=100, model_name=name)"
      ],
      "execution_count": null,
      "outputs": []
    },
    {
      "cell_type": "code",
      "metadata": {
        "id": "aja_zm8CyxNo"
      },
      "source": [
        "model=  get_vgg19_avg() \n",
        "PATH_trained_models = \" \"\n",
        "Final_Results_Test(model,PATH_trained_models)"
      ],
      "execution_count": null,
      "outputs": []
    },
    {
      "cell_type": "code",
      "metadata": {
        "id": "hUwGPVtXyxNp"
      },
      "source": [
        "model=  get_vgg19_avg()  \n",
        "PATH_trained_models = \"\"\n",
        "name=\"Model_\"+m_name+\"_\"+base_name\n",
        "res=plot_train_valid(model,PATH_trained_models,name)"
      ],
      "execution_count": null,
      "outputs": []
    },
    {
      "cell_type": "code",
      "metadata": {
        "id": "JIQFb89KyxNr"
      },
      "source": [
        "model= get_vgg19_avg() \n",
        "model.load_weights(\"\")\n",
        "predictions= model.predict(X_test,verbose=0)\n",
        "labels = [\"Cover\",\"Stego\"]\n",
        "model_name=\"vgg19_avg SUNI - \"\n",
        "curve7_1,labels7_1=get_curve(y_test, predictions, labels,model_name)"
      ],
      "execution_count": null,
      "outputs": []
    },
    {
      "cell_type": "code",
      "metadata": {
        "id": "d_jSJh8ayxNt"
      },
      "source": [
        "curves=[curve1_1,curve2_1,curve3_1,curve4_1,curve5_1,curve6_1,curve7_1]\n",
        "labels=[labels1_1,labels2_1,labels3_1,labels4_1,labels5_1,labels6_1,labels7_1]\n",
        "\n",
        "for i in  range(len(curves)):\n",
        "      plt.title(\"\")\n",
        "      xlabel = \"False positive rate\"\n",
        "      ylabel = \"True positive rate\"\n",
        "      curve=curves[i]\n",
        "      label=labels[i]\n",
        "      for j in range(2):\n",
        "        l=label[j]\n",
        "        a, b = curve\n",
        "        plt.figure(1, figsize=(180,180))\n",
        "        plt.plot([0, 1], [0, 1], 'k--')\n",
        "        plt.plot(a, b, label=l)\n",
        "        plt.xlabel(xlabel)\n",
        "        plt.ylabel(ylabel)\n",
        "\n",
        "        plt.legend(loc='upper center', bbox_to_anchor=(1.5, 1),\n",
        "                    fancybox=True, ncol=1)\n",
        "results_dir=\"/content/drive/My Drive/ROCS/\"\n",
        "if not os.path.exists(results_dir):\n",
        "  os.makedirs(results_dir)\n",
        "plt.savefig(results_dir+'ROC_'+\"2SUNI0.4\"+'.eps', format='eps')\n",
        "plt.savefig(results_dir+'ROC_'+\"2SUNI0.4\"+'.svg', format='svg')\n",
        "plt.savefig(results_dir+'ROC_'+\"2SUNI0.4\"+'.pdf', format='pdf')"
      ],
      "execution_count": null,
      "outputs": []
    },
    {
      "cell_type": "markdown",
      "metadata": {
        "id": "nr5UBsiZvVkt"
      },
      "source": [
        "# PAYLOAD = 0.2bpp"
      ]
    },
    {
      "cell_type": "code",
      "metadata": {
        "id": "L_70MnXyvVku"
      },
      "source": [
        "PATH02 = 'drive/My Drive/Databases/Payload_02bpp'"
      ],
      "execution_count": null,
      "outputs": []
    },
    {
      "cell_type": "markdown",
      "metadata": {
        "id": "q5S8pplX0DZ2"
      },
      "source": [
        "## WOW"
      ]
    },
    {
      "cell_type": "markdown",
      "metadata": {
        "id": "yelEG-390DZ3"
      },
      "source": [
        "#### BOSSbase 1.01"
      ]
    },
    {
      "cell_type": "code",
      "metadata": {
        "id": "1X8YRdnu0DZ3",
        "outputId": "b3010ce8-a573-48e0-8c5a-6e7df0dfec53",
        "colab": {
          "base_uri": "https://localhost:8080/"
        }
      },
      "source": [
        "#Dataset\n",
        "\n",
        "PATH02_WOW1 = \"/WOW_02bpp_BOSS/\"\n",
        "\n",
        "#Train\n",
        "X_train = np.load(PATH02+PATH02_WOW1+'X_train.npy')\n",
        "y_train = np.load(PATH02+PATH02_WOW1+'y_train.npy')\n",
        "#Valid\n",
        "X_valid = np.load(PATH02+PATH02_WOW1+'X_valid.npy')\n",
        "y_valid = np.load(PATH02+PATH02_WOW1+'y_valid.npy')\n",
        "#Test\n",
        "X_test = np.load(PATH02+PATH02_WOW1+'X_test.npy')\n",
        "y_test = np.load(PATH02+PATH02_WOW1+'y_test.npy')\n",
        "\n",
        "print(X_train.shape)\n",
        "print(y_train.shape)\n",
        "print(X_valid.shape)\n",
        "print(y_valid.shape)\n",
        "print(X_test.shape)\n",
        "print(y_test.shape)\n",
        "base_name=\"02WOW1\""
      ],
      "execution_count": null,
      "outputs": [
        {
          "output_type": "stream",
          "text": [
            "(8000, 256, 256, 1)\n",
            "(8000, 2)\n",
            "(2000, 256, 256, 1)\n",
            "(2000, 2)\n",
            "(10000, 256, 256, 1)\n",
            "(10000, 2)\n"
          ],
          "name": "stdout"
        }
      ]
    },
    {
      "cell_type": "markdown",
      "metadata": {
        "id": "UayzVWRk0DZ7"
      },
      "source": [
        "Yedroudj-Net"
      ]
    },
    {
      "cell_type": "code",
      "metadata": {
        "id": "TWz1d1qn0DZ7"
      },
      "source": [
        "m_name=\"Yedroudj_Net\""
      ],
      "execution_count": null,
      "outputs": []
    },
    {
      "cell_type": "code",
      "metadata": {
        "id": "8Uh4jq900DZ_"
      },
      "source": [
        "model= get_yedroudj() \n",
        "model.load_weights(\"\") #best Model 0.4\n",
        "name=\"Model_\"+m_name+\"_\"+base_name\n",
        "_, history  = train(model, X_train, y_train, X_valid, y_valid, X_test, y_test, batch_size=64, epochs=50, model_name=name)"
      ],
      "execution_count": null,
      "outputs": []
    },
    {
      "cell_type": "code",
      "metadata": {
        "id": "fDvUkwSj0DaC"
      },
      "source": [
        "model= get_yedroudj() \n",
        "PATH_trained_models = \" \"\n",
        "Final_Results_Test(model,PATH_trained_models)"
      ],
      "execution_count": null,
      "outputs": []
    },
    {
      "cell_type": "code",
      "metadata": {
        "id": "onI-o_UV0DaE"
      },
      "source": [
        "model= get_yedroudj()  \n",
        "PATH_trained_models = \"\"\n",
        "name=\"Model_\"+m_name+\"_\"+base_name\n",
        "res=plot_train_valid(model,PATH_trained_models,name)"
      ],
      "execution_count": null,
      "outputs": []
    },
    {
      "cell_type": "code",
      "metadata": {
        "id": "eqyYzzmT0DaF"
      },
      "source": [
        "model= get_yedroudj() \n",
        "model.load_weights(\"\") #path best model\n",
        "predictions= model.predict(X_test,verbose=0)\n",
        "labels = [\"Cover\",\"Stego\"]\n",
        "model_name=\"Yedroudj-Net WOW - \"\n",
        "curve1,labels1=get_curve(y_test, predictions, labels,model_name)"
      ],
      "execution_count": null,
      "outputs": []
    },
    {
      "cell_type": "markdown",
      "metadata": {
        "id": "Ue_0zW5W0DaH"
      },
      "source": [
        "Ye-Net"
      ]
    },
    {
      "cell_type": "code",
      "metadata": {
        "id": "dUwmfrkk0DaI"
      },
      "source": [
        "m_name=\"Ye_Net\""
      ],
      "execution_count": null,
      "outputs": []
    },
    {
      "cell_type": "code",
      "metadata": {
        "id": "i6wF_gIr0DaJ"
      },
      "source": [
        "model= get_ye() \n",
        "model.load_weights(\"\") #best Model 0.4\n",
        "name=\"Model_\"+m_name+\"_\"+base_name\n",
        "_, history  = train(model, X_train, y_train, X_valid, y_valid, X_test, y_test, batch_size=64, epochs=50, model_name=name)"
      ],
      "execution_count": null,
      "outputs": []
    },
    {
      "cell_type": "code",
      "metadata": {
        "id": "pr_Pp-e00DaL"
      },
      "source": [
        "model= get_ye() \n",
        "PATH_trained_models = \" \"\n",
        "Final_Results_Test(model,PATH_trained_models)"
      ],
      "execution_count": null,
      "outputs": []
    },
    {
      "cell_type": "code",
      "metadata": {
        "id": "bS63eiit0DaM"
      },
      "source": [
        "model= get_ye()  \n",
        "PATH_trained_models = \"\"\n",
        "name=\"Model_\"+m_name+\"_\"+base_name\n",
        "res=plot_train_valid(model,PATH_trained_models,name)"
      ],
      "execution_count": null,
      "outputs": []
    },
    {
      "cell_type": "code",
      "metadata": {
        "id": "Ffq23MZw0DaO"
      },
      "source": [
        "model= get_ye() \n",
        "model.load_weights(\"\")\n",
        "predictions= model.predict(X_test,verbose=0)\n",
        "labels = [\"Cover\",\"Stego\"]\n",
        "model_name=\"Ye-Net WOW - \"\n",
        "curve2,labels2=get_curve(y_test, predictions, labels,model_name)"
      ],
      "execution_count": null,
      "outputs": []
    },
    {
      "cell_type": "markdown",
      "metadata": {
        "id": "F47E5LgQ0DaQ"
      },
      "source": [
        "Xu-Net"
      ]
    },
    {
      "cell_type": "code",
      "metadata": {
        "id": "0krqMEPD0DaQ"
      },
      "source": [
        "m_name=\"Xu_Net\""
      ],
      "execution_count": null,
      "outputs": []
    },
    {
      "cell_type": "code",
      "metadata": {
        "id": "UxX5b-f00DaS"
      },
      "source": [
        "model= get_xu() \n",
        "model.load_weights(\"\") #best Model 0.4\n",
        "name=\"Model_\"+m_name+\"_\"+base_name\n",
        "_, history  = train(model, X_train, y_train, X_valid, y_valid, X_test, y_test, batch_size=64, epochs=50, model_name=name)"
      ],
      "execution_count": null,
      "outputs": []
    },
    {
      "cell_type": "code",
      "metadata": {
        "id": "O8Yb-lV50DaT"
      },
      "source": [
        "model= get_xu() \n",
        "PATH_trained_models = \" \"\n",
        "Final_Results_Test(model,PATH_trained_models)"
      ],
      "execution_count": null,
      "outputs": []
    },
    {
      "cell_type": "code",
      "metadata": {
        "id": "rVbSXLee0DaV"
      },
      "source": [
        "model= get_xu()  \n",
        "PATH_trained_models = \"\"\n",
        "name=\"Model_\"+m_name+\"_\"+base_name\n",
        "res=plot_train_valid(model,PATH_trained_models,name)"
      ],
      "execution_count": null,
      "outputs": []
    },
    {
      "cell_type": "code",
      "metadata": {
        "id": "2ULCxnkK0DaX"
      },
      "source": [
        "model= get_xu() \n",
        "model.load_weights(\" \")\n",
        "predictions= model.predict(X_test,verbose=0)\n",
        "labels = [\"Cover\",\"Stego\"]\n",
        "model_name=\"Xu-Net WOW - \"\n",
        "curve3,labels3=get_curve(y_test, predictions, labels,model_name)"
      ],
      "execution_count": null,
      "outputs": []
    },
    {
      "cell_type": "markdown",
      "metadata": {
        "id": "SS9Eh-mK0DaZ"
      },
      "source": [
        "VGG16Stego Max"
      ]
    },
    {
      "cell_type": "code",
      "metadata": {
        "id": "HVUe3icb0DaZ"
      },
      "source": [
        "m_name=\"vgg16_max\""
      ],
      "execution_count": null,
      "outputs": []
    },
    {
      "cell_type": "code",
      "metadata": {
        "id": "iwV7SQXj0Dab"
      },
      "source": [
        "model=  get_vgg16_max()\n",
        "model.load_weights(\"\") #best Model 0.4\n",
        "name=\"Model_\"+m_name+\"_\"+base_name\n",
        "_, history  = train(model, X_train, y_train, X_valid, y_valid, X_test, y_test, batch_size=32, epochs=50, model_name=name)"
      ],
      "execution_count": null,
      "outputs": []
    },
    {
      "cell_type": "code",
      "metadata": {
        "id": "T6nZq-BT0Dad"
      },
      "source": [
        "model=  get_vgg16_max() \n",
        "PATH_trained_models = \" \"\n",
        "Final_Results_Test(model,PATH_trained_models)"
      ],
      "execution_count": null,
      "outputs": []
    },
    {
      "cell_type": "code",
      "metadata": {
        "id": "CDTkzFfd0Dae"
      },
      "source": [
        "model=  get_vgg16_max()  \n",
        "PATH_trained_models = \"\"\n",
        "name=\"Model_\"+m_name+\"_\"+base_name\n",
        "res=plot_train_valid(model,PATH_trained_models,name)"
      ],
      "execution_count": null,
      "outputs": []
    },
    {
      "cell_type": "code",
      "metadata": {
        "id": "WDQC-21Y0Dag"
      },
      "source": [
        "model= get_vgg16_max() \n",
        "model.load_weights(\"\")\n",
        "predictions= model.predict(X_test,verbose=0)\n",
        "\n",
        "labels = [\"Cover\",\"Stego\"]\n",
        "model_name=\"vgg16_max WOW - \"\n",
        "curve4,labels4=get_curve(y_test, predictions, labels,model_name)"
      ],
      "execution_count": null,
      "outputs": []
    },
    {
      "cell_type": "markdown",
      "metadata": {
        "id": "RuoQ7NB50Dah"
      },
      "source": [
        "VGG16Stego Average"
      ]
    },
    {
      "cell_type": "code",
      "metadata": {
        "id": "RHJ-NZ2_0Dai"
      },
      "source": [
        "m_name=\"vgg16_avg\""
      ],
      "execution_count": null,
      "outputs": []
    },
    {
      "cell_type": "code",
      "metadata": {
        "id": "jDjRGLkl0Daj"
      },
      "source": [
        "model=  get_vgg16_avg()\n",
        "model.load_weights(\"\") #best Model 0.4\n",
        "name=\"Model_\"+m_name+\"_\"+base_name\n",
        "_, history  = train(model, X_train, y_train, X_valid, y_valid, X_test, y_test, batch_size=32, epochs=50, model_name=name)"
      ],
      "execution_count": null,
      "outputs": []
    },
    {
      "cell_type": "code",
      "metadata": {
        "id": "sZI6Ej480Dal"
      },
      "source": [
        "model=  get_vgg16_avg() \n",
        "PATH_trained_models = \" \"\n",
        "Final_Results_Test(model,PATH_trained_models)"
      ],
      "execution_count": null,
      "outputs": []
    },
    {
      "cell_type": "code",
      "metadata": {
        "id": "_0T5t4AD0Dan"
      },
      "source": [
        "model=  get_vgg16_avg()  \n",
        "PATH_trained_models = \"\"\n",
        "name=\"Model_\"+m_name+\"_\"+base_name\n",
        "res=plot_train_valid(model,PATH_trained_models,name)"
      ],
      "execution_count": null,
      "outputs": []
    },
    {
      "cell_type": "code",
      "metadata": {
        "id": "5QY1sWu00Dao"
      },
      "source": [
        "model= get_vgg16_avg() \n",
        "model.load_weights(\"\")\n",
        "predictions= model.predict(X_test,verbose=0)\n",
        "labels = [\"Cover\",\"Stego\"]\n",
        "model_name=\"vgg16_avg WOW - \"\n",
        "curve5,labels5=get_curve(y_test, predictions, labels,model_name)"
      ],
      "execution_count": null,
      "outputs": []
    },
    {
      "cell_type": "markdown",
      "metadata": {
        "id": "UKD9qBrD0Daq"
      },
      "source": [
        "VGG19Stego Max"
      ]
    },
    {
      "cell_type": "code",
      "metadata": {
        "id": "3EBr57vV0Daq"
      },
      "source": [
        "m_name=\"vgg19_max\""
      ],
      "execution_count": null,
      "outputs": []
    },
    {
      "cell_type": "code",
      "metadata": {
        "id": "ASyGXJRj0Dav"
      },
      "source": [
        "model=  get_vgg19_max()\n",
        "model.load_weights(\"\") #best Model 0.4\n",
        "name=\"Model_\"+m_name+\"_\"+base_name\n",
        "_, history  = train(model, X_train, y_train, X_valid, y_valid, X_test, y_test, batch_size=32, epochs=50, model_name=name)"
      ],
      "execution_count": null,
      "outputs": []
    },
    {
      "cell_type": "code",
      "metadata": {
        "id": "U5W5XvMU0Dax"
      },
      "source": [
        "model=  get_vgg19_max() \n",
        "PATH_trained_models = \" \"\n",
        "Final_Results_Test(model,PATH_trained_models)"
      ],
      "execution_count": null,
      "outputs": []
    },
    {
      "cell_type": "code",
      "metadata": {
        "id": "SAQcveTf0Da0"
      },
      "source": [
        "model=  get_vgg19_max()  \n",
        "PATH_trained_models = \"\"\n",
        "name=\"Model_\"+m_name+\"_\"+base_name\n",
        "res=plot_train_valid(model,PATH_trained_models,name)"
      ],
      "execution_count": null,
      "outputs": []
    },
    {
      "cell_type": "code",
      "metadata": {
        "id": "H3HQeN360Da2"
      },
      "source": [
        "model= get_vgg19_max() \n",
        "model.load_weights(\")\n",
        "predictions= model.predict(X_test,verbose=0)\n",
        "labels = [\"Cover\",\"Stego\"]\n",
        "model_name=\"vgg19_max WOW - \"\n",
        "curve6,labels6=get_curve(y_test, predictions, labels,model_name)"
      ],
      "execution_count": null,
      "outputs": []
    },
    {
      "cell_type": "markdown",
      "metadata": {
        "id": "gxs88ncZ0Da3"
      },
      "source": [
        "VGG19Stego Average"
      ]
    },
    {
      "cell_type": "code",
      "metadata": {
        "id": "IP1OcSvD0Da4"
      },
      "source": [
        "m_name=\"vgg19_avg\""
      ],
      "execution_count": null,
      "outputs": []
    },
    {
      "cell_type": "code",
      "metadata": {
        "id": "QYngVnou0Da6"
      },
      "source": [
        "model=  get_vgg19_avg()\n",
        "model.load_weights(\"\") #best Model 0.4\n",
        "name=\"Model_\"+m_name+\"_\"+base_name\n",
        "_, history  = train(model, X_train, y_train, X_valid, y_valid, X_test, y_test, batch_size=32, epochs=50, model_name=name)"
      ],
      "execution_count": null,
      "outputs": []
    },
    {
      "cell_type": "code",
      "metadata": {
        "id": "nRtvGhnY0Da7"
      },
      "source": [
        "model=  get_vgg19_avg() \n",
        "PATH_trained_models = \" \"\n",
        "Final_Results_Test(model,PATH_trained_models)"
      ],
      "execution_count": null,
      "outputs": []
    },
    {
      "cell_type": "code",
      "metadata": {
        "id": "CeeLXFJh0Da9"
      },
      "source": [
        "model=  get_vgg19_avg()  \n",
        "PATH_trained_models = \"\"\n",
        "name=\"Model_\"+m_name+\"_\"+base_name\n",
        "res=plot_train_valid(model,PATH_trained_models,name)"
      ],
      "execution_count": null,
      "outputs": []
    },
    {
      "cell_type": "code",
      "metadata": {
        "id": "ZrXjYUyt0Da_"
      },
      "source": [
        "model= get_vgg19_avg() \n",
        "model.load_weights(\"\")\n",
        "predictions= model.predict(X_test,verbose=0)\n",
        "labels = [\"Cover\",\"Stego\"]\n",
        "model_name=\"vgg19_avg WOW - \"\n",
        "curve7,labels7=get_curve(y_test, predictions, labels,model_name)"
      ],
      "execution_count": null,
      "outputs": []
    },
    {
      "cell_type": "markdown",
      "metadata": {
        "id": "g15iZLZn0DbC"
      },
      "source": [
        "#### ROC CURVES"
      ]
    },
    {
      "cell_type": "code",
      "metadata": {
        "id": "__f8nXOz0DbC"
      },
      "source": [
        "curves=[curve1,curve2,curve3,curve4,curve5,curve6,curve7]\n",
        "labels=[labels1,labels2,labels3,labels4,labels5,labels6,labels7]\n",
        "\n",
        "for i in  range(len(curves)):\n",
        "      plt.title(\"\")\n",
        "      xlabel = \"False positive rate\"\n",
        "      ylabel = \"True positive rate\"\n",
        "      curve=curves[i]\n",
        "      label=labels[i]\n",
        "      for j in range(2):\n",
        "        l=label[j]\n",
        "        a, b = curve\n",
        "        plt.figure(1, figsize=(180,180))\n",
        "        plt.plot([0, 1], [0, 1], 'k--')\n",
        "        plt.plot(a, b, label=l)\n",
        "        plt.xlabel(xlabel)\n",
        "        plt.ylabel(ylabel)\n",
        "\n",
        "        plt.legend(loc='upper center', bbox_to_anchor=(1.5, 1),\n",
        "                    fancybox=True, ncol=1)\n",
        "results_dir=\"/content/drive/My Drive/ROCS/\"\n",
        "if not os.path.exists(results_dir):\n",
        "  os.makedirs(results_dir)\n",
        "plt.savefig(results_dir+'ROC_'+\"WOW0.4\"+'.eps', format='eps')\n",
        "plt.savefig(results_dir+'ROC_'+\"WOW0.4\"+'.svg', format='svg')\n",
        "plt.savefig(results_dir+'ROC_'+\"WOW0.4\"+'.pdf', format='pdf')"
      ],
      "execution_count": null,
      "outputs": []
    },
    {
      "cell_type": "code",
      "metadata": {
        "id": "CNpSlakZ0DbE"
      },
      "source": [
        ""
      ],
      "execution_count": null,
      "outputs": []
    },
    {
      "cell_type": "markdown",
      "metadata": {
        "id": "G1hugDZs0DbH"
      },
      "source": [
        "#### BOSSbase 1.01 + BOWS2"
      ]
    },
    {
      "cell_type": "code",
      "metadata": {
        "id": "TAkP8dTK0DbI"
      },
      "source": [
        "#Dataset\n",
        "\n",
        "PATH02_WOW2 = \"/WOW_02bpp_BOSS-BOWS2/\"\n",
        "\n",
        "#Train\n",
        "X_train = np.load(PATH02+PATH02_WOW2+'X_train.npy')\n",
        "y_train = np.load(PATH02+PATH02_WOW2+'y_train.npy')\n",
        "#Valid\n",
        "X_valid = np.load(PATH02+PATH02_WOW2+'X_valid.npy')\n",
        "y_valid = np.load(PATH02+PATH02_WOW2+'y_valid.npy')\n",
        "#Test\n",
        "X_test = np.load(PATH02+PATH02_WOW2+'X_test.npy')\n",
        "y_test = np.load(PATH02+PATH02_WOW2+'y_test.npy')\n",
        "\n",
        "print(X_train.shape)\n",
        "print(y_train.shape)\n",
        "print(X_valid.shape)\n",
        "print(y_valid.shape)\n",
        "print(X_test.shape)\n",
        "print(y_test.shape)\n",
        "base_name=\"02WOW2\""
      ],
      "execution_count": null,
      "outputs": []
    },
    {
      "cell_type": "markdown",
      "metadata": {
        "id": "JEXZ2j-_0DbK"
      },
      "source": [
        "Yedroudj-Net"
      ]
    },
    {
      "cell_type": "code",
      "metadata": {
        "id": "HND9A9NH0DbL"
      },
      "source": [
        "m_name=\"Yedroudj_Net\""
      ],
      "execution_count": null,
      "outputs": []
    },
    {
      "cell_type": "code",
      "metadata": {
        "id": "JieOC4kY0DbM"
      },
      "source": [
        "model= get_yedroudj() \n",
        "model.load_weights(\"\") #best Model 0.4\n",
        "name=\"Model_\"+m_name+\"_\"+base_name\n",
        "_, history  = train(model, X_train, y_train, X_valid, y_valid, X_test, y_test, batch_size=64, epochs=50, model_name=name)"
      ],
      "execution_count": null,
      "outputs": []
    },
    {
      "cell_type": "code",
      "metadata": {
        "id": "QNiSNBzr0DbR"
      },
      "source": [
        "model= get_yedroudj() \n",
        "PATH_trained_models = \" \"\n",
        "Final_Results_Test(model,PATH_trained_models)"
      ],
      "execution_count": null,
      "outputs": []
    },
    {
      "cell_type": "code",
      "metadata": {
        "id": "VUCGVldq0DbU"
      },
      "source": [
        "model= get_yedroudj()  \n",
        "PATH_trained_models = \"\"\n",
        "name=\"Model_\"+m_name+\"_\"+base_name\n",
        "res=plot_train_valid(model,PATH_trained_models,name)"
      ],
      "execution_count": null,
      "outputs": []
    },
    {
      "cell_type": "code",
      "metadata": {
        "id": "cq8UbJmU0DbW"
      },
      "source": [
        "model= get_yedroudj()  \n",
        "model.load_weights(\"\") #path best model\n",
        "predictions= model.predict(X_test,verbose=0)\n",
        "labels = [\"Cover\",\"Stego\"]\n",
        "model_name=\"Yedroudj-Net WOW - \"\n",
        "curve1,labels1=get_curve(y_test, predictions, labels,model_name)"
      ],
      "execution_count": null,
      "outputs": []
    },
    {
      "cell_type": "markdown",
      "metadata": {
        "id": "kcbuvJvf0DbY"
      },
      "source": [
        "Ye-Net"
      ]
    },
    {
      "cell_type": "code",
      "metadata": {
        "id": "W0Lp2jok0DbZ"
      },
      "source": [
        "m_name=\"Ye_Net\""
      ],
      "execution_count": null,
      "outputs": []
    },
    {
      "cell_type": "code",
      "metadata": {
        "id": "hI7Il7Ro0Dbb"
      },
      "source": [
        "model= get_ye() \n",
        "model.load_weights(\"\") #best Model 0.4\n",
        "name=\"Model_\"+m_name+\"_\"+base_name\n",
        "_, history  = train(model, X_train, y_train, X_valid, y_valid, X_test, y_test, batch_size=64, epochs=50, model_name=name)"
      ],
      "execution_count": null,
      "outputs": []
    },
    {
      "cell_type": "code",
      "metadata": {
        "id": "Rmi8M4R40Dbc"
      },
      "source": [
        "model= get_ye() \n",
        "PATH_trained_models = \" \"\n",
        "Final_Results_Test(model,PATH_trained_models)"
      ],
      "execution_count": null,
      "outputs": []
    },
    {
      "cell_type": "code",
      "metadata": {
        "id": "EZatrmov0Dbe"
      },
      "source": [
        "model= get_ye()  \n",
        "PATH_trained_models = \"\"\n",
        "name=\"Model_\"+m_name+\"_\"+base_name\n",
        "res=plot_train_valid(model,PATH_trained_models,name)"
      ],
      "execution_count": null,
      "outputs": []
    },
    {
      "cell_type": "code",
      "metadata": {
        "id": "k29RGUMH0Dbh"
      },
      "source": [
        "model= get_ye() \n",
        "model.load_weights(\"\")#best Model train\n",
        "predictions= model.predict(X_test,verbose=0)\n",
        "labels = [\"Cover\",\"Stego\"]\n",
        "model_name=\"Ye-Net WOW - \"\n",
        "curve2,labels2=get_curve(y_test, predictions, labels,model_name)"
      ],
      "execution_count": null,
      "outputs": []
    },
    {
      "cell_type": "markdown",
      "metadata": {
        "id": "2eUQN8sj0Dbj"
      },
      "source": [
        "Xu-Net"
      ]
    },
    {
      "cell_type": "code",
      "metadata": {
        "id": "pDOMlyvC0Dbj"
      },
      "source": [
        "m_name=\"Xu_Net\""
      ],
      "execution_count": null,
      "outputs": []
    },
    {
      "cell_type": "code",
      "metadata": {
        "id": "vC7htFRu0Dbl"
      },
      "source": [
        "model= get_xu() \n",
        "model.load_weights(\"\") #best Model 0.4\n",
        "name=\"Model_\"+m_name+\"_\"+base_name\n",
        "_, history  = train(model, X_train, y_train, X_valid, y_valid, X_test, y_test, batch_size=64, epochs=50, model_name=name)"
      ],
      "execution_count": null,
      "outputs": []
    },
    {
      "cell_type": "code",
      "metadata": {
        "id": "GjoHmnfo0Dbo"
      },
      "source": [
        "model= get_xu() \n",
        "PATH_trained_models = \" \"\n",
        "Final_Results_Test(model,PATH_trained_models)"
      ],
      "execution_count": null,
      "outputs": []
    },
    {
      "cell_type": "code",
      "metadata": {
        "id": "9Z_Wfq3r0Dbr"
      },
      "source": [
        "model= get_xu()  \n",
        "PATH_trained_models = \"\"\n",
        "name=\"Model_\"+m_name+\"_\"+base_name\n",
        "res=plot_train_valid(model,PATH_trained_models,name)"
      ],
      "execution_count": null,
      "outputs": []
    },
    {
      "cell_type": "code",
      "metadata": {
        "id": "STX-fSyo0Dbt"
      },
      "source": [
        "model= get_xu() \n",
        "model.load_weights(\" \")#best Model train\n",
        "predictions= model.predict(X_test,verbose=0)\n",
        "labels = [\"Cover\",\"Stego\"]\n",
        "model_name=\"Xu-Net WOW - \"\n",
        "curve3,labels3=get_curve(y_test, predictions, labels,model_name)"
      ],
      "execution_count": null,
      "outputs": []
    },
    {
      "cell_type": "markdown",
      "metadata": {
        "id": "0I7gjkMz0Dbx"
      },
      "source": [
        "VGG16Stego Max"
      ]
    },
    {
      "cell_type": "code",
      "metadata": {
        "id": "Fv6BNB_W0Dbx"
      },
      "source": [
        "m_name=\"vgg16_max\""
      ],
      "execution_count": null,
      "outputs": []
    },
    {
      "cell_type": "code",
      "metadata": {
        "id": "Rdhmol730Dbz"
      },
      "source": [
        "model=  get_vgg16_max()\n",
        "model.load_weights(\"\") #best Model 0.4\n",
        "name=\"Model_\"+m_name+\"_\"+base_name\n",
        "_, history  = train(model, X_train, y_train, X_valid, y_valid, X_test, y_test, batch_size=32, epochs=50, model_name=name)"
      ],
      "execution_count": null,
      "outputs": []
    },
    {
      "cell_type": "code",
      "metadata": {
        "id": "LGBSAZei0Db0"
      },
      "source": [
        "model=  get_vgg16_max() \n",
        "PATH_trained_models = \" \"\n",
        "Final_Results_Test(model,PATH_trained_models)"
      ],
      "execution_count": null,
      "outputs": []
    },
    {
      "cell_type": "code",
      "metadata": {
        "id": "OZ7iZzlt0Db2"
      },
      "source": [
        "model=  get_vgg16_max()  \n",
        "PATH_trained_models = \"\"\n",
        "name=\"Model_\"+m_name+\"_\"+base_name\n",
        "res=plot_train_valid(model,PATH_trained_models,name)"
      ],
      "execution_count": null,
      "outputs": []
    },
    {
      "cell_type": "code",
      "metadata": {
        "id": "YcEJJ8LS0Db4"
      },
      "source": [
        "model= get_vgg16_max() \n",
        "model.load_weights(\"\") #best Model train\n",
        "predictions= model.predict(X_test,verbose=0)\n",
        "\n",
        "labels = [\"Cover\",\"Stego\"]\n",
        "model_name=\"vgg16_max WOW - \"\n",
        "curve4,labels4=get_curve(y_test, predictions, labels,model_name)"
      ],
      "execution_count": null,
      "outputs": []
    },
    {
      "cell_type": "markdown",
      "metadata": {
        "id": "3iirR6U40Db6"
      },
      "source": [
        "VGG16Stego Average"
      ]
    },
    {
      "cell_type": "code",
      "metadata": {
        "id": "LHhq1hMV0Db6"
      },
      "source": [
        "m_name=\"vgg16_avg\""
      ],
      "execution_count": null,
      "outputs": []
    },
    {
      "cell_type": "code",
      "metadata": {
        "id": "MKKFcwSW0Db8"
      },
      "source": [
        "model=  get_vgg16_avg()\n",
        "model.load_weights(\"\") #best Model 0.4\n",
        "name=\"Model_\"+m_name+\"_\"+base_name\n",
        "_, history  = train(model, X_train, y_train, X_valid, y_valid, X_test, y_test, batch_size=32, epochs=50, model_name=name)"
      ],
      "execution_count": null,
      "outputs": []
    },
    {
      "cell_type": "code",
      "metadata": {
        "id": "Wcj0fneY0Db-"
      },
      "source": [
        "model=  get_vgg16_avg() \n",
        "PATH_trained_models = \" \"\n",
        "Final_Results_Test(model,PATH_trained_models)"
      ],
      "execution_count": null,
      "outputs": []
    },
    {
      "cell_type": "code",
      "metadata": {
        "id": "VNuXiKbN0DcB"
      },
      "source": [
        "model=  get_vgg16_avg()  \n",
        "PATH_trained_models = \"\"\n",
        "name=\"Model_\"+m_name+\"_\"+base_name\n",
        "res=plot_train_valid(model,PATH_trained_models,name)"
      ],
      "execution_count": null,
      "outputs": []
    },
    {
      "cell_type": "code",
      "metadata": {
        "id": "YLgtCGF20DcD"
      },
      "source": [
        "model= get_vgg16_avg() \n",
        "model.load_weights(\"\")#best Model train\n",
        "predictions= model.predict(X_test,verbose=0)\n",
        "labels = [\"Cover\",\"Stego\"]\n",
        "model_name=\"vgg16_avg WOW - \"\n",
        "curve5,labels5=get_curve(y_test, predictions, labels,model_name)"
      ],
      "execution_count": null,
      "outputs": []
    },
    {
      "cell_type": "markdown",
      "metadata": {
        "id": "b2zPtEH90DcF"
      },
      "source": [
        "VGG19Stego Max"
      ]
    },
    {
      "cell_type": "code",
      "metadata": {
        "id": "fP8NCkCM0DcF"
      },
      "source": [
        "m_name=\"vgg19_max\""
      ],
      "execution_count": null,
      "outputs": []
    },
    {
      "cell_type": "code",
      "metadata": {
        "id": "qY6ZewjH0DcH"
      },
      "source": [
        "model=  get_vgg19_max()\n",
        "model.load_weights(\"\") #best Model 0.4\n",
        "name=\"Model_\"+m_name+\"_\"+base_name\n",
        "_, history  = train(model, X_train, y_train, X_valid, y_valid, X_test, y_test, batch_size=32, epochs=50, model_name=name)"
      ],
      "execution_count": null,
      "outputs": []
    },
    {
      "cell_type": "code",
      "metadata": {
        "id": "Yrj7AMRt0DcK"
      },
      "source": [
        "model=  get_vgg19_max() \n",
        "PATH_trained_models = \" \"\n",
        "Final_Results_Test(model,PATH_trained_models)"
      ],
      "execution_count": null,
      "outputs": []
    },
    {
      "cell_type": "code",
      "metadata": {
        "id": "yxPdfjnV0DcM"
      },
      "source": [
        "model=  get_vgg19_max()  \n",
        "PATH_trained_models = \"\"\n",
        "name=\"Model_\"+m_name+\"_\"+base_name\n",
        "res=plot_train_valid(model,PATH_trained_models,name)"
      ],
      "execution_count": null,
      "outputs": []
    },
    {
      "cell_type": "code",
      "metadata": {
        "id": "qE93lcLU0DcP"
      },
      "source": [
        "model= get_vgg19_max() \n",
        "model.load_weights(\"\")#best Model train\n",
        "predictions= model.predict(X_test,verbose=0)\n",
        "labels = [\"Cover\",\"Stego\"]\n",
        "model_name=\"vgg19_max WOW - \"\n",
        "curve6,labels6=get_curve(y_test, predictions, labels,model_name)"
      ],
      "execution_count": null,
      "outputs": []
    },
    {
      "cell_type": "markdown",
      "metadata": {
        "id": "4_aoi5uJ0DcR"
      },
      "source": [
        "VGG19Stego Average"
      ]
    },
    {
      "cell_type": "code",
      "metadata": {
        "id": "91RDUjBq0DcR"
      },
      "source": [
        "m_name=\"vgg19_avg\""
      ],
      "execution_count": null,
      "outputs": []
    },
    {
      "cell_type": "code",
      "metadata": {
        "id": "o4L9MnX60DcS"
      },
      "source": [
        "model=  get_vgg19_avg()\n",
        "name=\"Model_\"+m_name+\"_\"+base_name\n",
        "_, history  = train(model, X_train, y_train, X_valid, y_valid, X_test, y_test, batch_size=32, epochs=100, model_name=name)"
      ],
      "execution_count": null,
      "outputs": []
    },
    {
      "cell_type": "code",
      "metadata": {
        "id": "elJSyxa30DcU"
      },
      "source": [
        "model=  get_vgg19_avg() \n",
        "PATH_trained_models = \" \"\n",
        "Final_Results_Test(model,PATH_trained_models)"
      ],
      "execution_count": null,
      "outputs": []
    },
    {
      "cell_type": "code",
      "metadata": {
        "id": "-6ipBOHs0DcV"
      },
      "source": [
        "model=  get_vgg19_avg()  \n",
        "PATH_trained_models = \"\"\n",
        "name=\"Model_\"+m_name+\"_\"+base_name\n",
        "res=plot_train_valid(model,PATH_trained_models,name)"
      ],
      "execution_count": null,
      "outputs": []
    },
    {
      "cell_type": "code",
      "metadata": {
        "id": "ld91q8ei0DcW"
      },
      "source": [
        "model= get_vgg19_avg() \n",
        "model.load_weights(\"\") #best Model train\n",
        "predictions= model.predict(X_test,verbose=0)\n",
        "labels = [\"Cover\",\"Stego\"]\n",
        "model_name=\"vgg19_avg WOW - \"\n",
        "curve7,labels7=get_curve(y_test, predictions, labels,model_name)"
      ],
      "execution_count": null,
      "outputs": []
    },
    {
      "cell_type": "markdown",
      "metadata": {
        "id": "QR7d94Cd0dO-"
      },
      "source": [
        "## S-UNIWARD"
      ]
    },
    {
      "cell_type": "markdown",
      "metadata": {
        "id": "wMLysAtA0dO-"
      },
      "source": [
        "#### BOSSbase 1.01"
      ]
    },
    {
      "cell_type": "code",
      "metadata": {
        "id": "Q7ZE14RO0dO_",
        "outputId": "c83ed126-2bdd-4020-9722-0d4867d849ea",
        "colab": {
          "base_uri": "https://localhost:8080/"
        }
      },
      "source": [
        "#Dataset\n",
        "\n",
        "PATH02_S_UNIWARD1 = \"/SUNIWARD_02bpp_BOSS/\"\n",
        "\n",
        "#Train\n",
        "X_train = np.load(PATH02+PATH02_S_UNIWARD1+'X_train.npy')\n",
        "y_train = np.load(PATH02+PATH02_S_UNIWARD1+'y_train.npy')\n",
        "#Valid\n",
        "X_valid = np.load(PATH02+PATH02_S_UNIWARD1+'X_valid.npy')\n",
        "y_valid = np.load(PATH02+PATH02_S_UNIWARD1+'y_valid.npy')\n",
        "#Test\n",
        "X_test = np.load(PATH02+PATH02_S_UNIWARD1+'X_test.npy')\n",
        "y_test = np.load(PATH02+PATH02_S_UNIWARD1+'y_test.npy')\n",
        "\n",
        "print(X_train.shape)\n",
        "print(y_train.shape)\n",
        "print(X_valid.shape)\n",
        "print(y_valid.shape)\n",
        "print(X_test.shape)\n",
        "print(y_test.shape)\n",
        "base_name=\"02SUNIWARD1\""
      ],
      "execution_count": null,
      "outputs": [
        {
          "output_type": "stream",
          "text": [
            "(8000, 256, 256, 1)\n",
            "(8000, 2)\n",
            "(2000, 256, 256, 1)\n",
            "(2000, 2)\n",
            "(10000, 256, 256, 1)\n",
            "(10000, 2)\n"
          ],
          "name": "stdout"
        }
      ]
    },
    {
      "cell_type": "markdown",
      "metadata": {
        "id": "HsmKbAGQ0dPA"
      },
      "source": [
        "Yedroudj-Net"
      ]
    },
    {
      "cell_type": "code",
      "metadata": {
        "id": "bqUE7X0-0dPA"
      },
      "source": [
        "m_name=\"Yedroudj_Net\""
      ],
      "execution_count": null,
      "outputs": []
    },
    {
      "cell_type": "code",
      "metadata": {
        "id": "RdwxGmVg0dPB"
      },
      "source": [
        "model= get_yedroudj() \n",
        "model.load_weights(\"\") #best Model 0.4\n",
        "name=\"Model_\"+m_name+\"_\"+base_name\n",
        "_, history  = train(model, X_train, y_train, X_valid, y_valid, X_test, y_test, batch_size=64, epochs=50, model_name=name)"
      ],
      "execution_count": null,
      "outputs": []
    },
    {
      "cell_type": "code",
      "metadata": {
        "id": "SxpTBKjC0dPC"
      },
      "source": [
        "model= get_yedroudj() \n",
        "PATH_trained_models = \" \"\n",
        "Final_Results_Test(model,PATH_trained_models)"
      ],
      "execution_count": null,
      "outputs": []
    },
    {
      "cell_type": "code",
      "metadata": {
        "id": "7H6Fg8Yc0dPE"
      },
      "source": [
        "model= get_yedroudj()  \n",
        "PATH_trained_models = \"\"\n",
        "name=\"Model_\"+m_name+\"_\"+base_name\n",
        "res=plot_train_valid(model,PATH_trained_models,name)"
      ],
      "execution_count": null,
      "outputs": []
    },
    {
      "cell_type": "code",
      "metadata": {
        "id": "hi4LtBZR0dPF"
      },
      "source": [
        "model= get_yedroudj() \n",
        "model.load_weights(\"\") #best Model train\n",
        "predictions= model.predict(X_test,verbose=0)\n",
        "labels = [\"Cover\",\"Stego\"]\n",
        "model_name=\"Yedroudj-Net SUNI - \"\n",
        "curve1_1,labels1_1=get_curve(y_test, predictions, labels,model_name)"
      ],
      "execution_count": null,
      "outputs": []
    },
    {
      "cell_type": "markdown",
      "metadata": {
        "id": "ghRWZuUj0dPH"
      },
      "source": [
        "Ye-Net"
      ]
    },
    {
      "cell_type": "code",
      "metadata": {
        "id": "YPL2lZd60dPH"
      },
      "source": [
        "m_name=\"Ye_Net\""
      ],
      "execution_count": null,
      "outputs": []
    },
    {
      "cell_type": "code",
      "metadata": {
        "id": "fpQZL1DW0dPJ"
      },
      "source": [
        "model= get_ye() \n",
        "model.load_weights(\"\") #best Model 0.4\n",
        "name=\"Model_\"+m_name+\"_\"+base_name\n",
        "_, history  = train(model, X_train, y_train, X_valid, y_valid, X_test, y_test, batch_size=64, epochs=50, model_name=name)"
      ],
      "execution_count": null,
      "outputs": []
    },
    {
      "cell_type": "code",
      "metadata": {
        "id": "yz3fE89a0dPL"
      },
      "source": [
        "model= get_ye() \n",
        "PATH_trained_models = \" \"\n",
        "Final_Results_Test(model,PATH_trained_models)"
      ],
      "execution_count": null,
      "outputs": []
    },
    {
      "cell_type": "code",
      "metadata": {
        "id": "Sjhh_rMj0dPM"
      },
      "source": [
        "model= get_ye()  \n",
        "PATH_trained_models = \"\"\n",
        "name=\"Model_\"+m_name+\"_\"+base_name\n",
        "res=plot_train_valid(model,PATH_trained_models,name)"
      ],
      "execution_count": null,
      "outputs": []
    },
    {
      "cell_type": "code",
      "metadata": {
        "id": "qm5QpnHG0dPN"
      },
      "source": [
        "model= get_ye() \n",
        "model.load_weights(\"\") #best Model train\n",
        "predictions= model.predict(X_test,verbose=0)\n",
        "labels = [\"Cover\",\"Stego\"]\n",
        "model_name=\"Ye-Net SUNI - \"\n",
        "curve2_1,labels2_1=get_curve(y_test, predictions, labels,model_name)"
      ],
      "execution_count": null,
      "outputs": []
    },
    {
      "cell_type": "markdown",
      "metadata": {
        "id": "NshtqWUw0dPO"
      },
      "source": [
        "##### Xu-Net"
      ]
    },
    {
      "cell_type": "code",
      "metadata": {
        "id": "EiedBdcI0dPP"
      },
      "source": [
        "m_name=\"Xu_Net\""
      ],
      "execution_count": null,
      "outputs": []
    },
    {
      "cell_type": "code",
      "metadata": {
        "id": "Vq_k-wqg0dPT"
      },
      "source": [
        "model= get_xu() \n",
        "model.load_weights(\"\") #best Model 0.4\n",
        "name=\"Model_\"+m_name+\"_\"+base_name\n",
        "_, history  = train(model, X_train, y_train, X_valid, y_valid, X_test, y_test, batch_size=64, epochs=50, model_name=name)"
      ],
      "execution_count": null,
      "outputs": []
    },
    {
      "cell_type": "code",
      "metadata": {
        "id": "QARsVTXc0dPW"
      },
      "source": [
        "model= get_xu() \n",
        "PATH_trained_models = \" \"\n",
        "Final_Results_Test(model,PATH_trained_models)"
      ],
      "execution_count": null,
      "outputs": []
    },
    {
      "cell_type": "code",
      "metadata": {
        "id": "iUgkQirD0dPX"
      },
      "source": [
        "model= get_xu()  \n",
        "PATH_trained_models = \"\"\n",
        "name=\"Model_\"+m_name+\"_\"+base_name\n",
        "res=plot_train_valid(model,PATH_trained_models,name)"
      ],
      "execution_count": null,
      "outputs": []
    },
    {
      "cell_type": "code",
      "metadata": {
        "id": "_5FMn1vR0dPZ"
      },
      "source": [
        "model= get_xu() \n",
        "model.load_weights(\"\") #best Model train\n",
        "predictions= model.predict(X_test,verbose=0)\n",
        "labels = [\"Cover\",\"Stego\"]\n",
        "model_name=\"Xu-Net SUNI - \"\n",
        "curve3_1,labels3_1=get_curve(y_test, predictions, labels,model_name)"
      ],
      "execution_count": null,
      "outputs": []
    },
    {
      "cell_type": "markdown",
      "metadata": {
        "id": "9PgP2b9v0dPb"
      },
      "source": [
        "VGG16Stego Max"
      ]
    },
    {
      "cell_type": "code",
      "metadata": {
        "id": "h4IfK6fv0dPc"
      },
      "source": [
        "m_name=\"vgg16_max\""
      ],
      "execution_count": null,
      "outputs": []
    },
    {
      "cell_type": "code",
      "metadata": {
        "id": "6aR2nyhe0dPe"
      },
      "source": [
        "model=  get_vgg16_max()\n",
        "model.load_weights(\"\") #best Model 0.4\n",
        "name=\"Model_\"+m_name+\"_\"+base_name\n",
        "_, history  = train(model, X_train, y_train, X_valid, y_valid, X_test, y_test, batch_size=32, epochs=50, model_name=name)"
      ],
      "execution_count": null,
      "outputs": []
    },
    {
      "cell_type": "code",
      "metadata": {
        "id": "m2tIc1YG0dPf"
      },
      "source": [
        "model=  get_vgg16_max() \n",
        "PATH_trained_models = \" \"\n",
        "Final_Results_Test(model,PATH_trained_models)"
      ],
      "execution_count": null,
      "outputs": []
    },
    {
      "cell_type": "code",
      "metadata": {
        "id": "m2LbOKbz0dPh"
      },
      "source": [
        "model=  get_vgg16_max()  \n",
        "PATH_trained_models = \"\"\n",
        "name=\"Model_\"+m_name+\"_\"+base_name\n",
        "res=plot_train_valid(model,PATH_trained_models,name)"
      ],
      "execution_count": null,
      "outputs": []
    },
    {
      "cell_type": "code",
      "metadata": {
        "id": "d23L6xCm0dPi"
      },
      "source": [
        "model= get_vgg16_max() \n",
        "model.load_weights(\"\") #best Model train\n",
        "predictions= model.predict(X_test,verbose=0)\n",
        "\n",
        "labels = [\"Cover\",\"Stego\"]\n",
        "model_name=\"vgg16_max SUNI - \"\n",
        "curve4_1,labels4_1=get_curve(y_test, predictions, labels,model_name)"
      ],
      "execution_count": null,
      "outputs": []
    },
    {
      "cell_type": "markdown",
      "metadata": {
        "id": "wKsomvsL0dPj"
      },
      "source": [
        "VGG16Stego Average"
      ]
    },
    {
      "cell_type": "code",
      "metadata": {
        "id": "KM8qO3Wh0dPk"
      },
      "source": [
        "m_name=\"vgg16_avg\""
      ],
      "execution_count": null,
      "outputs": []
    },
    {
      "cell_type": "code",
      "metadata": {
        "id": "agJyfPPZ0dPl"
      },
      "source": [
        "model=  get_vgg16_avg()\n",
        "model.load_weights(\"\") #best Model 0.4\n",
        "name=\"Model_\"+m_name+\"_\"+base_name\n",
        "_, history  = train(model, X_train, y_train, X_valid, y_valid, X_test, y_test, batch_size=32, epochs=50, model_name=name)"
      ],
      "execution_count": null,
      "outputs": []
    },
    {
      "cell_type": "code",
      "metadata": {
        "id": "GNQ6SHyV0dPm"
      },
      "source": [
        "model=  get_vgg16_avg() \n",
        "PATH_trained_models = \" \"\n",
        "Final_Results_Test(model,PATH_trained_models)"
      ],
      "execution_count": null,
      "outputs": []
    },
    {
      "cell_type": "code",
      "metadata": {
        "id": "p7W8wF_50dPn"
      },
      "source": [
        "model=  get_vgg16_avg()  \n",
        "PATH_trained_models = \"\"\n",
        "name=\"Model_\"+m_name+\"_\"+base_name\n",
        "res=plot_train_valid(model,PATH_trained_models,name)"
      ],
      "execution_count": null,
      "outputs": []
    },
    {
      "cell_type": "code",
      "metadata": {
        "id": "HXqbeogT0dPp"
      },
      "source": [
        "model= get_vgg16_avg() \n",
        "model.load_weights(\"\") #best Model train\n",
        "predictions= model.predict(X_test,verbose=0)\n",
        "labels = [\"Cover\",\"Stego\"]\n",
        "model_name=\"vgg16_avg SUNI - \"\n",
        "curve5_1,labels5_1=get_curve(y_test, predictions, labels,model_name)"
      ],
      "execution_count": null,
      "outputs": []
    },
    {
      "cell_type": "markdown",
      "metadata": {
        "id": "JwEP9nMS0dPs"
      },
      "source": [
        "VGG19Stego Max"
      ]
    },
    {
      "cell_type": "code",
      "metadata": {
        "id": "z2enuA5a0dPs"
      },
      "source": [
        "m_name=\"vgg19_max\""
      ],
      "execution_count": null,
      "outputs": []
    },
    {
      "cell_type": "code",
      "metadata": {
        "id": "oySBNXD40dPt"
      },
      "source": [
        "model=  get_vgg19_max()\n",
        "model.load_weights(\"\") #best Model 0.4\n",
        "name=\"Model_\"+m_name+\"_\"+base_name\n",
        "_, history  = train(model, X_train, y_train, X_valid, y_valid, X_test, y_test, batch_size=32, epochs=50, model_name=name)"
      ],
      "execution_count": null,
      "outputs": []
    },
    {
      "cell_type": "code",
      "metadata": {
        "id": "y99zTk6Q0dPw"
      },
      "source": [
        "model=  get_vgg19_max() \n",
        "PATH_trained_models = \" \"\n",
        "Final_Results_Test(model,PATH_trained_models)"
      ],
      "execution_count": null,
      "outputs": []
    },
    {
      "cell_type": "code",
      "metadata": {
        "id": "oh8c3hEz0dPx"
      },
      "source": [
        "model=  get_vgg19_max()  \n",
        "PATH_trained_models = \"\"\n",
        "name=\"Model_\"+m_name+\"_\"+base_name\n",
        "res=plot_train_valid(model,PATH_trained_models,name)"
      ],
      "execution_count": null,
      "outputs": []
    },
    {
      "cell_type": "code",
      "metadata": {
        "id": "BuRto5mf0dPy"
      },
      "source": [
        "model= get_vgg19_max() \n",
        "model.load_weights(\"\") #best Model train\n",
        "predictions= model.predict(X_test,verbose=0)\n",
        "labels = [\"Cover\",\"Stego\"]\n",
        "model_name=\"vgg19_max SUNI - \"\n",
        "curve6_1,labels6_1=get_curve(y_test, predictions, labels,model_name)"
      ],
      "execution_count": null,
      "outputs": []
    },
    {
      "cell_type": "markdown",
      "metadata": {
        "id": "FtC3rq_l0dP0"
      },
      "source": [
        "VGG19Stego Average"
      ]
    },
    {
      "cell_type": "code",
      "metadata": {
        "id": "tkqeDG8y0dP0"
      },
      "source": [
        "m_name=\"vgg19_avg\""
      ],
      "execution_count": null,
      "outputs": []
    },
    {
      "cell_type": "code",
      "metadata": {
        "id": "IcBAVKs10dP2"
      },
      "source": [
        "model=  get_vgg19_avg()\n",
        "model.load_weights(\"\") #best Model 0.4\n",
        "name=\"Model_\"+m_name+\"_\"+base_name\n",
        "_, history  = train(model, X_train, y_train, X_valid, y_valid, X_test, y_test, batch_size=32, epochs=50, model_name=name)"
      ],
      "execution_count": null,
      "outputs": []
    },
    {
      "cell_type": "code",
      "metadata": {
        "id": "6nJ-7xS_0dP3"
      },
      "source": [
        "model=  get_vgg19_avg() \n",
        "PATH_trained_models = \" \"\n",
        "Final_Results_Test(model,PATH_trained_models)"
      ],
      "execution_count": null,
      "outputs": []
    },
    {
      "cell_type": "code",
      "metadata": {
        "id": "D4yjcwlY0dP4"
      },
      "source": [
        "model=  get_vgg19_avg()  \n",
        "PATH_trained_models = \"\"\n",
        "name=\"Model_\"+m_name+\"_\"+base_name\n",
        "res=plot_train_valid(model,PATH_trained_models,name)"
      ],
      "execution_count": null,
      "outputs": []
    },
    {
      "cell_type": "code",
      "metadata": {
        "id": "P_m2rOqU0dP5"
      },
      "source": [
        "model= get_vgg19_avg() \n",
        "model.load_weights(\"\")#best Model train\n",
        "predictions= model.predict(X_test,verbose=0)\n",
        "labels = [\"Cover\",\"Stego\"]\n",
        "model_name=\"vgg19_avg SUNI - \"\n",
        "curve7_1,labels7_1=get_curve(y_test, predictions, labels,model_name)"
      ],
      "execution_count": null,
      "outputs": []
    },
    {
      "cell_type": "code",
      "metadata": {
        "id": "Nxvc1_xz0dP7"
      },
      "source": [
        "curves=[curve1_1,curve2_1,curve3_1,curve4_1,curve5_1,curve6_1,curve7_1]\n",
        "labels=[labels1_1,labels2_1,labels3_1,labels4_1,labels5_1,labels6_1,labels7_1]\n",
        "\n",
        "for i in  range(len(curves)):\n",
        "      plt.title(\"\")\n",
        "      xlabel = \"False positive rate\"\n",
        "      ylabel = \"True positive rate\"\n",
        "      curve=curves[i]\n",
        "      label=labels[i]\n",
        "      for j in range(2):\n",
        "        l=label[j]\n",
        "        a, b = curve\n",
        "        plt.figure(1, figsize=(180,180))\n",
        "        plt.plot([0, 1], [0, 1], 'k--')\n",
        "        plt.plot(a, b, label=l)\n",
        "        plt.xlabel(xlabel)\n",
        "        plt.ylabel(ylabel)\n",
        "\n",
        "        plt.legend(loc='upper center', bbox_to_anchor=(1.5, 1),\n",
        "                    fancybox=True, ncol=1)\n",
        "results_dir=\"/content/drive/My Drive/ROCS/\"\n",
        "if not os.path.exists(results_dir):\n",
        "  os.makedirs(results_dir)\n",
        "plt.savefig(results_dir+'ROC_'+\"SUNI0.2\"+'.eps', format='eps')\n",
        "plt.savefig(results_dir+'ROC_'+\"SUNI0.2\"+'.svg', format='svg')\n",
        "plt.savefig(results_dir+'ROC_'+\"SUNI0.2\"+'.pdf', format='pdf')"
      ],
      "execution_count": null,
      "outputs": []
    },
    {
      "cell_type": "markdown",
      "metadata": {
        "id": "EQI6whkS0dP8"
      },
      "source": [
        "#### BOSSbase 1.01 + BOWS2"
      ]
    },
    {
      "cell_type": "code",
      "metadata": {
        "id": "FGjiREoO0dP8"
      },
      "source": [
        "#Dataset\n",
        "\n",
        "PATH02_S_UNIWARD2 = \"/SUNIWARD_02bpp_BOSS-BOWS2/\"\n",
        "\n",
        "#Train\n",
        "X_train = np.load(PATH02+PATH02_S_UNIWARD2+'X_train.npy')\n",
        "y_train = np.load(PATH02+PATH02_S_UNIWARD2+'y_train.npy')\n",
        "#Valid\n",
        "X_valid = np.load(PATH02+PATH02_S_UNIWARD2+'X_valid.npy')\n",
        "y_valid = np.load(PATH02+PATH02_S_UNIWARD2+'y_valid.npy')\n",
        "#Test\n",
        "X_test = np.load(PATH02+PATH02_S_UNIWARD2+'X_test.npy')\n",
        "y_test = np.load(PATH02+PATH02_S_UNIWARD2+'y_test.npy')\n",
        "\n",
        "print(X_train.shape)\n",
        "print(y_train.shape)\n",
        "print(X_valid.shape)\n",
        "print(y_valid.shape)\n",
        "print(X_test.shape)\n",
        "print(y_test.shape)\n",
        "\n",
        "base_name=\"02SUNIWARD2\""
      ],
      "execution_count": null,
      "outputs": []
    },
    {
      "cell_type": "markdown",
      "metadata": {
        "id": "hr94zU0y0dP9"
      },
      "source": [
        "Yedroudj-Net"
      ]
    },
    {
      "cell_type": "code",
      "metadata": {
        "id": "c8C0JF5i0dP9"
      },
      "source": [
        "m_name=\"Yedroudj_Net\""
      ],
      "execution_count": null,
      "outputs": []
    },
    {
      "cell_type": "code",
      "metadata": {
        "id": "fGjIgxek0dQA"
      },
      "source": [
        "model= get_yedroudj() \n",
        "model.load_weights(\"\") #best Model 0.4\n",
        "name=\"Model_\"+m_name+\"_\"+base_name\n",
        "_, history  = train(model, X_train, y_train, X_valid, y_valid, X_test, y_test, batch_size=64, epochs=50, model_name=name)"
      ],
      "execution_count": null,
      "outputs": []
    },
    {
      "cell_type": "code",
      "metadata": {
        "id": "-Y1-1_jq0dQA"
      },
      "source": [
        "model= get_yedroudj() \n",
        "PATH_trained_models = \" \"\n",
        "Final_Results_Test(model,PATH_trained_models)"
      ],
      "execution_count": null,
      "outputs": []
    },
    {
      "cell_type": "code",
      "metadata": {
        "id": "HTTnTrUB0dQC"
      },
      "source": [
        "model= get_yedroudj()  \n",
        "PATH_trained_models = \"\"\n",
        "name=\"Model_\"+m_name+\"_\"+base_name\n",
        "res=plot_train_valid(model,PATH_trained_models,name)"
      ],
      "execution_count": null,
      "outputs": []
    },
    {
      "cell_type": "code",
      "metadata": {
        "id": "6JEjz8wv0dQD"
      },
      "source": [
        "model= get_yedroudj() \n",
        "model.load_weights(\"\") #best Model train\n",
        "predictions= model.predict(X_test,verbose=0)\n",
        "labels = [\"Cover\",\"Stego\"]\n",
        "model_name=\"Yedroudj-Net SUNI - \"\n",
        "curve1_1,labels1_1=get_curve(y_test, predictions, labels,model_name)"
      ],
      "execution_count": null,
      "outputs": []
    },
    {
      "cell_type": "markdown",
      "metadata": {
        "id": "waq22BcU0dQF"
      },
      "source": [
        "Ye-Net"
      ]
    },
    {
      "cell_type": "code",
      "metadata": {
        "id": "Q9i-1pPZ0dQF"
      },
      "source": [
        "m_name=\"Ye_Net\""
      ],
      "execution_count": null,
      "outputs": []
    },
    {
      "cell_type": "code",
      "metadata": {
        "id": "8-CiRmn60dQG"
      },
      "source": [
        "model= get_ye() \n",
        "model.load_weights(\"\") #best Model 0.4\n",
        "name=\"Model_\"+m_name+\"_\"+base_name\n",
        "_, history  = train(model, X_train, y_train, X_valid, y_valid, X_test, y_test, batch_size=64, epochs=50, model_name=name)"
      ],
      "execution_count": null,
      "outputs": []
    },
    {
      "cell_type": "code",
      "metadata": {
        "id": "nM8muBn70dQH"
      },
      "source": [
        "model= get_ye() \n",
        "PATH_trained_models = \" \"\n",
        "Final_Results_Test(model,PATH_trained_models)"
      ],
      "execution_count": null,
      "outputs": []
    },
    {
      "cell_type": "code",
      "metadata": {
        "id": "m7-3Vd3x0dQI"
      },
      "source": [
        "model= get_ye()  \n",
        "PATH_trained_models = \"\"\n",
        "name=\"Model_\"+m_name+\"_\"+base_name\n",
        "res=plot_train_valid(model,PATH_trained_models,name)"
      ],
      "execution_count": null,
      "outputs": []
    },
    {
      "cell_type": "code",
      "metadata": {
        "id": "NnGVdpmH0dQJ"
      },
      "source": [
        "model= get_ye() \n",
        "model.load_weights(\"\") #best Model train\n",
        "predictions= model.predict(X_test,verbose=0)\n",
        "labels = [\"Cover\",\"Stego\"]\n",
        "model_name=\"Ye-Net SUNI - \"\n",
        "curve2_1,labels2_1=get_curve(y_test, predictions, labels,model_name)"
      ],
      "execution_count": null,
      "outputs": []
    },
    {
      "cell_type": "markdown",
      "metadata": {
        "id": "QlWCOBVE0dQM"
      },
      "source": [
        "Xu-Net"
      ]
    },
    {
      "cell_type": "code",
      "metadata": {
        "id": "Etmtcnco0dQM"
      },
      "source": [
        "m_name=\"Xu_Net\""
      ],
      "execution_count": null,
      "outputs": []
    },
    {
      "cell_type": "code",
      "metadata": {
        "id": "GqpKu9Ml0dQN"
      },
      "source": [
        "model= get_xu() \n",
        "model.load_weights(\"\") #best Model 0.4\n",
        "name=\"Model_\"+m_name+\"_\"+base_name\n",
        "_, history  = train(model, X_train, y_train, X_valid, y_valid, X_test, y_test, batch_size=64, epochs=50, model_name=name)"
      ],
      "execution_count": null,
      "outputs": []
    },
    {
      "cell_type": "code",
      "metadata": {
        "id": "BiZTq1hH0dQP"
      },
      "source": [
        "model= get_xu() \n",
        "PATH_trained_models = \" \"\n",
        "Final_Results_Test(model,PATH_trained_models)"
      ],
      "execution_count": null,
      "outputs": []
    },
    {
      "cell_type": "code",
      "metadata": {
        "id": "CC9jWxAO0dQR"
      },
      "source": [
        "model= get_xu()  \n",
        "PATH_trained_models = \"\"\n",
        "name=\"Model_\"+m_name+\"_\"+base_name\n",
        "res=plot_train_valid(model,PATH_trained_models,name)"
      ],
      "execution_count": null,
      "outputs": []
    },
    {
      "cell_type": "code",
      "metadata": {
        "id": "OHTXDCmJ0dQU"
      },
      "source": [
        "model= get_xu() \n",
        "model.load_weights(\"\") #best Model train\n",
        "predictions= model.predict(X_test,verbose=0)\n",
        "labels = [\"Cover\",\"Stego\"]\n",
        "model_name=\"Xu-Net SUNI - \"\n",
        "curve3_1,labels3_1=get_curve(y_test, predictions, labels,model_name)"
      ],
      "execution_count": null,
      "outputs": []
    },
    {
      "cell_type": "markdown",
      "metadata": {
        "id": "z_9o3PgT0dQa"
      },
      "source": [
        "VGG16Stego Max"
      ]
    },
    {
      "cell_type": "code",
      "metadata": {
        "id": "SsVvC1FH0dQb"
      },
      "source": [
        "m_name=\"vgg16_max\""
      ],
      "execution_count": null,
      "outputs": []
    },
    {
      "cell_type": "code",
      "metadata": {
        "id": "pohv95Er0dQc"
      },
      "source": [
        "model=  get_vgg16_max()\n",
        "model.load_weights(\"\") #best Model 0.4\n",
        "name=\"Model_\"+m_name+\"_\"+base_name\n",
        "_, history  = train(model, X_train, y_train, X_valid, y_valid, X_test, y_test, batch_size=32, epochs=50, model_name=name)"
      ],
      "execution_count": null,
      "outputs": []
    },
    {
      "cell_type": "code",
      "metadata": {
        "id": "y-OEU7HO0dQd"
      },
      "source": [
        "model=  get_vgg16_max() \n",
        "PATH_trained_models = \" \"\n",
        "Final_Results_Test(model,PATH_trained_models)"
      ],
      "execution_count": null,
      "outputs": []
    },
    {
      "cell_type": "code",
      "metadata": {
        "id": "W7zrkgkF0dQe"
      },
      "source": [
        "model=  get_vgg16_max()  \n",
        "PATH_trained_models = \"\"\n",
        "name=\"Model_\"+m_name+\"_\"+base_name\n",
        "res=plot_train_valid(model,PATH_trained_models,name)"
      ],
      "execution_count": null,
      "outputs": []
    },
    {
      "cell_type": "code",
      "metadata": {
        "id": "deFF76AG0dQf"
      },
      "source": [
        "model= get_vgg16_max() \n",
        "model.load_weights(\"\") #best Model train\n",
        "predictions= model.predict(X_test,verbose=0)\n",
        "\n",
        "labels = [\"Cover\",\"Stego\"]\n",
        "model_name=\"vgg16_max SUNI - \"\n",
        "curve4_1,labels4_1=get_curve(y_test, predictions, labels,model_name)"
      ],
      "execution_count": null,
      "outputs": []
    },
    {
      "cell_type": "markdown",
      "metadata": {
        "id": "rPnVXcR90dQg"
      },
      "source": [
        "VGG16Stego Average"
      ]
    },
    {
      "cell_type": "code",
      "metadata": {
        "id": "sJlZ6CkG0dQh"
      },
      "source": [
        "m_name=\"vgg16_avg\""
      ],
      "execution_count": null,
      "outputs": []
    },
    {
      "cell_type": "code",
      "metadata": {
        "id": "_vmaxAbs0dQi"
      },
      "source": [
        "model=  get_vgg16_avg()\n",
        "model.load_weights(\"\") #best Model 0.4\n",
        "name=\"Model_\"+m_name+\"_\"+base_name\n",
        "_, history  = train(model, X_train, y_train, X_valid, y_valid, X_test, y_test, batch_size=32, epochs=50, model_name=name)"
      ],
      "execution_count": null,
      "outputs": []
    },
    {
      "cell_type": "code",
      "metadata": {
        "id": "jYEz-uIu0dQj"
      },
      "source": [
        "model=  get_vgg16_avg() \n",
        "PATH_trained_models = \" \"\n",
        "Final_Results_Test(model,PATH_trained_models)"
      ],
      "execution_count": null,
      "outputs": []
    },
    {
      "cell_type": "code",
      "metadata": {
        "id": "BpJJq8CB0dQm"
      },
      "source": [
        "model=  get_vgg16_avg()  \n",
        "PATH_trained_models = \"\"\n",
        "name=\"Model_\"+m_name+\"_\"+base_name\n",
        "res=plot_train_valid(model,PATH_trained_models,name)"
      ],
      "execution_count": null,
      "outputs": []
    },
    {
      "cell_type": "code",
      "metadata": {
        "id": "yz90XvIL0dQn"
      },
      "source": [
        "model= get_vgg16_avg() \n",
        "model.load_weights(\"\") #best Model train\n",
        "predictions= model.predict(X_test,verbose=0)\n",
        "labels = [\"Cover\",\"Stego\"]\n",
        "model_name=\"vgg16_avg SUNI - \"\n",
        "curve5_1,labels5_1=get_curve(y_test, predictions, labels,model_name)"
      ],
      "execution_count": null,
      "outputs": []
    },
    {
      "cell_type": "markdown",
      "metadata": {
        "id": "L6uqTaQP0dQo"
      },
      "source": [
        "VGG19Stego Max"
      ]
    },
    {
      "cell_type": "code",
      "metadata": {
        "id": "Dk_YH_vL0dQo"
      },
      "source": [
        "m_name=\"vgg19_max\""
      ],
      "execution_count": null,
      "outputs": []
    },
    {
      "cell_type": "code",
      "metadata": {
        "id": "KUIme3cO0dQp"
      },
      "source": [
        "model=  get_vgg19_max()\n",
        "model.load_weights(\"\") #best Model 0.4\n",
        "name=\"Model_\"+m_name+\"_\"+base_name\n",
        "_, history  = train(model, X_train, y_train, X_valid, y_valid, X_test, y_test, batch_size=32, epochs=50, model_name=name)"
      ],
      "execution_count": null,
      "outputs": []
    },
    {
      "cell_type": "code",
      "metadata": {
        "id": "g99OX6cJ0dQq"
      },
      "source": [
        "model=  get_vgg19_max() \n",
        "PATH_trained_models = \" \"\n",
        "Final_Results_Test(model,PATH_trained_models)"
      ],
      "execution_count": null,
      "outputs": []
    },
    {
      "cell_type": "code",
      "metadata": {
        "id": "J9bL19qv0dQr"
      },
      "source": [
        "model=  get_vgg19_max()  \n",
        "PATH_trained_models = \"\"\n",
        "name=\"Model_\"+m_name+\"_\"+base_name\n",
        "res=plot_train_valid(model,PATH_trained_models,name)"
      ],
      "execution_count": null,
      "outputs": []
    },
    {
      "cell_type": "code",
      "metadata": {
        "id": "ZjNwthqF0dQu"
      },
      "source": [
        "model= get_vgg19_max() \n",
        "model.load_weights(\"\") #best Model train\n",
        "predictions= model.predict(X_test,verbose=0)\n",
        "labels = [\"Cover\",\"Stego\"]\n",
        "model_name=\"vgg19_max SUNI - \"\n",
        "curve6_1,labels6_1=get_curve(y_test, predictions, labels,model_name)"
      ],
      "execution_count": null,
      "outputs": []
    },
    {
      "cell_type": "markdown",
      "metadata": {
        "id": "wN-TzSHa0dQw"
      },
      "source": [
        "VGG19Stego Average"
      ]
    },
    {
      "cell_type": "code",
      "metadata": {
        "id": "rlxghLjk0dQx"
      },
      "source": [
        "m_name=\"vgg19_avg\""
      ],
      "execution_count": null,
      "outputs": []
    },
    {
      "cell_type": "code",
      "metadata": {
        "id": "t9UGWLAd0dQy"
      },
      "source": [
        "model=  get_vgg19_avg()\n",
        "model.load_weights(\"\") #best Model 0.4\n",
        "name=\"Model_\"+m_name+\"_\"+base_name\n",
        "_, history  = train(model, X_train, y_train, X_valid, y_valid, X_test, y_test, batch_size=32, epochs=50, model_name=name)"
      ],
      "execution_count": null,
      "outputs": []
    },
    {
      "cell_type": "code",
      "metadata": {
        "id": "1fvZkpew0dQ0"
      },
      "source": [
        "model=  get_vgg19_avg() \n",
        "PATH_trained_models = \" \"\n",
        "Final_Results_Test(model,PATH_trained_models)"
      ],
      "execution_count": null,
      "outputs": []
    },
    {
      "cell_type": "code",
      "metadata": {
        "id": "8gcLAwXV0dQ1"
      },
      "source": [
        "model=  get_vgg19_avg()  \n",
        "PATH_trained_models = \"\"\n",
        "name=\"Model_\"+m_name+\"_\"+base_name\n",
        "res=plot_train_valid(model,PATH_trained_models,name)"
      ],
      "execution_count": null,
      "outputs": []
    },
    {
      "cell_type": "code",
      "metadata": {
        "id": "_pPF1Qlj0dQ3"
      },
      "source": [
        "model= get_vgg19_avg() \n",
        "model.load_weights(\"\") #best Model train\n",
        "predictions= model.predict(X_test,verbose=0)\n",
        "labels = [\"Cover\",\"Stego\"]\n",
        "model_name=\"vgg19_avg SUNI - \"\n",
        "curve7_1,labels7_1=get_curve(y_test, predictions, labels,model_name)"
      ],
      "execution_count": null,
      "outputs": []
    },
    {
      "cell_type": "code",
      "metadata": {
        "id": "bWOItBVm0dQ4"
      },
      "source": [
        "curves=[curve1_1,curve2_1,curve3_1,curve4_1,curve5_1,curve6_1,curve7_1]\n",
        "labels=[labels1_1,labels2_1,labels3_1,labels4_1,labels5_1,labels6_1,labels7_1]\n",
        "\n",
        "for i in  range(len(curves)):\n",
        "      plt.title(\"\")\n",
        "      xlabel = \"False positive rate\"\n",
        "      ylabel = \"True positive rate\"\n",
        "      curve=curves[i]\n",
        "      label=labels[i]\n",
        "      for j in range(2):\n",
        "        l=label[j]\n",
        "        a, b = curve\n",
        "        plt.figure(1, figsize=(180,180))\n",
        "        plt.plot([0, 1], [0, 1], 'k--')\n",
        "        plt.plot(a, b, label=l)\n",
        "        plt.xlabel(xlabel)\n",
        "        plt.ylabel(ylabel)\n",
        "\n",
        "        plt.legend(loc='upper center', bbox_to_anchor=(1.5, 1),\n",
        "                    fancybox=True, ncol=1)\n",
        "results_dir=\"/content/drive/My Drive/ROCS/\"\n",
        "if not os.path.exists(results_dir):\n",
        "  os.makedirs(results_dir)\n",
        "plt.savefig(results_dir+'ROC_'+\"2SUNI0.2\"+'.eps', format='eps')\n",
        "plt.savefig(results_dir+'ROC_'+\"2SUNI0.2\"+'.svg', format='svg')\n",
        "plt.savefig(results_dir+'ROC_'+\"2SUNI0.2\"+'.pdf', format='pdf')"
      ],
      "execution_count": null,
      "outputs": []
    }
  ]
}